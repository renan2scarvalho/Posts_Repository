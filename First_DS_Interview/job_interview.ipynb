{
 "cells": [
  {
   "cell_type": "markdown",
   "metadata": {},
   "source": [
    "# My first Data Science job interview\n",
    "\n",
    "### So this notebook works with some fiction samples to show off the techniques demanded on my first Data Science job interview, which consisted basically working with pandas"
   ]
  },
  {
   "cell_type": "markdown",
   "metadata": {},
   "source": [
    "## Import Samples\n",
    "All samples were created randomly"
   ]
  },
  {
   "cell_type": "code",
   "execution_count": 29,
   "metadata": {},
   "outputs": [],
   "source": [
    "import pandas as pd\n",
    "import warnings\n",
    "import matplotlib.pyplot as plt\n",
    "from mpl_toolkits.mplot3d import Axes3D\n",
    "%matplotlib inline\n",
    "\n",
    "warnings.filterwarnings('ignore')"
   ]
  },
  {
   "cell_type": "code",
   "execution_count": 2,
   "metadata": {},
   "outputs": [],
   "source": [
    "stores = pd.read_excel('samples.xlsx',sheet_name='stores')\n",
    "customer = pd.read_excel('samples.xlsx', sheet_name='customer')\n",
    "product = pd.read_excel('samples.xlsx', sheet_name='products')\n",
    "transactions = pd.read_excel('samples.xlsx', sheet_name='transactions')"
   ]
  },
  {
   "cell_type": "code",
   "execution_count": 3,
   "metadata": {},
   "outputs": [
    {
     "data": {
      "text/plain": [
       "((10, 3), (55, 3), (20, 4), (205, 8))"
      ]
     },
     "execution_count": 3,
     "metadata": {},
     "output_type": "execute_result"
    }
   ],
   "source": [
    "# Lets check the shapes of each df\n",
    "stores.shape, customer.shape, product.shape, transactions.shape"
   ]
  },
  {
   "cell_type": "code",
   "execution_count": 4,
   "metadata": {},
   "outputs": [
    {
     "data": {
      "text/html": [
       "<div>\n",
       "<style scoped>\n",
       "    .dataframe tbody tr th:only-of-type {\n",
       "        vertical-align: middle;\n",
       "    }\n",
       "\n",
       "    .dataframe tbody tr th {\n",
       "        vertical-align: top;\n",
       "    }\n",
       "\n",
       "    .dataframe thead th {\n",
       "        text-align: right;\n",
       "    }\n",
       "</style>\n",
       "<table border=\"1\" class=\"dataframe\">\n",
       "  <thead>\n",
       "    <tr style=\"text-align: right;\">\n",
       "      <th></th>\n",
       "      <th>store_id</th>\n",
       "      <th>store_name</th>\n",
       "      <th>state</th>\n",
       "    </tr>\n",
       "  </thead>\n",
       "  <tbody>\n",
       "    <tr>\n",
       "      <th>0</th>\n",
       "      <td>1</td>\n",
       "      <td>Store A</td>\n",
       "      <td>SP</td>\n",
       "    </tr>\n",
       "    <tr>\n",
       "      <th>1</th>\n",
       "      <td>2</td>\n",
       "      <td>Store B</td>\n",
       "      <td>RJ</td>\n",
       "    </tr>\n",
       "    <tr>\n",
       "      <th>2</th>\n",
       "      <td>3</td>\n",
       "      <td>Store C</td>\n",
       "      <td>MG</td>\n",
       "    </tr>\n",
       "    <tr>\n",
       "      <th>3</th>\n",
       "      <td>4</td>\n",
       "      <td>Store D</td>\n",
       "      <td>MT</td>\n",
       "    </tr>\n",
       "    <tr>\n",
       "      <th>4</th>\n",
       "      <td>5</td>\n",
       "      <td>Store E</td>\n",
       "      <td>RS</td>\n",
       "    </tr>\n",
       "  </tbody>\n",
       "</table>\n",
       "</div>"
      ],
      "text/plain": [
       "   store_id store_name state\n",
       "0         1    Store A    SP\n",
       "1         2    Store B    RJ\n",
       "2         3    Store C    MG\n",
       "3         4    Store D    MT\n",
       "4         5    Store E    RS"
      ]
     },
     "execution_count": 4,
     "metadata": {},
     "output_type": "execute_result"
    }
   ],
   "source": [
    "# now let's print the first 5 lines to see the columns\n",
    "stores.head()"
   ]
  },
  {
   "cell_type": "code",
   "execution_count": 5,
   "metadata": {},
   "outputs": [
    {
     "data": {
      "text/html": [
       "<div>\n",
       "<style scoped>\n",
       "    .dataframe tbody tr th:only-of-type {\n",
       "        vertical-align: middle;\n",
       "    }\n",
       "\n",
       "    .dataframe tbody tr th {\n",
       "        vertical-align: top;\n",
       "    }\n",
       "\n",
       "    .dataframe thead th {\n",
       "        text-align: right;\n",
       "    }\n",
       "</style>\n",
       "<table border=\"1\" class=\"dataframe\">\n",
       "  <thead>\n",
       "    <tr style=\"text-align: right;\">\n",
       "      <th></th>\n",
       "      <th>customer_id</th>\n",
       "      <th>age</th>\n",
       "      <th>gender</th>\n",
       "    </tr>\n",
       "  </thead>\n",
       "  <tbody>\n",
       "    <tr>\n",
       "      <th>0</th>\n",
       "      <td>1</td>\n",
       "      <td>20</td>\n",
       "      <td>F</td>\n",
       "    </tr>\n",
       "    <tr>\n",
       "      <th>1</th>\n",
       "      <td>2</td>\n",
       "      <td>18</td>\n",
       "      <td>M</td>\n",
       "    </tr>\n",
       "    <tr>\n",
       "      <th>2</th>\n",
       "      <td>3</td>\n",
       "      <td>34</td>\n",
       "      <td>M</td>\n",
       "    </tr>\n",
       "    <tr>\n",
       "      <th>3</th>\n",
       "      <td>4</td>\n",
       "      <td>38</td>\n",
       "      <td>F</td>\n",
       "    </tr>\n",
       "    <tr>\n",
       "      <th>4</th>\n",
       "      <td>5</td>\n",
       "      <td>28</td>\n",
       "      <td>M</td>\n",
       "    </tr>\n",
       "  </tbody>\n",
       "</table>\n",
       "</div>"
      ],
      "text/plain": [
       "   customer_id  age gender\n",
       "0            1   20      F\n",
       "1            2   18      M\n",
       "2            3   34      M\n",
       "3            4   38      F\n",
       "4            5   28      M"
      ]
     },
     "execution_count": 5,
     "metadata": {},
     "output_type": "execute_result"
    }
   ],
   "source": [
    "customer.head()"
   ]
  },
  {
   "cell_type": "code",
   "execution_count": 6,
   "metadata": {},
   "outputs": [
    {
     "data": {
      "text/html": [
       "<div>\n",
       "<style scoped>\n",
       "    .dataframe tbody tr th:only-of-type {\n",
       "        vertical-align: middle;\n",
       "    }\n",
       "\n",
       "    .dataframe tbody tr th {\n",
       "        vertical-align: top;\n",
       "    }\n",
       "\n",
       "    .dataframe thead th {\n",
       "        text-align: right;\n",
       "    }\n",
       "</style>\n",
       "<table border=\"1\" class=\"dataframe\">\n",
       "  <thead>\n",
       "    <tr style=\"text-align: right;\">\n",
       "      <th></th>\n",
       "      <th>product_id</th>\n",
       "      <th>product_name</th>\n",
       "      <th>supplier</th>\n",
       "      <th>department</th>\n",
       "    </tr>\n",
       "  </thead>\n",
       "  <tbody>\n",
       "    <tr>\n",
       "      <th>0</th>\n",
       "      <td>1</td>\n",
       "      <td>Product A</td>\n",
       "      <td>Supplier A</td>\n",
       "      <td>Department A</td>\n",
       "    </tr>\n",
       "    <tr>\n",
       "      <th>1</th>\n",
       "      <td>2</td>\n",
       "      <td>Product B</td>\n",
       "      <td>Supplier A</td>\n",
       "      <td>Department A</td>\n",
       "    </tr>\n",
       "    <tr>\n",
       "      <th>2</th>\n",
       "      <td>3</td>\n",
       "      <td>Product C</td>\n",
       "      <td>Supplier A</td>\n",
       "      <td>Department A</td>\n",
       "    </tr>\n",
       "    <tr>\n",
       "      <th>3</th>\n",
       "      <td>4</td>\n",
       "      <td>Product D</td>\n",
       "      <td>Supplier B</td>\n",
       "      <td>Department A</td>\n",
       "    </tr>\n",
       "    <tr>\n",
       "      <th>4</th>\n",
       "      <td>5</td>\n",
       "      <td>Product E</td>\n",
       "      <td>Supplier B</td>\n",
       "      <td>Department A</td>\n",
       "    </tr>\n",
       "  </tbody>\n",
       "</table>\n",
       "</div>"
      ],
      "text/plain": [
       "   product_id product_name    supplier    department\n",
       "0           1    Product A  Supplier A  Department A\n",
       "1           2    Product B  Supplier A  Department A\n",
       "2           3    Product C  Supplier A  Department A\n",
       "3           4    Product D  Supplier B  Department A\n",
       "4           5    Product E  Supplier B  Department A"
      ]
     },
     "execution_count": 6,
     "metadata": {},
     "output_type": "execute_result"
    }
   ],
   "source": [
    "product.head()"
   ]
  },
  {
   "cell_type": "code",
   "execution_count": 7,
   "metadata": {},
   "outputs": [
    {
     "data": {
      "text/html": [
       "<div>\n",
       "<style scoped>\n",
       "    .dataframe tbody tr th:only-of-type {\n",
       "        vertical-align: middle;\n",
       "    }\n",
       "\n",
       "    .dataframe tbody tr th {\n",
       "        vertical-align: top;\n",
       "    }\n",
       "\n",
       "    .dataframe thead th {\n",
       "        text-align: right;\n",
       "    }\n",
       "</style>\n",
       "<table border=\"1\" class=\"dataframe\">\n",
       "  <thead>\n",
       "    <tr style=\"text-align: right;\">\n",
       "      <th></th>\n",
       "      <th>customer_id</th>\n",
       "      <th>store_id</th>\n",
       "      <th>date_id</th>\n",
       "      <th>ticket_id</th>\n",
       "      <th>product_id</th>\n",
       "      <th>unit_price</th>\n",
       "      <th>quantity</th>\n",
       "      <th>sales</th>\n",
       "    </tr>\n",
       "  </thead>\n",
       "  <tbody>\n",
       "    <tr>\n",
       "      <th>0</th>\n",
       "      <td>31</td>\n",
       "      <td>1</td>\n",
       "      <td>2020-04-28</td>\n",
       "      <td>1</td>\n",
       "      <td>13</td>\n",
       "      <td>2</td>\n",
       "      <td>14</td>\n",
       "      <td>28</td>\n",
       "    </tr>\n",
       "    <tr>\n",
       "      <th>1</th>\n",
       "      <td>22</td>\n",
       "      <td>10</td>\n",
       "      <td>2020-03-09</td>\n",
       "      <td>2</td>\n",
       "      <td>17</td>\n",
       "      <td>25</td>\n",
       "      <td>31</td>\n",
       "      <td>775</td>\n",
       "    </tr>\n",
       "    <tr>\n",
       "      <th>2</th>\n",
       "      <td>38</td>\n",
       "      <td>3</td>\n",
       "      <td>2020-05-22</td>\n",
       "      <td>3</td>\n",
       "      <td>4</td>\n",
       "      <td>7</td>\n",
       "      <td>25</td>\n",
       "      <td>175</td>\n",
       "    </tr>\n",
       "    <tr>\n",
       "      <th>3</th>\n",
       "      <td>27</td>\n",
       "      <td>9</td>\n",
       "      <td>2020-04-04</td>\n",
       "      <td>4</td>\n",
       "      <td>18</td>\n",
       "      <td>4</td>\n",
       "      <td>31</td>\n",
       "      <td>124</td>\n",
       "    </tr>\n",
       "    <tr>\n",
       "      <th>4</th>\n",
       "      <td>3</td>\n",
       "      <td>4</td>\n",
       "      <td>2020-02-07</td>\n",
       "      <td>5</td>\n",
       "      <td>2</td>\n",
       "      <td>16</td>\n",
       "      <td>30</td>\n",
       "      <td>480</td>\n",
       "    </tr>\n",
       "  </tbody>\n",
       "</table>\n",
       "</div>"
      ],
      "text/plain": [
       "   customer_id  store_id    date_id  ticket_id  product_id  unit_price  \\\n",
       "0           31         1 2020-04-28          1          13           2   \n",
       "1           22        10 2020-03-09          2          17          25   \n",
       "2           38         3 2020-05-22          3           4           7   \n",
       "3           27         9 2020-04-04          4          18           4   \n",
       "4            3         4 2020-02-07          5           2          16   \n",
       "\n",
       "   quantity  sales  \n",
       "0        14     28  \n",
       "1        31    775  \n",
       "2        25    175  \n",
       "3        31    124  \n",
       "4        30    480  "
      ]
     },
     "execution_count": 7,
     "metadata": {},
     "output_type": "execute_result"
    }
   ],
   "source": [
    "transactions.head()"
   ]
  },
  {
   "cell_type": "markdown",
   "metadata": {},
   "source": [
    "### Question 1\n",
    "Sort (ascending) table \"customer\" by customer_id and remove duplicates:"
   ]
  },
  {
   "cell_type": "code",
   "execution_count": 8,
   "metadata": {},
   "outputs": [
    {
     "name": "stdout",
     "output_type": "stream",
     "text": [
      "(50, 3)\n"
     ]
    },
    {
     "data": {
      "text/html": [
       "<div>\n",
       "<style scoped>\n",
       "    .dataframe tbody tr th:only-of-type {\n",
       "        vertical-align: middle;\n",
       "    }\n",
       "\n",
       "    .dataframe tbody tr th {\n",
       "        vertical-align: top;\n",
       "    }\n",
       "\n",
       "    .dataframe thead th {\n",
       "        text-align: right;\n",
       "    }\n",
       "</style>\n",
       "<table border=\"1\" class=\"dataframe\">\n",
       "  <thead>\n",
       "    <tr style=\"text-align: right;\">\n",
       "      <th></th>\n",
       "      <th>customer_id</th>\n",
       "      <th>age</th>\n",
       "      <th>gender</th>\n",
       "    </tr>\n",
       "  </thead>\n",
       "  <tbody>\n",
       "    <tr>\n",
       "      <th>0</th>\n",
       "      <td>1</td>\n",
       "      <td>20</td>\n",
       "      <td>F</td>\n",
       "    </tr>\n",
       "    <tr>\n",
       "      <th>1</th>\n",
       "      <td>2</td>\n",
       "      <td>18</td>\n",
       "      <td>M</td>\n",
       "    </tr>\n",
       "    <tr>\n",
       "      <th>2</th>\n",
       "      <td>3</td>\n",
       "      <td>34</td>\n",
       "      <td>M</td>\n",
       "    </tr>\n",
       "    <tr>\n",
       "      <th>3</th>\n",
       "      <td>4</td>\n",
       "      <td>38</td>\n",
       "      <td>F</td>\n",
       "    </tr>\n",
       "    <tr>\n",
       "      <th>4</th>\n",
       "      <td>5</td>\n",
       "      <td>28</td>\n",
       "      <td>M</td>\n",
       "    </tr>\n",
       "  </tbody>\n",
       "</table>\n",
       "</div>"
      ],
      "text/plain": [
       "   customer_id  age gender\n",
       "0            1   20      F\n",
       "1            2   18      M\n",
       "2            3   34      M\n",
       "3            4   38      F\n",
       "4            5   28      M"
      ]
     },
     "execution_count": 8,
     "metadata": {},
     "output_type": "execute_result"
    }
   ],
   "source": [
    "# first sort values (ascending=True is default, but it's here to demonstrate)\n",
    "# then drop duplicates with ignore_index=True to label indeces as 0,1,...,n-1\n",
    "customer = customer.sort_values(by='customer_id', ascending=True).drop_duplicates(ignore_index=True)\n",
    "print(customer.shape)\n",
    "customer.head()"
   ]
  },
  {
   "cell_type": "markdown",
   "metadata": {},
   "source": [
    "### Question 2\n",
    "Create table \"transaction_cube\" merging all tables:"
   ]
  },
  {
   "cell_type": "code",
   "execution_count": 9,
   "metadata": {},
   "outputs": [
    {
     "name": "stdout",
     "output_type": "stream",
     "text": [
      "(153, 15)\n"
     ]
    },
    {
     "data": {
      "text/html": [
       "<div>\n",
       "<style scoped>\n",
       "    .dataframe tbody tr th:only-of-type {\n",
       "        vertical-align: middle;\n",
       "    }\n",
       "\n",
       "    .dataframe tbody tr th {\n",
       "        vertical-align: top;\n",
       "    }\n",
       "\n",
       "    .dataframe thead th {\n",
       "        text-align: right;\n",
       "    }\n",
       "</style>\n",
       "<table border=\"1\" class=\"dataframe\">\n",
       "  <thead>\n",
       "    <tr style=\"text-align: right;\">\n",
       "      <th></th>\n",
       "      <th>customer_id</th>\n",
       "      <th>store_id</th>\n",
       "      <th>date_id</th>\n",
       "      <th>ticket_id</th>\n",
       "      <th>product_id</th>\n",
       "      <th>unit_price</th>\n",
       "      <th>quantity</th>\n",
       "      <th>sales</th>\n",
       "      <th>store_name</th>\n",
       "      <th>state</th>\n",
       "      <th>age</th>\n",
       "      <th>gender</th>\n",
       "      <th>product_name</th>\n",
       "      <th>supplier</th>\n",
       "      <th>department</th>\n",
       "    </tr>\n",
       "  </thead>\n",
       "  <tbody>\n",
       "    <tr>\n",
       "      <th>0</th>\n",
       "      <td>31</td>\n",
       "      <td>1</td>\n",
       "      <td>2020-04-28</td>\n",
       "      <td>1</td>\n",
       "      <td>13</td>\n",
       "      <td>2</td>\n",
       "      <td>14</td>\n",
       "      <td>28</td>\n",
       "      <td>Store A</td>\n",
       "      <td>SP</td>\n",
       "      <td>24</td>\n",
       "      <td>M</td>\n",
       "      <td>Product M</td>\n",
       "      <td>Supplier E</td>\n",
       "      <td>Department B</td>\n",
       "    </tr>\n",
       "    <tr>\n",
       "      <th>1</th>\n",
       "      <td>33</td>\n",
       "      <td>6</td>\n",
       "      <td>2020-03-19</td>\n",
       "      <td>96</td>\n",
       "      <td>13</td>\n",
       "      <td>21</td>\n",
       "      <td>11</td>\n",
       "      <td>231</td>\n",
       "      <td>Store F</td>\n",
       "      <td>RN</td>\n",
       "      <td>32</td>\n",
       "      <td>M</td>\n",
       "      <td>Product M</td>\n",
       "      <td>Supplier E</td>\n",
       "      <td>Department B</td>\n",
       "    </tr>\n",
       "    <tr>\n",
       "      <th>2</th>\n",
       "      <td>37</td>\n",
       "      <td>2</td>\n",
       "      <td>2020-05-18</td>\n",
       "      <td>27</td>\n",
       "      <td>13</td>\n",
       "      <td>17</td>\n",
       "      <td>35</td>\n",
       "      <td>595</td>\n",
       "      <td>Store B</td>\n",
       "      <td>RJ</td>\n",
       "      <td>40</td>\n",
       "      <td>M</td>\n",
       "      <td>Product M</td>\n",
       "      <td>Supplier E</td>\n",
       "      <td>Department B</td>\n",
       "    </tr>\n",
       "    <tr>\n",
       "      <th>3</th>\n",
       "      <td>42</td>\n",
       "      <td>10</td>\n",
       "      <td>2020-05-24</td>\n",
       "      <td>42</td>\n",
       "      <td>13</td>\n",
       "      <td>30</td>\n",
       "      <td>43</td>\n",
       "      <td>1290</td>\n",
       "      <td>Store J</td>\n",
       "      <td>RN</td>\n",
       "      <td>24</td>\n",
       "      <td>M</td>\n",
       "      <td>Product M</td>\n",
       "      <td>Supplier E</td>\n",
       "      <td>Department B</td>\n",
       "    </tr>\n",
       "    <tr>\n",
       "      <th>4</th>\n",
       "      <td>10</td>\n",
       "      <td>3</td>\n",
       "      <td>2020-04-27</td>\n",
       "      <td>50</td>\n",
       "      <td>13</td>\n",
       "      <td>6</td>\n",
       "      <td>7</td>\n",
       "      <td>42</td>\n",
       "      <td>Store C</td>\n",
       "      <td>MG</td>\n",
       "      <td>23</td>\n",
       "      <td>F</td>\n",
       "      <td>Product M</td>\n",
       "      <td>Supplier E</td>\n",
       "      <td>Department B</td>\n",
       "    </tr>\n",
       "  </tbody>\n",
       "</table>\n",
       "</div>"
      ],
      "text/plain": [
       "   customer_id  store_id    date_id  ticket_id  product_id  unit_price  \\\n",
       "0           31         1 2020-04-28          1          13           2   \n",
       "1           33         6 2020-03-19         96          13          21   \n",
       "2           37         2 2020-05-18         27          13          17   \n",
       "3           42        10 2020-05-24         42          13          30   \n",
       "4           10         3 2020-04-27         50          13           6   \n",
       "\n",
       "   quantity  sales store_name state  age gender product_name    supplier  \\\n",
       "0        14     28    Store A    SP   24      M    Product M  Supplier E   \n",
       "1        11    231    Store F    RN   32      M    Product M  Supplier E   \n",
       "2        35    595    Store B    RJ   40      M    Product M  Supplier E   \n",
       "3        43   1290    Store J    RN   24      M    Product M  Supplier E   \n",
       "4         7     42    Store C    MG   23      F    Product M  Supplier E   \n",
       "\n",
       "     department  \n",
       "0  Department B  \n",
       "1  Department B  \n",
       "2  Department B  \n",
       "3  Department B  \n",
       "4  Department B  "
      ]
     },
     "execution_count": 9,
     "metadata": {},
     "output_type": "execute_result"
    }
   ],
   "source": [
    "# pandas merge has by default inner join, which we can apply to merge the fact table transactions\n",
    "# merging over the fact SKs and all other PKs of the dimension tables\n",
    "transactions_stores = transactions.merge(stores, on='store_id') # SK store_id\n",
    "transactions_customer = transactions_stores.merge(customer, on='customer_id') # SK customer_id\n",
    "transaction_cube = transactions_customer.merge(product, on='product_id') # SK product_id\n",
    "print(transaction_cube.shape)\n",
    "transaction_cube.head()"
   ]
  },
  {
   "cell_type": "markdown",
   "metadata": {},
   "source": [
    "### Question 3\n",
    "Create table \"customer_ids\" with customers that exists in the \"transactions\" table but not in the \"customer\" table:"
   ]
  },
  {
   "cell_type": "code",
   "execution_count": 10,
   "metadata": {},
   "outputs": [
    {
     "data": {
      "text/html": [
       "<div>\n",
       "<style scoped>\n",
       "    .dataframe tbody tr th:only-of-type {\n",
       "        vertical-align: middle;\n",
       "    }\n",
       "\n",
       "    .dataframe tbody tr th {\n",
       "        vertical-align: top;\n",
       "    }\n",
       "\n",
       "    .dataframe thead th {\n",
       "        text-align: right;\n",
       "    }\n",
       "</style>\n",
       "<table border=\"1\" class=\"dataframe\">\n",
       "  <thead>\n",
       "    <tr style=\"text-align: right;\">\n",
       "      <th></th>\n",
       "      <th>customer_id</th>\n",
       "      <th>store_id</th>\n",
       "      <th>date_id</th>\n",
       "      <th>ticket_id</th>\n",
       "      <th>product_id</th>\n",
       "      <th>unit_price</th>\n",
       "      <th>quantity</th>\n",
       "      <th>sales</th>\n",
       "      <th>age</th>\n",
       "      <th>gender</th>\n",
       "    </tr>\n",
       "  </thead>\n",
       "  <tbody>\n",
       "    <tr>\n",
       "      <th>200</th>\n",
       "      <td>51</td>\n",
       "      <td>13.0</td>\n",
       "      <td>2020-05-03</td>\n",
       "      <td>4.0</td>\n",
       "      <td>16.0</td>\n",
       "      <td>22.0</td>\n",
       "      <td>40.0</td>\n",
       "      <td>880.0</td>\n",
       "      <td>NaN</td>\n",
       "      <td>NaN</td>\n",
       "    </tr>\n",
       "    <tr>\n",
       "      <th>201</th>\n",
       "      <td>52</td>\n",
       "      <td>3.0</td>\n",
       "      <td>2020-07-31</td>\n",
       "      <td>8.0</td>\n",
       "      <td>13.0</td>\n",
       "      <td>7.0</td>\n",
       "      <td>50.0</td>\n",
       "      <td>350.0</td>\n",
       "      <td>NaN</td>\n",
       "      <td>NaN</td>\n",
       "    </tr>\n",
       "    <tr>\n",
       "      <th>202</th>\n",
       "      <td>53</td>\n",
       "      <td>16.0</td>\n",
       "      <td>2020-05-09</td>\n",
       "      <td>1.0</td>\n",
       "      <td>7.0</td>\n",
       "      <td>9.0</td>\n",
       "      <td>33.0</td>\n",
       "      <td>297.0</td>\n",
       "      <td>NaN</td>\n",
       "      <td>NaN</td>\n",
       "    </tr>\n",
       "    <tr>\n",
       "      <th>203</th>\n",
       "      <td>54</td>\n",
       "      <td>8.0</td>\n",
       "      <td>2020-07-29</td>\n",
       "      <td>10.0</td>\n",
       "      <td>8.0</td>\n",
       "      <td>10.0</td>\n",
       "      <td>36.0</td>\n",
       "      <td>360.0</td>\n",
       "      <td>NaN</td>\n",
       "      <td>NaN</td>\n",
       "    </tr>\n",
       "    <tr>\n",
       "      <th>204</th>\n",
       "      <td>55</td>\n",
       "      <td>10.0</td>\n",
       "      <td>2020-04-02</td>\n",
       "      <td>15.0</td>\n",
       "      <td>10.0</td>\n",
       "      <td>29.0</td>\n",
       "      <td>30.0</td>\n",
       "      <td>870.0</td>\n",
       "      <td>NaN</td>\n",
       "      <td>NaN</td>\n",
       "    </tr>\n",
       "  </tbody>\n",
       "</table>\n",
       "</div>"
      ],
      "text/plain": [
       "     customer_id  store_id    date_id  ticket_id  product_id  unit_price  \\\n",
       "200           51      13.0 2020-05-03        4.0        16.0        22.0   \n",
       "201           52       3.0 2020-07-31        8.0        13.0         7.0   \n",
       "202           53      16.0 2020-05-09        1.0         7.0         9.0   \n",
       "203           54       8.0 2020-07-29       10.0         8.0        10.0   \n",
       "204           55      10.0 2020-04-02       15.0        10.0        29.0   \n",
       "\n",
       "     quantity  sales  age gender  \n",
       "200      40.0  880.0  NaN    NaN  \n",
       "201      50.0  350.0  NaN    NaN  \n",
       "202      33.0  297.0  NaN    NaN  \n",
       "203      36.0  360.0  NaN    NaN  \n",
       "204      30.0  870.0  NaN    NaN  "
      ]
     },
     "execution_count": 10,
     "metadata": {},
     "output_type": "execute_result"
    }
   ],
   "source": [
    "# we apply an outer join with an indicator where customer_id is present on left table (\"transaction\") only \n",
    "customer_ids = transactions.merge(customer, indicator='i', how='outer').query('i == \"left_only\"').drop('i',axis=1)\n",
    "customer_ids"
   ]
  },
  {
   "cell_type": "markdown",
   "metadata": {},
   "source": [
    "### Question 4\n",
    "Create table \"customer_summary\" with the following variables:\n",
    "- customer_id\n",
    "- department -> count of departments\n",
    "- total_sales -> sum of sales\n",
    "- total_quantity -> sum of quantity\n",
    "- average_ticket -> mean of sales\n",
    "- last_visit"
   ]
  },
  {
   "cell_type": "code",
   "execution_count": 11,
   "metadata": {},
   "outputs": [
    {
     "data": {
      "text/html": [
       "<div>\n",
       "<style scoped>\n",
       "    .dataframe tbody tr th:only-of-type {\n",
       "        vertical-align: middle;\n",
       "    }\n",
       "\n",
       "    .dataframe tbody tr th {\n",
       "        vertical-align: top;\n",
       "    }\n",
       "\n",
       "    .dataframe thead th {\n",
       "        text-align: right;\n",
       "    }\n",
       "</style>\n",
       "<table border=\"1\" class=\"dataframe\">\n",
       "  <thead>\n",
       "    <tr style=\"text-align: right;\">\n",
       "      <th></th>\n",
       "      <th>department</th>\n",
       "      <th>total_sales</th>\n",
       "      <th>total_quantity</th>\n",
       "      <th>average_ticket</th>\n",
       "      <th>last_visit</th>\n",
       "    </tr>\n",
       "    <tr>\n",
       "      <th>customer_id</th>\n",
       "      <th></th>\n",
       "      <th></th>\n",
       "      <th></th>\n",
       "      <th></th>\n",
       "      <th></th>\n",
       "    </tr>\n",
       "  </thead>\n",
       "  <tbody>\n",
       "    <tr>\n",
       "      <th>1</th>\n",
       "      <td>1</td>\n",
       "      <td>484</td>\n",
       "      <td>22</td>\n",
       "      <td>484.000000</td>\n",
       "      <td>2020-04-07</td>\n",
       "    </tr>\n",
       "    <tr>\n",
       "      <th>2</th>\n",
       "      <td>2</td>\n",
       "      <td>726</td>\n",
       "      <td>46</td>\n",
       "      <td>363.000000</td>\n",
       "      <td>2020-03-12</td>\n",
       "    </tr>\n",
       "    <tr>\n",
       "      <th>3</th>\n",
       "      <td>3</td>\n",
       "      <td>1508</td>\n",
       "      <td>81</td>\n",
       "      <td>502.666667</td>\n",
       "      <td>2020-06-17</td>\n",
       "    </tr>\n",
       "    <tr>\n",
       "      <th>4</th>\n",
       "      <td>3</td>\n",
       "      <td>1380</td>\n",
       "      <td>66</td>\n",
       "      <td>460.000000</td>\n",
       "      <td>2020-05-26</td>\n",
       "    </tr>\n",
       "    <tr>\n",
       "      <th>5</th>\n",
       "      <td>3</td>\n",
       "      <td>1812</td>\n",
       "      <td>82</td>\n",
       "      <td>604.000000</td>\n",
       "      <td>2020-04-16</td>\n",
       "    </tr>\n",
       "  </tbody>\n",
       "</table>\n",
       "</div>"
      ],
      "text/plain": [
       "             department  total_sales  total_quantity  average_ticket  \\\n",
       "customer_id                                                            \n",
       "1                     1          484              22      484.000000   \n",
       "2                     2          726              46      363.000000   \n",
       "3                     3         1508              81      502.666667   \n",
       "4                     3         1380              66      460.000000   \n",
       "5                     3         1812              82      604.000000   \n",
       "\n",
       "            last_visit  \n",
       "customer_id             \n",
       "1           2020-04-07  \n",
       "2           2020-03-12  \n",
       "3           2020-06-17  \n",
       "4           2020-05-26  \n",
       "5           2020-04-16  "
      ]
     },
     "execution_count": 11,
     "metadata": {},
     "output_type": "execute_result"
    }
   ],
   "source": [
    "# we must groupby the variables by customer_id, making the necessary operations for each case\n",
    "transaction_cube['date_id'] = pd.to_datetime(transaction_cube['date_id']) # date_id as datetime\n",
    "customer_id = sorted(transaction_cube['customer_id'].unique())\n",
    "customer_summary = pd.DataFrame(customer_id, columns=['customer_id'])\n",
    "customer_summary['department'] = transaction_cube.groupby(['customer_id'])['department'].count().to_list()\n",
    "customer_summary['total_sales'] = transaction_cube.groupby(['customer_id'])['sales'].sum().to_list()\n",
    "customer_summary['total_quantity'] = transaction_cube.groupby(['customer_id'])['quantity'].sum().to_list()\n",
    "customer_summary['average_ticket'] = transaction_cube.groupby(['customer_id'])['sales'].mean().to_list()\n",
    "customer_summary['last_visit'] = transaction_cube.groupby(['customer_id'])['date_id'].max().to_list()\n",
    "customer_summary.set_index('customer_id', inplace=True)\n",
    "customer_summary.head()"
   ]
  },
  {
   "cell_type": "markdown",
   "metadata": {},
   "source": [
    "### Question 5\n",
    "Create table \"customer_metrics\" with the following variables:\n",
    "- customer_id\n",
    "- department\n",
    "- total_sales\n",
    "- total_quantity\n",
    "- product_name -> product that sold the most per consumer\n",
    "- price_median -> median of price"
   ]
  },
  {
   "cell_type": "code",
   "execution_count": 12,
   "metadata": {},
   "outputs": [
    {
     "data": {
      "text/html": [
       "<div>\n",
       "<style scoped>\n",
       "    .dataframe tbody tr th:only-of-type {\n",
       "        vertical-align: middle;\n",
       "    }\n",
       "\n",
       "    .dataframe tbody tr th {\n",
       "        vertical-align: top;\n",
       "    }\n",
       "\n",
       "    .dataframe thead th {\n",
       "        text-align: right;\n",
       "    }\n",
       "</style>\n",
       "<table border=\"1\" class=\"dataframe\">\n",
       "  <thead>\n",
       "    <tr style=\"text-align: right;\">\n",
       "      <th></th>\n",
       "      <th>department</th>\n",
       "      <th>total_sales</th>\n",
       "      <th>total_quantity</th>\n",
       "      <th>average_ticket</th>\n",
       "      <th>last_visit</th>\n",
       "      <th>product_name</th>\n",
       "      <th>price_median</th>\n",
       "    </tr>\n",
       "    <tr>\n",
       "      <th>customer_id</th>\n",
       "      <th></th>\n",
       "      <th></th>\n",
       "      <th></th>\n",
       "      <th></th>\n",
       "      <th></th>\n",
       "      <th></th>\n",
       "      <th></th>\n",
       "    </tr>\n",
       "  </thead>\n",
       "  <tbody>\n",
       "    <tr>\n",
       "      <th>1</th>\n",
       "      <td>1</td>\n",
       "      <td>484</td>\n",
       "      <td>22</td>\n",
       "      <td>484.000000</td>\n",
       "      <td>2020-04-07</td>\n",
       "      <td>Product C</td>\n",
       "      <td>22.0</td>\n",
       "    </tr>\n",
       "    <tr>\n",
       "      <th>2</th>\n",
       "      <td>2</td>\n",
       "      <td>726</td>\n",
       "      <td>46</td>\n",
       "      <td>363.000000</td>\n",
       "      <td>2020-03-12</td>\n",
       "      <td>Product N</td>\n",
       "      <td>21.0</td>\n",
       "    </tr>\n",
       "    <tr>\n",
       "      <th>3</th>\n",
       "      <td>3</td>\n",
       "      <td>1508</td>\n",
       "      <td>81</td>\n",
       "      <td>502.666667</td>\n",
       "      <td>2020-06-17</td>\n",
       "      <td>Product H</td>\n",
       "      <td>16.0</td>\n",
       "    </tr>\n",
       "    <tr>\n",
       "      <th>4</th>\n",
       "      <td>3</td>\n",
       "      <td>1380</td>\n",
       "      <td>66</td>\n",
       "      <td>460.000000</td>\n",
       "      <td>2020-05-26</td>\n",
       "      <td>Product L</td>\n",
       "      <td>16.0</td>\n",
       "    </tr>\n",
       "    <tr>\n",
       "      <th>5</th>\n",
       "      <td>3</td>\n",
       "      <td>1812</td>\n",
       "      <td>82</td>\n",
       "      <td>604.000000</td>\n",
       "      <td>2020-04-16</td>\n",
       "      <td>Product R</td>\n",
       "      <td>20.0</td>\n",
       "    </tr>\n",
       "  </tbody>\n",
       "</table>\n",
       "</div>"
      ],
      "text/plain": [
       "             department  total_sales  total_quantity  average_ticket  \\\n",
       "customer_id                                                            \n",
       "1                     1          484              22      484.000000   \n",
       "2                     2          726              46      363.000000   \n",
       "3                     3         1508              81      502.666667   \n",
       "4                     3         1380              66      460.000000   \n",
       "5                     3         1812              82      604.000000   \n",
       "\n",
       "            last_visit product_name  price_median  \n",
       "customer_id                                        \n",
       "1           2020-04-07    Product C          22.0  \n",
       "2           2020-03-12    Product N          21.0  \n",
       "3           2020-06-17    Product H          16.0  \n",
       "4           2020-05-26    Product L          16.0  \n",
       "5           2020-04-16    Product R          20.0  "
      ]
     },
     "execution_count": 12,
     "metadata": {},
     "output_type": "execute_result"
    }
   ],
   "source": [
    "customer_metrics = customer_summary.copy()\n",
    "gb = transaction_cube.groupby(['customer_id','product_name']).count(); gb.reset_index(inplace=True)\n",
    "gb = gb.sort_values('store_id', ascending=False).groupby(['customer_id']).first()\n",
    "customer_metrics['product_name'] = gb['product_name']\n",
    "customer_metrics['price_median'] = transaction_cube.groupby(['customer_id'])['unit_price'].median()\n",
    "customer_metrics.head()"
   ]
  },
  {
   "cell_type": "markdown",
   "metadata": {},
   "source": [
    "## Clustering\n",
    "Now, just to step inside <i>machine learning</i> a little, let's apply a cluster model in this small sample. We'll apply <b>KMeans</b> clustering algorithm to cluster the customers:"
   ]
  },
  {
   "cell_type": "code",
   "execution_count": 13,
   "metadata": {},
   "outputs": [
    {
     "data": {
      "text/html": [
       "<div>\n",
       "<style scoped>\n",
       "    .dataframe tbody tr th:only-of-type {\n",
       "        vertical-align: middle;\n",
       "    }\n",
       "\n",
       "    .dataframe tbody tr th {\n",
       "        vertical-align: top;\n",
       "    }\n",
       "\n",
       "    .dataframe thead th {\n",
       "        text-align: right;\n",
       "    }\n",
       "</style>\n",
       "<table border=\"1\" class=\"dataframe\">\n",
       "  <thead>\n",
       "    <tr style=\"text-align: right;\">\n",
       "      <th></th>\n",
       "      <th>monetary</th>\n",
       "      <th>recency</th>\n",
       "      <th>frequency</th>\n",
       "    </tr>\n",
       "    <tr>\n",
       "      <th>customer_id</th>\n",
       "      <th></th>\n",
       "      <th></th>\n",
       "      <th></th>\n",
       "    </tr>\n",
       "  </thead>\n",
       "  <tbody>\n",
       "    <tr>\n",
       "      <th>1</th>\n",
       "      <td>484.000000</td>\n",
       "      <td>115</td>\n",
       "      <td>1</td>\n",
       "    </tr>\n",
       "    <tr>\n",
       "      <th>2</th>\n",
       "      <td>363.000000</td>\n",
       "      <td>153</td>\n",
       "      <td>2</td>\n",
       "    </tr>\n",
       "    <tr>\n",
       "      <th>3</th>\n",
       "      <td>502.666667</td>\n",
       "      <td>175</td>\n",
       "      <td>3</td>\n",
       "    </tr>\n",
       "    <tr>\n",
       "      <th>4</th>\n",
       "      <td>460.000000</td>\n",
       "      <td>165</td>\n",
       "      <td>3</td>\n",
       "    </tr>\n",
       "    <tr>\n",
       "      <th>5</th>\n",
       "      <td>604.000000</td>\n",
       "      <td>175</td>\n",
       "      <td>3</td>\n",
       "    </tr>\n",
       "  </tbody>\n",
       "</table>\n",
       "</div>"
      ],
      "text/plain": [
       "               monetary  recency  frequency\n",
       "customer_id                                \n",
       "1            484.000000      115          1\n",
       "2            363.000000      153          2\n",
       "3            502.666667      175          3\n",
       "4            460.000000      165          3\n",
       "5            604.000000      175          3"
      ]
     },
     "execution_count": 13,
     "metadata": {},
     "output_type": "execute_result"
    }
   ],
   "source": [
    "df = customer_metrics[['average_ticket']]\n",
    "df['first_visit'] = transaction_cube.groupby(['customer_id'])['date_id'].min().to_list()\n",
    "df['recency'] = transaction_cube['date_id'].max() - df['first_visit']\n",
    "df['recency'] = df['recency'].dt.days\n",
    "df.drop('first_visit', axis=1, inplace=True)\n",
    "df.columns = ['monetary','recency']\n",
    "df['frequency'] = transaction_cube.customer_id.value_counts().sort_index().to_list()\n",
    "#df.reset_index(inplace=True); df.drop('customer_id', axis=1, inplace=True)\n",
    "df.head()"
   ]
  },
  {
   "cell_type": "code",
   "execution_count": 31,
   "metadata": {},
   "outputs": [
    {
     "data": {
      "image/png": "[encoded data removed]",
      "text/plain": [
       "<Figure size 864x432 with 3 Axes>"
      ]
     },
     "metadata": {
      "needs_background": "light"
     },
     "output_type": "display_data"
    }
   ],
   "source": [
    "fig, (ax1, ax2, ax3) = plt.subplots(1,3, figsize=(12,6))\n",
    "ax1.hist(df.monetary); ax1.set_xlabel('monetary');\n",
    "ax2.hist(df.recency); ax2.set_xlabel('recency');\n",
    "ax3.hist(df.frequency); ax3.set_xlabel('frequency');"
   ]
  },
  {
   "cell_type": "code",
   "execution_count": 14,
   "metadata": {},
   "outputs": [],
   "source": [
    "from sklearn.preprocessing import StandardScaler\n",
    "from sklearn.cluster import KMeans"
   ]
  },
  {
   "cell_type": "code",
   "execution_count": 15,
   "metadata": {},
   "outputs": [
    {
     "name": "stdout",
     "output_type": "stream",
     "text": [
      "(46, 3)\n"
     ]
    },
    {
     "data": {
      "text/html": [
       "<div>\n",
       "<style scoped>\n",
       "    .dataframe tbody tr th:only-of-type {\n",
       "        vertical-align: middle;\n",
       "    }\n",
       "\n",
       "    .dataframe tbody tr th {\n",
       "        vertical-align: top;\n",
       "    }\n",
       "\n",
       "    .dataframe thead th {\n",
       "        text-align: right;\n",
       "    }\n",
       "</style>\n",
       "<table border=\"1\" class=\"dataframe\">\n",
       "  <thead>\n",
       "    <tr style=\"text-align: right;\">\n",
       "      <th></th>\n",
       "      <th>monetary</th>\n",
       "      <th>recency</th>\n",
       "      <th>frequency</th>\n",
       "    </tr>\n",
       "  </thead>\n",
       "  <tbody>\n",
       "    <tr>\n",
       "      <th>0</th>\n",
       "      <td>0.471626</td>\n",
       "      <td>-0.602176</td>\n",
       "      <td>-1.132354</td>\n",
       "    </tr>\n",
       "    <tr>\n",
       "      <th>1</th>\n",
       "      <td>-0.199901</td>\n",
       "      <td>0.438975</td>\n",
       "      <td>-0.645548</td>\n",
       "    </tr>\n",
       "    <tr>\n",
       "      <th>2</th>\n",
       "      <td>0.575223</td>\n",
       "      <td>1.041747</td>\n",
       "      <td>-0.158741</td>\n",
       "    </tr>\n",
       "    <tr>\n",
       "      <th>3</th>\n",
       "      <td>0.338431</td>\n",
       "      <td>0.767760</td>\n",
       "      <td>-0.158741</td>\n",
       "    </tr>\n",
       "    <tr>\n",
       "      <th>4</th>\n",
       "      <td>1.137603</td>\n",
       "      <td>1.041747</td>\n",
       "      <td>-0.158741</td>\n",
       "    </tr>\n",
       "  </tbody>\n",
       "</table>\n",
       "</div>"
      ],
      "text/plain": [
       "   monetary   recency  frequency\n",
       "0  0.471626 -0.602176  -1.132354\n",
       "1 -0.199901  0.438975  -0.645548\n",
       "2  0.575223  1.041747  -0.158741\n",
       "3  0.338431  0.767760  -0.158741\n",
       "4  1.137603  1.041747  -0.158741"
      ]
     },
     "execution_count": 15,
     "metadata": {},
     "output_type": "execute_result"
    }
   ],
   "source": [
    "scaler = StandardScaler()\n",
    "df_scaled = scaler.fit_transform(df)\n",
    "print(df_scaled.shape)\n",
    "df_scaled = pd.DataFrame(df_scaled)\n",
    "df_scaled.columns = ['monetary','recency','frequency']\n",
    "df_scaled.head()"
   ]
  },
  {
   "cell_type": "code",
   "execution_count": 16,
   "metadata": {},
   "outputs": [],
   "source": [
    "from sklearn.neighbors import NearestNeighbors\n",
    "from random import sample\n",
    "from numpy.random import uniform\n",
    "import numpy as np\n",
    "from math import isnan\n",
    "\n",
    "# hopkins statistic indicates the cluster tendency (how well data can be clustered)\n",
    "# values above 0.7 have a high tendency of cluster\n",
    "def hopkins(X):\n",
    "    d = X.shape[1]\n",
    "    n = len(X) \n",
    "    m = int(0.1 * n) \n",
    "    nbrs = NearestNeighbors(n_neighbors=1).fit(X.values)\n",
    " \n",
    "    rand_X = sample(range(0, n, 1), m)\n",
    " \n",
    "    ujd = []\n",
    "    wjd = []\n",
    "    for j in range(0, m):\n",
    "        u_dist, _ = nbrs.kneighbors(uniform(np.amin(X,axis=0),np.amax(X,axis=0),d).reshape(1, -1), 2, \n",
    "                                    return_distance=True)\n",
    "        ujd.append(u_dist[0][1])\n",
    "        w_dist, _ = nbrs.kneighbors(X.iloc[rand_X[j]].values.reshape(1, -1), 2, return_distance=True)\n",
    "        wjd.append(w_dist[0][1])\n",
    " \n",
    "    H = sum(ujd) / (sum(ujd) + sum(wjd))\n",
    "    if isnan(H):\n",
    "        print(ujd, wjd)\n",
    "        H = 0\n",
    " \n",
    "    return H"
   ]
  },
  {
   "cell_type": "code",
   "execution_count": 17,
   "metadata": {},
   "outputs": [
    {
     "data": {
      "text/plain": [
       "0.7197729529893124"
      ]
     },
     "execution_count": 17,
     "metadata": {},
     "output_type": "execute_result"
    }
   ],
   "source": [
    "hopkins(df_scaled)"
   ]
  },
  {
   "cell_type": "code",
   "execution_count": 18,
   "metadata": {},
   "outputs": [
    {
     "data": {
      "text/plain": [
       "KMeans(max_iter=50, n_clusters=3)"
      ]
     },
     "execution_count": 18,
     "metadata": {},
     "output_type": "execute_result"
    }
   ],
   "source": [
    "kmeans = KMeans(n_clusters=3, max_iter=50)\n",
    "kmeans.fit(df_scaled)"
   ]
  },
  {
   "cell_type": "code",
   "execution_count": 19,
   "metadata": {},
   "outputs": [
    {
     "data": {
      "text/html": [
       "<div>\n",
       "<style scoped>\n",
       "    .dataframe tbody tr th:only-of-type {\n",
       "        vertical-align: middle;\n",
       "    }\n",
       "\n",
       "    .dataframe tbody tr th {\n",
       "        vertical-align: top;\n",
       "    }\n",
       "\n",
       "    .dataframe thead th {\n",
       "        text-align: right;\n",
       "    }\n",
       "</style>\n",
       "<table border=\"1\" class=\"dataframe\">\n",
       "  <thead>\n",
       "    <tr style=\"text-align: right;\">\n",
       "      <th></th>\n",
       "      <th>monetary</th>\n",
       "      <th>recency</th>\n",
       "      <th>frequency</th>\n",
       "      <th>cluster</th>\n",
       "    </tr>\n",
       "    <tr>\n",
       "      <th>customer_id</th>\n",
       "      <th></th>\n",
       "      <th></th>\n",
       "      <th></th>\n",
       "      <th></th>\n",
       "    </tr>\n",
       "  </thead>\n",
       "  <tbody>\n",
       "    <tr>\n",
       "      <th>1</th>\n",
       "      <td>484.000000</td>\n",
       "      <td>115</td>\n",
       "      <td>1</td>\n",
       "      <td>2</td>\n",
       "    </tr>\n",
       "    <tr>\n",
       "      <th>2</th>\n",
       "      <td>363.000000</td>\n",
       "      <td>153</td>\n",
       "      <td>2</td>\n",
       "      <td>0</td>\n",
       "    </tr>\n",
       "    <tr>\n",
       "      <th>3</th>\n",
       "      <td>502.666667</td>\n",
       "      <td>175</td>\n",
       "      <td>3</td>\n",
       "      <td>0</td>\n",
       "    </tr>\n",
       "    <tr>\n",
       "      <th>4</th>\n",
       "      <td>460.000000</td>\n",
       "      <td>165</td>\n",
       "      <td>3</td>\n",
       "      <td>0</td>\n",
       "    </tr>\n",
       "    <tr>\n",
       "      <th>5</th>\n",
       "      <td>604.000000</td>\n",
       "      <td>175</td>\n",
       "      <td>3</td>\n",
       "      <td>0</td>\n",
       "    </tr>\n",
       "  </tbody>\n",
       "</table>\n",
       "</div>"
      ],
      "text/plain": [
       "               monetary  recency  frequency  cluster\n",
       "customer_id                                         \n",
       "1            484.000000      115          1        2\n",
       "2            363.000000      153          2        0\n",
       "3            502.666667      175          3        0\n",
       "4            460.000000      165          3        0\n",
       "5            604.000000      175          3        0"
      ]
     },
     "execution_count": 19,
     "metadata": {},
     "output_type": "execute_result"
    }
   ],
   "source": [
    "df['cluster'] = kmeans.labels_\n",
    "df.head()"
   ]
  },
  {
   "cell_type": "code",
   "execution_count": 28,
   "metadata": {},
   "outputs": [
    {
     "data": {
      "image/png": "[encoded data removed]",
      "text/plain": [
       "<Figure size 432x288 with 1 Axes>"
      ]
     },
     "metadata": {
      "needs_background": "light"
     },
     "output_type": "display_data"
    }
   ],
   "source": [
    "df['color'] = df['cluster'].map({0:'royalblue', 1:'darkorange', 2:'green'})\n",
    "fig = plt.figure(); ax = Axes3D(fig)\n",
    "ax.scatter(df.monetary, df.frequency, df.recency, c=df.color, s=40)\n",
    "ax.set_xlabel('monetary')\n",
    "ax.set_ylabel('frequency')\n",
    "ax.set_zlabel('recency');"
   ]
  },
  {
   "cell_type": "code",
   "execution_count": 27,
   "metadata": {},
   "outputs": [
    {
     "data": {
      "image/png": "[encoded data removed]",
      "text/plain": [
       "<Figure size 432x288 with 1 Axes>"
      ]
     },
     "metadata": {
      "needs_background": "light"
     },
     "output_type": "display_data"
    }
   ],
   "source": [
    "import seaborn as sns\n",
    "\n",
    "sns.boxplot(df.cluster, df.monetary);"
   ]
  },
  {
   "cell_type": "code",
   "execution_count": 22,
   "metadata": {},
   "outputs": [
    {
     "data": {
      "image/png": "[encoded data removed]",
      "text/plain": [
       "<Figure size 432x288 with 1 Axes>"
      ]
     },
     "metadata": {
      "needs_background": "light"
     },
     "output_type": "display_data"
    }
   ],
   "source": [
    "sns.boxplot(df.cluster, df.frequency);"
   ]
  },
  {
   "cell_type": "code",
   "execution_count": 23,
   "metadata": {},
   "outputs": [
    {
     "data": {
      "image/png": "[encoded data removed]",
      "text/plain": [
       "<Figure size 432x288 with 1 Axes>"
      ]
     },
     "metadata": {
      "needs_background": "light"
     },
     "output_type": "display_data"
    }
   ],
   "source": [
    "sns.boxplot(df.cluster, df.recency);"
   ]
  },
  {
   "cell_type": "code",
   "execution_count": 24,
   "metadata": {},
   "outputs": [
    {
     "data": {
      "text/plain": [
       "0    22\n",
       "2    13\n",
       "1    11\n",
       "Name: cluster, dtype: int64"
      ]
     },
     "execution_count": 24,
     "metadata": {},
     "output_type": "execute_result"
    }
   ],
   "source": [
    "df.cluster.value_counts()"
   ]
  },
  {
   "cell_type": "markdown",
   "metadata": {},
   "source": [
    "#### Boxplot Analysis:\n",
    "- From the <b>monetary</b> boxplot: Cluster 0 > Cluster 2 > Cluster 1;\n",
    "- From the <b>frequency</b> boxplot: Cluster 0 > Cluster 2 > Cluster 1;\n",
    "- From the <b>recency</b> boxplot: Cluster 0 > Cluster 1 > Cluster 2;\n",
    "\n",
    "#### Highlights:\n",
    "- <b>Cluster 0:</b> customers that have a large range of average ticket (close to 0 up to 800), not so frequent but old buyers, and compose the majority of customers (22 of 46 = app. 50%);\n",
    "- <b>Cluster:</b> customers with average ticket ranging from 100 up to 500, highly frequent and mostly old buyers (13 of 46 = app. 30%);\n",
    "- <b>Cluster 2:</b> customers with a higher average ticket value i.e. more expensive products, but no so frequent and recent buyers (11 of 46 = app. 20%);"
   ]
  }
 ],
 "metadata": {
  "kernelspec": {
   "display_name": "Python 3",
   "language": "python",
   "name": "python3"
  },
  "language_info": {
   "codemirror_mode": {
    "name": "ipython",
    "version": 3
   },
   "file_extension": ".py",
   "mimetype": "text/x-python",
   "name": "python",
   "nbconvert_exporter": "python",
   "pygments_lexer": "ipython3",
   "version": "3.8.3"
  }
 },
 "nbformat": 4,
 "nbformat_minor": 4
}
