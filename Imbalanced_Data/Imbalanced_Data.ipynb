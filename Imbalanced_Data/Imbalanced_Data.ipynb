{
 "cells": [
  {
   "cell_type": "markdown",
   "metadata": {},
   "source": [
    "# Learning with Imbalanced Data\n",
    "\n",
    "Imbalanced data is the case when classes have unequal numbers of samples. There's no standard of the exact degree of imbalancing, but as general rule, when the most common class is less than 1:2 as the rarest class, this would be only marginally unbalanced. Nevertheless, higher ratios such as 10:1 are already modestly imbalanced, whereas ratios above 1000:1 are extremely unbalanced. But the most important thing is how imbalance affects learning.\n",
    "\n",
    "Costs of errors (cost functions) are often asymmetric and quite skewed (e.g. imbalance ratio 10:1 often has higher errors than 3:1), violating the assumption that they are uniform and thus only accuracy shold be optimized. Added to that, using accuracy as a metric of evaluation with imbalanced often has the impact of poor minority class performance traded-oof for improved majority class performance [[1]](https://www.wiley.com/en-us/Imbalanced+Learning%3A+Foundations%2C+Algorithms%2C+and+Applications-p-9781118074626). \n",
    "\n",
    "Here we'll take the [accuracy paradox](https://en.wikipedia.org/wiki/Accuracy_paradox) to exemplify how this can be an issue. A simple model may have a high level of accuracy but be too crude to be useful i.e. taking Class A with 99% of samples, predicting every case is Class A results in 99% of accuracy, which in this case does not reflect variance of Classes or nothing else but the underlying Class distribution.\n",
    "\n",
    "Generally, we have three main issues with learning from imbalanced data:\n",
    "1. **Problem issues:** happens when there's insufficient information to define the problem in a proper way, e.g. when there's no way to evaluate the learned knowledge;\n",
    "2. **Data issues:** when there's not sufficient samples from on one or more classes to learn the rarities effectively (absolute rarity);\n",
    "3. **Algorithm issues:** inadequacies in the algorithms which makes it learn poorly when imbalanced data exists.\n",
    "\n",
    "Nevertheless, as [[1]](https://www.wiley.com/en-us/Imbalanced+Learning%3A+Foundations%2C+Algorithms%2C+and+Applications-p-9781118074626) proposes, class imbalances, i.e. relative differences in class proportions, is not fundamentally a problem at the data level, but rather a data distribution problem. So relative rarity remais as a problem formulation or algorithmic limitation issue. So the key here is that *imbalanced data is a problem only because learning algorithms cannot effectively handle this kind of data*.\n",
    "\n",
    "So let's talk now how can one address those issues presented earlier:\n",
    "1. *Problem issues*:\n",
    "    - Use *appropriate evaluation metrics*, which means *changing the focus from accuracy oriented* only. Some other common metrics to be used are *Receiver Operation Characteristics (ROC)* (it does not have bias towards models that perform well on the majority class at expense of the majority class, as commented above on the accuracy paradox), and *precision and recall*, where recall is usually more used to assess the coverage of the minority class.\n",
    "    - *Redefine the problem*, finding a subdomais where data is less imbalanced, but the subdomain is still of sufficient interest.\n",
    "    \n",
    "    \n",
    "2. *Data issues*:\n",
    "    - to deal with absolute rarity, the best approach would be acquire additional labeled data, preferentially from the rare classes or cases, which is not an easy work.\n",
    "    - sampling methods, which are primarily used to address the problem with relative rarity, but do not address the problem with absolute rarity, so they just reducte between-class imbalance.\n",
    "    \n",
    "    \n",
    "3. *Algorithm issues*:\n",
    "    - use search methods that avoid greed and recursive partitioning (divide-and-conquer), since they have difficulty in finding rare patterns. One possibility is genetic algorithms;\n",
    "    - Using search methods that involves evaluating metrics that properly value the learning, such as F-measure;\n",
    "    - Using algorithms that implicitily of explicitily favor rare classes and cases, e.g. boosting in Adacost or SMOTEBoost;\n",
    "    - Useing algorithms that learn only the rare class;\n",
    "\n",
    "Let's just again make some distiction between *absolute rarity and relative rarity* [[2]](https://www.researchgate.net/publication/283282940_Rare_events_and_imbalanced_datasets_an_overview):\n",
    "- Absolute rarity = lack of data: number of examples associated with the minority class is small in the absolute sense, so it's impossible to lear the decision boundaries associated with that class;\n",
    "- Relative rarity = relative lack of data:  sometimes rare events or minority classes are not rare in the absolute sense, but they are rare relative to other events or classes, which makes it difficult to detect patterns associated with rare events or classes\n",
    "\n",
    "Let's take this by examples. In the first case, consider that we have certain cancer data with 100 samples, and the minority class, let's say cancer = exists has a ratio of 5:100. Here the minority class is small in the absolute sense.\n",
    "Now consider again a cancer dataset with 10,000 samples and same ratio. Here, the majority outnumbers the minority class, even though now 500 samples may not be considered rare.\n",
    "\n",
    "\n",
    "So now that we have an idea of *what's imblanaced data*, let's check out some data sampling methods that try to overcome this issue! For that, we'll use the [Estonia ferry disaster](https://www.kaggle.com/christianlillelund/passenger-list-for-the-estonia-ferry-disaster) dataset from Kaggle, which is composed by:\n",
    "\n",
    "- Country\n",
    "- Firstname\n",
    "- Lastname\n",
    "- Sex\n",
    "- Age\n",
    "- Category\n",
    "- Survived\n",
    "\n",
    "PS: Here we'll cover sampling techniques only, not machine learning algorithms."
   ]
  },
  {
   "cell_type": "markdown",
   "metadata": {},
   "source": [
    "# 1. Import Data"
   ]
  },
  {
   "cell_type": "code",
   "execution_count": 213,
   "metadata": {},
   "outputs": [],
   "source": [
    "import pandas as pd\n",
    "import warnings\n",
    "import matplotlib.pyplot as plt\n",
    "import seaborn as sns\n",
    "import numpy as np\n",
    "import scipy.stats as stats\n",
    "%matplotlib inline\n",
    "\n",
    "warnings.filterwarnings('ignore')"
   ]
  },
  {
   "cell_type": "code",
   "execution_count": 214,
   "metadata": {},
   "outputs": [],
   "source": [
    "df = pd.read_csv('estonia-passenger-list.csv')"
   ]
  },
  {
   "cell_type": "code",
   "execution_count": 215,
   "metadata": {},
   "outputs": [
    {
     "data": {
      "text/plain": [
       "(989, 8)"
      ]
     },
     "execution_count": 215,
     "metadata": {},
     "output_type": "execute_result"
    }
   ],
   "source": [
    "df.shape"
   ]
  },
  {
   "cell_type": "code",
   "execution_count": 216,
   "metadata": {},
   "outputs": [
    {
     "data": {
      "text/html": [
       "<div>\n",
       "<style scoped>\n",
       "    .dataframe tbody tr th:only-of-type {\n",
       "        vertical-align: middle;\n",
       "    }\n",
       "\n",
       "    .dataframe tbody tr th {\n",
       "        vertical-align: top;\n",
       "    }\n",
       "\n",
       "    .dataframe thead th {\n",
       "        text-align: right;\n",
       "    }\n",
       "</style>\n",
       "<table border=\"1\" class=\"dataframe\">\n",
       "  <thead>\n",
       "    <tr style=\"text-align: right;\">\n",
       "      <th></th>\n",
       "      <th>PassengerId</th>\n",
       "      <th>Country</th>\n",
       "      <th>Firstname</th>\n",
       "      <th>Lastname</th>\n",
       "      <th>Sex</th>\n",
       "      <th>Age</th>\n",
       "      <th>Category</th>\n",
       "      <th>Survived</th>\n",
       "    </tr>\n",
       "  </thead>\n",
       "  <tbody>\n",
       "    <tr>\n",
       "      <th>0</th>\n",
       "      <td>1</td>\n",
       "      <td>Sweden</td>\n",
       "      <td>ARVID KALLE</td>\n",
       "      <td>AADLI</td>\n",
       "      <td>M</td>\n",
       "      <td>62</td>\n",
       "      <td>P</td>\n",
       "      <td>0</td>\n",
       "    </tr>\n",
       "    <tr>\n",
       "      <th>1</th>\n",
       "      <td>2</td>\n",
       "      <td>Estonia</td>\n",
       "      <td>LEA</td>\n",
       "      <td>AALISTE</td>\n",
       "      <td>F</td>\n",
       "      <td>22</td>\n",
       "      <td>C</td>\n",
       "      <td>0</td>\n",
       "    </tr>\n",
       "    <tr>\n",
       "      <th>2</th>\n",
       "      <td>3</td>\n",
       "      <td>Estonia</td>\n",
       "      <td>AIRI</td>\n",
       "      <td>AAVASTE</td>\n",
       "      <td>F</td>\n",
       "      <td>21</td>\n",
       "      <td>C</td>\n",
       "      <td>0</td>\n",
       "    </tr>\n",
       "    <tr>\n",
       "      <th>3</th>\n",
       "      <td>4</td>\n",
       "      <td>Sweden</td>\n",
       "      <td>JURI</td>\n",
       "      <td>AAVIK</td>\n",
       "      <td>M</td>\n",
       "      <td>53</td>\n",
       "      <td>C</td>\n",
       "      <td>0</td>\n",
       "    </tr>\n",
       "    <tr>\n",
       "      <th>4</th>\n",
       "      <td>5</td>\n",
       "      <td>Sweden</td>\n",
       "      <td>BRITTA ELISABET</td>\n",
       "      <td>AHLSTROM</td>\n",
       "      <td>F</td>\n",
       "      <td>55</td>\n",
       "      <td>P</td>\n",
       "      <td>0</td>\n",
       "    </tr>\n",
       "  </tbody>\n",
       "</table>\n",
       "</div>"
      ],
      "text/plain": [
       "   PassengerId  Country        Firstname  Lastname Sex  Age Category  Survived\n",
       "0            1   Sweden      ARVID KALLE     AADLI   M   62        P         0\n",
       "1            2  Estonia              LEA   AALISTE   F   22        C         0\n",
       "2            3  Estonia             AIRI   AAVASTE   F   21        C         0\n",
       "3            4   Sweden             JURI     AAVIK   M   53        C         0\n",
       "4            5   Sweden  BRITTA ELISABET  AHLSTROM   F   55        P         0"
      ]
     },
     "execution_count": 216,
     "metadata": {},
     "output_type": "execute_result"
    }
   ],
   "source": [
    "df.head()"
   ]
  },
  {
   "cell_type": "markdown",
   "metadata": {},
   "source": [
    "# 2. Initial Data Analysis\n",
    "\n",
    "1. *Data cleaning* is the identification of inconsistencies in the data and the resolution of any such issues.\n",
    "\n",
    "2. *Data screening* is the description of the data properties.\n",
    "\n",
    "3. *Documentation and reporting* preserve the information for the later statistical analysis and models."
   ]
  },
  {
   "cell_type": "code",
   "execution_count": 217,
   "metadata": {},
   "outputs": [
    {
     "name": "stdout",
     "output_type": "stream",
     "text": [
      "<class 'pandas.core.frame.DataFrame'>\n",
      "RangeIndex: 989 entries, 0 to 988\n",
      "Data columns (total 8 columns):\n",
      " #   Column       Non-Null Count  Dtype \n",
      "---  ------       --------------  ----- \n",
      " 0   PassengerId  989 non-null    int64 \n",
      " 1   Country      989 non-null    object\n",
      " 2   Firstname    989 non-null    object\n",
      " 3   Lastname     989 non-null    object\n",
      " 4   Sex          989 non-null    object\n",
      " 5   Age          989 non-null    int64 \n",
      " 6   Category     989 non-null    object\n",
      " 7   Survived     989 non-null    int64 \n",
      "dtypes: int64(3), object(5)\n",
      "memory usage: 61.9+ KB\n"
     ]
    }
   ],
   "source": [
    "df.info()"
   ]
  },
  {
   "cell_type": "code",
   "execution_count": 218,
   "metadata": {},
   "outputs": [
    {
     "data": {
      "text/plain": [
       "PassengerId    0\n",
       "Country        0\n",
       "Firstname      0\n",
       "Lastname       0\n",
       "Sex            0\n",
       "Age            0\n",
       "Category       0\n",
       "Survived       0\n",
       "dtype: int64"
      ]
     },
     "execution_count": 218,
     "metadata": {},
     "output_type": "execute_result"
    }
   ],
   "source": [
    "df.isnull().sum()"
   ]
  },
  {
   "cell_type": "markdown",
   "metadata": {},
   "source": [
    "## 2.1. Quantitative Data\n",
    "\n",
    "Only quantitative attribute are Age, which is symmetric (skew app. zero) and has a high pick (negative and close to -1 kurtosis), with no outliers"
   ]
  },
  {
   "cell_type": "code",
   "execution_count": 219,
   "metadata": {},
   "outputs": [
    {
     "data": {
      "text/plain": [
       "count    989.000000\n",
       "mean      44.575329\n",
       "std       17.235146\n",
       "min        0.000000\n",
       "25%       30.000000\n",
       "50%       44.000000\n",
       "75%       59.000000\n",
       "max       87.000000\n",
       "Name: Age, dtype: float64"
      ]
     },
     "execution_count": 219,
     "metadata": {},
     "output_type": "execute_result"
    }
   ],
   "source": [
    "df['Age'].describe()"
   ]
  },
  {
   "cell_type": "code",
   "execution_count": 220,
   "metadata": {},
   "outputs": [
    {
     "name": "stdout",
     "output_type": "stream",
     "text": [
      "Age skew = 0.06792986904254292 and kurtosis = -0.9356678278025496\n"
     ]
    }
   ],
   "source": [
    "print('Age skew = %s and kurtosis = %s' % (df['Age'].skew(), df['Age'].kurtosis()))"
   ]
  },
  {
   "cell_type": "code",
   "execution_count": 221,
   "metadata": {},
   "outputs": [
    {
     "data": {
      "image/png": "[encoded data removed]",
      "text/plain": [
       "<Figure size 720x288 with 2 Axes>"
      ]
     },
     "metadata": {
      "needs_background": "light"
     },
     "output_type": "display_data"
    }
   ],
   "source": [
    "fig, (ax1, ax2) = plt.subplots(1, 2, figsize=(10,4))\n",
    "sns.distplot(df['Age'], ax=ax1) # KDE symmetric \n",
    "sns.boxplot(df['Age'], ax=ax2);"
   ]
  },
  {
   "cell_type": "markdown",
   "metadata": {},
   "source": [
    "## 2.2. Qualitative Data\n",
    "\n",
    "For qualitative data, we should treat the attributes individually.\n",
    "As we follow down this path, we notice that several attributes such as Country, Category, and Survived (target) are **imbalanced**, so we must take action over this."
   ]
  },
  {
   "cell_type": "code",
   "execution_count": 222,
   "metadata": {},
   "outputs": [
    {
     "data": {
      "text/html": [
       "<div>\n",
       "<style scoped>\n",
       "    .dataframe tbody tr th:only-of-type {\n",
       "        vertical-align: middle;\n",
       "    }\n",
       "\n",
       "    .dataframe tbody tr th {\n",
       "        vertical-align: top;\n",
       "    }\n",
       "\n",
       "    .dataframe thead th {\n",
       "        text-align: right;\n",
       "    }\n",
       "</style>\n",
       "<table border=\"1\" class=\"dataframe\">\n",
       "  <thead>\n",
       "    <tr style=\"text-align: right;\">\n",
       "      <th></th>\n",
       "      <th>Country</th>\n",
       "      <th>Firstname</th>\n",
       "      <th>Lastname</th>\n",
       "      <th>Sex</th>\n",
       "      <th>Category</th>\n",
       "    </tr>\n",
       "  </thead>\n",
       "  <tbody>\n",
       "    <tr>\n",
       "      <th>count</th>\n",
       "      <td>989</td>\n",
       "      <td>989</td>\n",
       "      <td>989</td>\n",
       "      <td>989</td>\n",
       "      <td>989</td>\n",
       "    </tr>\n",
       "    <tr>\n",
       "      <th>unique</th>\n",
       "      <td>16</td>\n",
       "      <td>849</td>\n",
       "      <td>774</td>\n",
       "      <td>2</td>\n",
       "      <td>2</td>\n",
       "    </tr>\n",
       "    <tr>\n",
       "      <th>top</th>\n",
       "      <td>Sweden</td>\n",
       "      <td>ANDRES</td>\n",
       "      <td>ANDERSSON</td>\n",
       "      <td>M</td>\n",
       "      <td>P</td>\n",
       "    </tr>\n",
       "    <tr>\n",
       "      <th>freq</th>\n",
       "      <td>550</td>\n",
       "      <td>8</td>\n",
       "      <td>15</td>\n",
       "      <td>503</td>\n",
       "      <td>796</td>\n",
       "    </tr>\n",
       "  </tbody>\n",
       "</table>\n",
       "</div>"
      ],
      "text/plain": [
       "       Country Firstname   Lastname  Sex Category\n",
       "count      989       989        989  989      989\n",
       "unique      16       849        774    2        2\n",
       "top     Sweden    ANDRES  ANDERSSON    M        P\n",
       "freq       550         8         15  503      796"
      ]
     },
     "execution_count": 222,
     "metadata": {},
     "output_type": "execute_result"
    }
   ],
   "source": [
    "df.describe(include=['O'])"
   ]
  },
  {
   "cell_type": "markdown",
   "metadata": {},
   "source": [
    "1. Country:\n",
    "    - imbalanced class, with Sweden happening 550 times (55%), followed by Estonia with 344 (35%)\n",
    "    - consider creating a new feature from this imbalancing, grouping other countries."
   ]
  },
  {
   "cell_type": "code",
   "execution_count": 223,
   "metadata": {
    "scrolled": true
   },
   "outputs": [
    {
     "data": {
      "text/plain": [
       "Sweden           550\n",
       "Estonia          344\n",
       "Latvia            28\n",
       "Finland           16\n",
       "Russia            14\n",
       "Norway             9\n",
       "Germany            8\n",
       "Denmark            6\n",
       "Lithuania          4\n",
       "Netherlands        2\n",
       "Great Britain      2\n",
       "Morocco            2\n",
       "France             1\n",
       "Belarus            1\n",
       "Nigeria            1\n",
       "Canada             1\n",
       "Name: Country, dtype: int64"
      ]
     },
     "execution_count": 223,
     "metadata": {},
     "output_type": "execute_result"
    }
   ],
   "source": [
    "df['Country'].value_counts()"
   ]
  },
  {
   "cell_type": "code",
   "execution_count": 224,
   "metadata": {},
   "outputs": [],
   "source": [
    "df.loc[(df['Country'] != \"Sweden\") & (df['Country'] != \"Estonia\"), \"Country\"] = \"Others\""
   ]
  },
  {
   "cell_type": "code",
   "execution_count": 225,
   "metadata": {},
   "outputs": [
    {
     "data": {
      "image/png": "[encoded data removed]",
      "text/plain": [
       "<Figure size 432x288 with 1 Axes>"
      ]
     },
     "metadata": {
      "needs_background": "light"
     },
     "output_type": "display_data"
    }
   ],
   "source": [
    "plt.bar(df['Country'].unique(), df['Country'].value_counts(), alpha=.7);"
   ]
  },
  {
   "cell_type": "markdown",
   "metadata": {},
   "source": [
    "2. Names\n",
    "    - Firstname\n",
    "        - has several different names an ten most common account for only 60 samples\n",
    "        - maybe consider establish a string relation\n",
    "    - Lastname\n",
    "        - has several different names and ten most common account for only 164 samples\n",
    "        - also consider string relation"
   ]
  },
  {
   "cell_type": "code",
   "execution_count": 226,
   "metadata": {},
   "outputs": [
    {
     "data": {
      "text/plain": [
       "array(['ARVID KALLE', 'LEA', 'AIRI', 'JURI', 'BRITTA ELISABET',\n",
       "       'GERD INGA MAGNHILD', 'HJALMAR', 'PILLE', 'TORMI', 'ANNA MARIA',\n",
       "       'LARS BERTIL', 'NELLI', 'URMAS', 'TAMARA', 'KATRIN', 'LINE',\n",
       "       'ARMIDO', 'BENGT SOLVE INGEMAR', 'GUN DAGMAR INGEGERD',\n",
       "       'CARL OLOF INGVAR', 'HJORDIS IRENE', 'PAUL', 'AGNE KARL ARVID',\n",
       "       'ANNA LENA', 'INGRID VIOLA AMALIA', 'IRIS VIKTORIA', 'JILL MARIA',\n",
       "       'KAJ OLAV ARTHUR', 'KARL ERIK', 'LARS MAGNUS', 'MONICA INGEGERD',\n",
       "       'PER ALBERT', 'RUT INGEGERD', 'RUTH INGER', 'ULLA GUNVOR LINNEA',\n",
       "       'VIVI INGEBORG MARIANN', 'AKE HILMER', 'NIKOLAJS', 'ARVO', 'ALLA',\n",
       "       'LEMBIT', 'EVI', 'EVALD VALTER', 'KARIN CECILIA', 'ANTI', 'TIINA',\n",
       "       'ALEKSEI GRIGORY', 'ULLE', 'JANNO', 'EWA MARGARETHA',\n",
       "       'ANN-CHARLOTTE CARLSDOTT', 'BENGT GUNNAR', 'STINA ASTRID MATILDA',\n",
       "       'DAGNY MARGARETA', 'INGEGERD', 'HERBERT', 'URVE', 'RAIVO',\n",
       "       'RAIMO JOHANNES', 'ANDRES', 'TUULA ANNELI', 'CARITA CHARLOTH',\n",
       "       'EVA LOUISE', 'HELI', 'HICHAM', 'MOHAMED', 'RAVO',\n",
       "       'LARS OLOF ANDERS', 'JAN CHRISTIAN', 'BJORN OLA ENGELBERT',\n",
       "       'KARIN MARGARETA', 'ELLINOR MARGARETA', 'HELGE VIKTOR',\n",
       "       'KARIN LINNEA', 'RONNIE INGVAR', 'GUN MONICA', 'GUNBORG LINNEA',\n",
       "       'JANIS', 'ANN-MARIE YVONNE', 'AGRITA', 'ALBERTS-JULIJS', 'MARIJA',\n",
       "       'NIKOLA', 'INGRID BIRGITTA MARGARETA', 'MARTA EVA-BR', 'HELVE',\n",
       "       'KARL OVE', 'VIKTOR', 'LEIF VILHELM', 'GISELA', 'KARL', 'MORTEN',\n",
       "       'ASTA', 'SYLVIE', 'MIKAEL SVEN-GUNNAR', 'SOLVEIG ANN', 'LARS',\n",
       "       'IRINA', 'CATHARINA MARGARETA', 'LINDA ANNIKA CECILIA',\n",
       "       'GUNNAR LENNART', 'ELVIIRA', 'EVA MARIA', 'ALF BERNT MAURITZ',\n",
       "       'LENNART STURE RUDOLF', 'MAJVOD', 'AKE HOLGER', 'MARIE LOUISE',\n",
       "       'NATALJA', 'KENNET BERTIL', 'GUN CARINA', 'SUSANNE ELISABET',\n",
       "       'MARTA AGNETA', 'ANNE-MARIE', 'SKAIDRITE', 'BENGT OLOF MAURITZ',\n",
       "       'BJORN MIKAEL', 'ANN CATRIN', 'SERGEI', 'TOMAS JAN', 'STEPHAN',\n",
       "       'ERIK AXEL GORAN', 'MAJ RIGMOR', 'ASTRID ELISABET', 'LJUDMILLA',\n",
       "       'BENGT REMI', 'PRIIT', 'MARIANNE ELLEN ELISABET', 'WOLTER JOHAN',\n",
       "       'GUNILLA VIOLA', 'PER-ERIK', 'CHRISTER OSSIAN', 'LARS GUNNAR',\n",
       "       'NILS HAKAN VILHELM', 'BARBRO GUNNEL MARIANNE', 'BJORN MAGNUS',\n",
       "       'ANNGARD IRENE', 'KARL ARNE', 'ARTHUR SIGVARD', 'BERNT ERIK',\n",
       "       'BETTY', 'ANNBRITT MON', 'GUNILLA MARIA', 'ANDERS HARALD',\n",
       "       'ANN-CHARLOTTE', 'BRITTA MARIA TEQDORA', 'GUNNI AINA KAROLINA',\n",
       "       'IRIS LINNEA MARIANNE', 'KARIN BIRGIT ELISABET',\n",
       "       'KARIN INGELA ELISABETH', 'MAJ-BRITT IRENE', 'MARGIT INGEBORG',\n",
       "       'NILS OLOF EDVIN', 'SONNY DAG', 'STINA MARGARETA', 'HELENA ETELKA',\n",
       "       'LII', 'ANNA INGER', 'INGEMAR RUDOLF', 'JOHAN LUDVIG', 'MARIE',\n",
       "       'MATS', 'VALBORG', 'BIRGIT VIOLA', 'FRANS HANSEMAN', 'JERZY',\n",
       "       'ELVY MARIANNE', 'ANITA MARGARETA', 'NILS OLOF', 'NILS IVAN',\n",
       "       'SVEN INGMAR', 'SVEN EVERT ARNOLD', 'ANNELI INGER',\n",
       "       'BERIT CHRISTINA', 'EEVA MARIA', 'MARTA OLGA INEZ', 'ELLEN MARIE',\n",
       "       'HANS-PETER', 'MARIA ELISABETH', 'ROSE MARIE MAUD',\n",
       "       'GRETA INGEBORG', 'ELSIE MARIA', 'ERIK GUSTAV EVERT',\n",
       "       'ESTER KERSTIN', 'INGA-BRITT', 'GUNARS', 'HENRYK', 'JAN OLOF',\n",
       "       'IGOR', 'NEBOJSA JOHN', 'AlVO', 'THOMAS ERIK ANDREAS',\n",
       "       'ANNIKA KRISTINE', 'ERIK LENNART', 'ARNE VIKTOR', 'VITALIJA',\n",
       "       'GINTARE', 'FRODE', 'KERSTIN ELISABET', 'KERSTIN INGEBORG LINNEA',\n",
       "       'ANNA ELISABETH', 'BERTIL VILLEHARD ALE', 'CHRISTEL LISA',\n",
       "       'JOHAN OLOF PETER', 'KATY MARGARETA', 'NILS VERNER', 'RUT INGRID',\n",
       "       'STEFAN LARS ANDREAS', 'ANN CHRISTINE', 'BIRGIT ELISABET',\n",
       "       'GOSTA EMIL LENNART', 'JAN ERIK', 'SVEA INGEBORG MARIA',\n",
       "       'ULLA-BRITT ROSE-MARIE', 'ANNELI', 'LIIA', 'ASA ALFHILD',\n",
       "       'KARIN MARIANNE', 'HANSES MARTA GUNBORG', 'LARS ERIK HENRIK',\n",
       "       'MARIA ANN LINNEA', 'ELVY SOFIA', 'ARMILDA ALICE', 'ALTTI JUHANI',\n",
       "       'MAJ GUNNEL HENNY', 'BOB STURE', 'ADAM', 'RAILI KYLLIKKI', 'MARI',\n",
       "       'RUT ASTRID ELISABET', 'OSKAR', 'KRISTINA MARIA',\n",
       "       'INGA CHARLOTTA ODDSDO', 'ANTS', 'JUTA', 'SVEN AKE RUBEN',\n",
       "       'ASA KAROLINA', 'MARIA CECILIA', 'SARA MARIA', 'TONI MIKAEL',\n",
       "       'AILI', 'ESTER', 'BERTH THOMAS', 'KJELL TAGE OSKAR', 'INGA',\n",
       "       'HELEN', 'EVERT PER-OLOF', 'KARL GUSTAV HENRY', 'NILS OLLE VALTER',\n",
       "       'REBECKA IRENE', 'JUHAN', 'HAKAN INGVAR', 'INGER BARBRO',\n",
       "       'SVEN ANDERS JERKER', 'KERIM', 'MATS EDVARD', 'DORIS ELISABET',\n",
       "       'JAN-OLOF', 'OLOF GUNNAR', 'ASE BIRGITTA', 'SVEN OVE',\n",
       "       'INEZ BARBRO', 'NILS-GORAN AXEL', 'KINDEL', 'SEPPO', 'LILIA',\n",
       "       'BO SIGVARD EMANUEL', 'ELV! ANNA VIOLA', 'BARBRO AGNETA',\n",
       "       'KARIN ANN-HELEN', 'SIV-BRITT GUNILLA', 'SIGNE MARIANA',\n",
       "       'KENT ROLF MAGNUS', 'KARL GOSTA BERTIE', 'SIGNE MARGOT VIOLA',\n",
       "       'INGRID ETHEL', 'JUKKA PEKKA', 'PIERRE EINAR', 'PER OLOV',\n",
       "       'SVEN HERMAN', 'ERIK HAKAN', 'VILHO VALTTERI', 'ANATOLI', 'LIINA',\n",
       "       'ANTHONY UCHECHUKWU', 'BIRGIT MARIA', 'DINA', 'ALEXSANDRS',\n",
       "       'CAROLA EMMY CHRISTINA', 'FRIEDHELM ERNST KARL',\n",
       "       'GERD HILLEVI SVEA', 'ANDRA', 'GOTE AMBROSIUS', 'HELDOR',\n",
       "       'ANN-BRITT INGEGARD', 'GUSTAF ADOLF', 'BENGT VILHELM EUGEN',\n",
       "       'DAN PETHER STEFAN', 'GUDRUN STIGSDOTTER', 'ING-MARI KRISTINA ELI',\n",
       "       'INGA LILLY VIOLA', 'INGEGERD LINNEA', 'MAJA KRISTINA',\n",
       "       'MONA ELISABET', 'SIRJE', 'TOM OLOV', 'STEN KARL RUDOLF',\n",
       "       'BODIL ESTER GUNILLA', 'KERSTIN MATHILDA', 'LARS THONY',\n",
       "       'PETRA MARIA', 'AIN-ALAR', 'KRISTEL', 'LIA', 'VELJO', 'MERLE',\n",
       "       'MAIGA', 'PETER JUHANI', 'INGER MARGARETA', 'AGNETA',\n",
       "       'BENGT DANIEL', 'DICK ROGER', 'LARS KRISTOFER', 'TOVE LONFELDT',\n",
       "       'MIHKEL', 'KAAREL', 'MAREK', 'GALINA', 'MIHAILS', 'NENNES HANNES',\n",
       "       'EINO OLAVI', 'MERIKE', 'INGER ELISABET', 'KATLIN', 'ILONA',\n",
       "       'NEEME', 'KAIDO', 'BARBRO JEANETTE', 'KULLI', 'MAIKO', 'GUNDEGA',\n",
       "       'ULLA BIRGITTA', 'PEETER', 'GARTIE TERESIA', 'ANDERS HAKAN',\n",
       "       'ANITA ELISABET', 'ARTUR LENNART', 'KARIN MAJVOR',\n",
       "       'KARL ERIK ELIAS', 'KERSTIN MARGARETA VILH',\n",
       "       'PERNILLA KRISTINA ELIS', 'STIG VAGE ALLAN', 'SEPPO OLAVI',\n",
       "       'VAIKE', 'LEO', 'KALJO', 'MARGUS', 'HARALD', 'PER HUGO',\n",
       "       'BERIT IRENE INGEGERD', 'OLIVER', 'KAIMAR', 'MERIT', 'YLOQ',\n",
       "       'VALTERS', 'AVO', 'MARIA', 'AARE', 'ANN-MARI ELISABET',\n",
       "       'STIG HAKAN EINAR', 'EERO OLAVI', 'OTT', 'EVE', 'RAUL', 'SAIDYA',\n",
       "       'MALLE', 'LENNART MIKAEL', 'INTS', 'GUNNAR', 'KALLE', 'KALEV',\n",
       "       'ECKARD', 'HARDY GIDEON', 'ADELJA', 'STANISLAV', 'ANNELY EMILIA',\n",
       "       'HEINO', 'AAVO', 'ELVE', 'AARNE', 'JURGEN', 'VELLO',\n",
       "       'SALME ANNIKKI', 'TAUNO ILMARI', 'VASSILY PHILIP', 'LEILI',\n",
       "       'BERITA MARGA ROSE-MARIE', 'FERDINAND', 'VALERI', 'VASILI',\n",
       "       'ASTRID GUNBRITT LINNEA', 'KRISTIINA', 'ANGELIKA', 'LIVI', 'TARMO',\n",
       "       'AGO', 'EINAR', 'ANDRUS', 'HJORDIS TERESIA', 'KYLLIKE', 'GARRY',\n",
       "       'MADLI', 'EVA', 'ANDE', 'ANNA MARGARETTA', 'TOOMAS', 'LIILI',\n",
       "       'KRISTIN', 'AGNETA RUTH INGEGERD', 'LOTTEN VERA', 'KRISTA',\n",
       "       'RIINA', 'EINO OLAV', 'CARL ERIC', 'LEMMI', 'MATTI',\n",
       "       'GUDRUN INGEGERD', 'LEANDER', 'KARL URBAN', 'LARS OLOF',\n",
       "       'MARIE-LOUISE CAROLINE', 'ANN-CATRIN MARIA', 'EJNER ALFRED',\n",
       "       'ELIS CLAS GORAN', 'INGER KATARINA', 'MAJ ELISABET',\n",
       "       'MARGARETHA ELISABETH', 'MARIE SUSANNE EVA KRIST', 'PIA', 'REIN',\n",
       "       'EGON', 'ENDEL', 'TAMBET', 'AINA', 'AULIS', 'TERJE',\n",
       "       'SOLVEIG CARINA', 'CARL GREGOR', 'KAJA', 'INNA', 'KIIRA',\n",
       "       'DAGNY MARGARETTA', 'YNGVE', 'PAULA ANNE MAARIT', 'KALJU', 'MEELI',\n",
       "       'THU', 'RENATE', 'EVA MARIANNE', 'STEN HARALD',\n",
       "       'GUNNEL BARBRO MARGARETTA', 'KARIN GUNNELA MATSDOTTE', 'MATS HUGO',\n",
       "       'SILVER', 'GOSTA GEORG', 'KAROLA MARIA', 'EBBA AGNETA ELISABETH',\n",
       "       'RAILI HELJA', 'MATS HAKAN', 'KJELL ARNE', 'MAGNUS ERIK YRJO',\n",
       "       'MARGARETA KRISTINA', 'STEN OLOF', 'TYRA KRISTINA', 'KRISTER ERIK',\n",
       "       'TONU', 'GERRARD', 'REET', 'SIV INGEGERD', 'LEIF GUSTAV',\n",
       "       'ANNA MARGARETA', 'GUN BERIT', 'INGRID MARGARETA ELIS',\n",
       "       'KARL EINAR', 'RANGVI KARIN ELISABET', 'ANNIKA CHRISTINA',\n",
       "       'KARL HUGO ARNE', 'ELNA', 'ISAK HERBERT', 'ELLEN SIGRID ELISABET',\n",
       "       'LARS MAGNUS VILHELM', 'RUTH INGRID', 'SIV MARGARETA', 'OLGA',\n",
       "       'EPP', 'UNO', 'ANNE', 'INGER MARGARETTA', 'KARL JOHAN GUNNAR GUNN',\n",
       "       'BIRGITTA LINNEA', 'BENGT GEORG', 'MARGIT SIGNHILD KRIST',\n",
       "       'ALEXSANDRE OLIIRIEVICH', 'TIMUR', 'JAN-ERIK', 'JOHN WILLIAM',\n",
       "       'MIRJAM', 'JAAKKO ANTERO', 'IVI', 'VALDUR',\n",
       "       'ANNIKA ELISABETH MARGA', 'ELSIE VIOLA ELISABET', 'KARL AKE',\n",
       "       'AINO ANITA GUNILLA', 'MAUD ROS-MARIE', 'THT', 'MAARIKA', 'ALDO',\n",
       "       'BRITT INGER', 'VYTATAS', 'OLGA VLAD', 'ILLE', 'TANEL',\n",
       "       'LUCIA LJUTSIA', 'JAAK', 'HEDI', 'RIHO', 'TINA',\n",
       "       'DAN-ANDERS ADRIAN', 'MONICA ANITA', 'SUSANNE MARLE',\n",
       "       'ELVIR MARTIN', 'SVEN ERIK', 'GULL-BRITT AGNETA MARIA',\n",
       "       'CURT SIXTEN', 'ERKKI JUHANI', 'JARMO KALERVO', 'ELMAR', 'HEDDI',\n",
       "       'DANI', 'LENNART', 'NILS TORSTEN', 'HELE', 'TIINA-KAISA', 'SILVIA',\n",
       "       'MART', 'MILVI', 'BENGT ARTHUR', 'BRITT MARGARETA',\n",
       "       'DAVID RICKARD', 'ELLEN GUNBORG EUGENIA', 'FRITZ OSKAR FERDINAND',\n",
       "       'HANS LENNART', 'KARIN MARIE VIOLA', 'MONA IRENE', 'OVE LENNART',\n",
       "       'PER MARTIN ANDREAS', 'TOIVO', 'PER AXEL GEORG', 'MARY VILHELMINA',\n",
       "       'ULLA-BRITT LILIAN', 'RUTH', 'TOR BEATEL', 'EVA KATARINA',\n",
       "       'MARGIT ANITA', 'STIG GUNNAR', 'YVONNE BRITT MARIE',\n",
       "       'ANNITA ELISABET', 'KAIJA MARGIT', 'ERICH', 'NITA LINNEA',\n",
       "       'GUSTAF RUNE', 'BARBRO MARGARETA', 'VERA MARGARETA', 'FRED',\n",
       "       'AITA', 'RISTO', 'BENGT OLOF', 'EBBA MARIANNE', 'ANDERS MICHAEL',\n",
       "       'INGA LISA', 'CARL-ERIC', 'DAN EVERT', 'GUNBORG MARIANNE',\n",
       "       'SVENNY MARIANNE', 'RAIMOND', 'AXEL INGVAR', 'VILLU', 'ANNEL',\n",
       "       'HELIN', 'MARIKA', 'DICK RONALD', 'CLARY LILIAN', 'TURE EMANUEL',\n",
       "       'RAIN', 'KULLO', 'RIIKO', 'KARL FOLKE IVAR', 'JAAN',\n",
       "       'INGRID ANITA', 'DAN JONAS', 'GABRIEL THARANGA', 'GERTIE MARIANNE',\n",
       "       'GOSTA ROLF AKE', 'LARS-AXEL', 'PER-ARNE', 'SAMUEL SURANGA',\n",
       "       'THOMAS ROLAND', 'AASA MARGARETA', 'MARIANNE', 'HJORUND SETSAS',\n",
       "       'INGUNN', 'VEIKO', 'BERIT ELVY MARIANNE', 'GUNBORG BIRGITTA',\n",
       "       'JAN-ERIK ARVID', 'NILS LENNART', 'PER ANDERS MARTIN',\n",
       "       'STIG LENNART VALENTIN', 'TARVI', 'AIME', 'ANITA KRISTINA', 'AIVE',\n",
       "       'ERKI', 'VALENTINA', 'ENNO', 'KALVI', 'VALEV', 'LEV', 'MERJE',\n",
       "       'SUSANNE', 'INDREK', 'JARI', 'KATTI', 'RAUNO', 'RAIMO OLAVI',\n",
       "       'EVERT AXEL', 'GENNADI', 'RAIT', 'TAAV!', 'PER ARNE HARRY',\n",
       "       'LILIAN', 'ILMI', 'KRISTJAN', 'ULLA ANN-MARI', 'ULLA MARIA AGNETA',\n",
       "       'MAJ-BRITT', 'KULDAR', 'ALVAR', 'LIIVI', 'KRISTINA',\n",
       "       'INGEBORG RENEE', 'BIRGITTA CARIN MARIA', 'TOR GORAN HAKAN',\n",
       "       'ERVIN', 'ARVI', 'BERT REINESON', 'INGA MARIANNE',\n",
       "       'BENGT-ERIK VILHELM', 'INGA MARIA', 'MANFRED GEORG', 'LUULI',\n",
       "       'SAGA YVONNE ELISABETH', 'MARGE', 'ELLINOR TROLLE', 'GOSTA ROBERT',\n",
       "       'INGA MARIE', 'RIINA-MALL', 'ANU', 'LAURI', 'EVA-LISA', 'KATI',\n",
       "       'KART', 'LILJA PIIA', 'SIIM', 'LUULE', 'PEEP', 'ALEXANDER',\n",
       "       'SIIRI', 'MONA LISA MARIE', 'STEN YNGVE BERTIL',\n",
       "       'ANNA LINNEA KRISTINA', 'SOREN EVALD', 'MARE', 'ULLAR',\n",
       "       'EVA CHRISTINA', 'LIESELOTTE', 'KURT TORGNY', 'ANITA ELISABETH',\n",
       "       'HANNU TAPIO', 'RUDOLF', 'ERIK SIGMUND', 'IVAN', 'LEO ELMER',\n",
       "       'HENRIK', 'VASSILI', 'GUIDO', 'TIT', 'CARL CHRISTIAN',\n",
       "       'STIG JAN GUNNAR', 'ULLA MARGARETA', 'ERIK ALBIN',\n",
       "       'JAN BILLY VALLENTIN', 'SVEA MAJVOR MARIANNE', 'EGON ARNE SIGVARD',\n",
       "       'KARIN MARGARETA ELISAB', 'KARL AXEL INGVAR', 'ROLF ERIK OLOF',\n",
       "       'BRITA OLIVIA', 'LARISSA', 'DAINIS', 'JANE LILIAN', 'ALLAN-JUAI',\n",
       "       'HELJO-OLIVIA', 'HILLARI', 'MATTI AMES', 'AIVARS',\n",
       "       'HJORDIS ELISABET', 'KARL HJALMAR BERTIL', 'DAGNY JOHNY GUSTAVA',\n",
       "       'KERSTIN MARGA', 'EVY DISA AURELIA', 'KARL BENNY', 'KARL SIVERT',\n",
       "       'KRISTAPS', 'KARIN MARIA', 'MATI', 'ROGER SVEN INGE',\n",
       "       'ANNA LINNEA', 'LISE-LOTTE', 'SIRKKA ANNIKKI',\n",
       "       'BRITT-MARIE ELISABET', 'KNUT ARVID VALDEMAR', 'HEDVIG INGALILL',\n",
       "       'KARL GUSTAV LEONARD', 'PER ERIK EVALD', 'LARS EMANUEL',\n",
       "       'BRITTA MARIANNE', 'DANIEL NILS BERTIL', 'EDVARD MAGNUS',\n",
       "       'EVA ULRIKA', 'HANS UNO', 'LEIF GEORG', 'MAGRET ISABELLA ANITA',\n",
       "       'SVEN ALBERT', 'GRETA AMANDA', 'OLA INGEMAR', 'GEORGE',\n",
       "       'ROLF BERT HAKAN', 'FRIEDRICH MAIROLD', 'AINO', 'ERKKI JANEK',\n",
       "       'ARTURAS', 'JANEK', 'TAIVO', 'AGUR', 'INGRID GUNILLA CHRISTERSD',\n",
       "       'EVERT ADOLF', 'RUT ANNE MARIE', 'ANNA-LENA MARIE',\n",
       "       'ULLA MARIANNE', 'PIERRE HASSE LORENTZ', 'GUSTAF LENNART',\n",
       "       'JENS ARNOLD', 'TYYNE TELLERVO', 'BENGT GUSTAV AXEL',\n",
       "       'MAIRIT HILDEGUN', 'GUDRUN VIVI-ANN', 'ANITA JEANETTE',\n",
       "       'MIRJA ORVOKKI', 'SYLVIA MIRJAM', 'SUSANN KRISTINE', 'SVETLANA',\n",
       "       'KATI MARIA', 'AIMUR', 'BIRGER', 'MIHAI', 'PETER',\n",
       "       'MARIA ELISABET', 'CARL GUNNAR VERNER', 'MAJA INGEGARD', 'IVO',\n",
       "       'EIVO', 'MEIDA', 'SIGNE', 'ALBERT', 'FARID', 'BRITT-MARI', 'EINO',\n",
       "       'KAUR', 'ELLEN', 'REIN LEMBIT', 'MAID', 'HANKA-HANNIKA', 'HANNELY',\n",
       "       'ANDREJS', 'EVA JENNY SOFIA', 'PJUOTR', 'JAN ERIK EMANUEL',\n",
       "       'ANNE-HELLE', 'OLAFS', 'ELISABETH BIRGITTA',\n",
       "       'GULLBRITT MARGARETTA', 'ALEKSANDER', 'VAHUR', 'TAIMO',\n",
       "       'JORMA OLAVI', 'TIMMO', 'NILS HOLGER BLECKE', 'WANDA KARIN ELISAB',\n",
       "       'ANN BRITT', 'INGEGERD CHRISTINA', 'RUT INEZ IRENE',\n",
       "       'STIG RUNE MINDOR', 'EIVOR MARGARETA', 'ANDERS LENNART',\n",
       "       'ANN-BRITT VIOLA', 'HUGO LENNART', 'YASMINA SOFIA',\n",
       "       'MONIKA SUSANNE', 'LARS WILHELM SAMUEL', 'JAN-ERIK TORBJORN',\n",
       "       'SIV GUNNEL IRENE', 'INGBRITT KRISTINA', 'ETHEL MARIA',\n",
       "       'SIEGFRIED', 'SOILE MARIANNA', 'GUNVOR EUGENIA', 'AIVAR', 'KATRE',\n",
       "       'KRETE', 'CAROLA ELISA', 'HELENA MARGARETA', 'HANS AKE',\n",
       "       'KARIN ELLY ANITA', 'KARL ANDERS', 'NILS AKE', 'SIGNE ANN-BRITT',\n",
       "       'STEN LEONARD', 'KNUD', 'GUNHILD ANNA-LISA', 'LARS TORSTEN',\n",
       "       'MAUD HELENA', 'GUNNEL MARIE', 'ANNA INGRID BIRGITTA',\n",
       "       'ELMAR MIKAEL', 'ENN', 'LY', 'CARL'], dtype=object)"
      ]
     },
     "execution_count": 226,
     "metadata": {},
     "output_type": "execute_result"
    }
   ],
   "source": [
    "df['Firstname'].unique()"
   ]
  },
  {
   "cell_type": "code",
   "execution_count": 227,
   "metadata": {},
   "outputs": [
    {
     "data": {
      "text/plain": [
       "ANDRES    8\n",
       "TIINA     8\n",
       "RAIVO     8\n",
       "KATRIN    6\n",
       "PAUL      6\n",
       "PEETER    6\n",
       "ULLE      5\n",
       "ANDRUS    5\n",
       "JANIS     4\n",
       "KALEV     4\n",
       "Name: Firstname, dtype: int64"
      ]
     },
     "execution_count": 227,
     "metadata": {},
     "output_type": "execute_result"
    }
   ],
   "source": [
    "df['Firstname'].value_counts()[:10]"
   ]
  },
  {
   "cell_type": "code",
   "execution_count": 228,
   "metadata": {},
   "outputs": [
    {
     "data": {
      "text/plain": [
       "array(['AADLI', 'AALISTE', 'AAVASTE', 'AAVIK', 'AHLSTROM', 'AHMAN',\n",
       "       'AINSALU', 'ALDRIN', 'ALEKSEEVA', 'ALENDER', 'ALEP', 'ALLA',\n",
       "       'ALLAS', 'ALM', 'ALMQUIST', 'ANDERLJUNG', 'ANDERSON', 'ANDERSSON',\n",
       "       'ANDREJEVS', 'ANDRESSON', 'ANNUS', 'ANTUK', 'APELMAN', 'ARAK',\n",
       "       'ARRO', 'ARTJUHHOV', 'ARULA', 'ASER', 'ASKERUP', 'ASPLUND',\n",
       "       'ASPMAN', 'ATTERFORS', 'JATTERFORS', 'AUGUSTIN', 'AUN', 'AUSMEES',\n",
       "       'AUVINEN', 'AVEKUKK', 'AXELSSON', 'BARASINSKI', 'BARNEY',\n",
       "       'BEKKEWOLD', 'BELZETSKAJA', 'BEN HAMOU', 'BEN TOUNSI', 'BERENDSEN',\n",
       "       'BERG', 'BERGENDAHL', 'BERGENHEIM', 'BERGKVIST', 'ERGQVIST',\n",
       "       'ERGOVIST', 'BERGSMARK', 'BERLIN', 'BERNANS', 'BERNERVALL',\n",
       "       'BERNOVICS', 'BIELIS', 'BIRSANE', 'BLIXT', 'BLOMQVIST-SPAGNOLO',\n",
       "       'BLUMFELTH', 'BODIN', 'BOGDANOV', 'BOGREN', 'BOIWE', 'BORGH',\n",
       "       'BOJE', 'BRANDSTETTER', 'BRIDET', 'BROMANDER',\n",
       "       'BRYGGMAN SMEDENBORN', 'BRANDSTROM', 'BURAKOVA', 'BUREVIK',\n",
       "       'BURMAN', 'BYLUND', 'BOTKER', 'CALAMNIUS', 'CARLSSON', 'CARSEUS',\n",
       "       'CERNOVA', 'CHREISTI', 'CLAESSON', 'CRILEN', 'CRONSTROM',\n",
       "       'CULKSTENE', 'DAHLIN', 'DAHLSTROM', 'DANILUK', 'DE KLERK',\n",
       "       'DUIJNDAN', 'DUKE', 'EBERSTEIN', 'EDSTAM', 'EDUR', 'EGERYD', 'EHA',\n",
       "       'EHN', 'EHRENHOLM', 'EHRNSTEN', 'EKLOF', 'EKMAN', 'EKSTEDT',\n",
       "       'EKSVARD', 'ELOFSON', 'ENGBERG', 'JENGGRON', 'ENGSTROM',\n",
       "       'ERICSSON BEGODZKI', 'ERIKSSON BRASK', 'ERIKSSON', 'JERIKSSON',\n",
       "       'ERNST WERNERED', 'ESTONIUS', 'FAHLANDER', 'FAHLSTROM',\n",
       "       'FINNANGER', 'FLODERUS', 'FLODIN', 'FLODSTROM', 'FLORYSIAK',\n",
       "       'FORSEN', 'FORSLUND', 'FORSSBERG', 'FRANSSON', 'FRANZEN',\n",
       "       'FREDRIKSSON', 'FREIMANN', 'FRIDEBACK', 'FRISK', 'FRYKBERG',\n",
       "       'FROSETH', 'FURSTE', 'FAGERSTEN', 'FALT', 'GAHNOLD', 'GARHAGEN',\n",
       "       'GEMHEDEN', 'GENCHEL', 'GIFVARS', 'GOBINS', 'GOJ', 'GRAFSTROM',\n",
       "       'GRITSIOUS', 'GRKOVIC', 'GROSSFELDT', 'GRUNDE', 'GRUNDSTROM',\n",
       "       'GRONHAGE', 'GUDAITIENE', 'GUDAITYTE', 'GUDBRANDSEN', 'GULLBERG',\n",
       "       'GUNNAR', 'GUSTAFSSON', 'GUSTAVSSON', 'GUTELIND', 'HAAS',\n",
       "       'HABERMANN', 'HAGELBERG', 'HAGLUND', 'HAGMAN', 'HAGSTEDT',\n",
       "       'HAGSTROM', 'HAIN', 'HAKANPAA', 'HALLBERG', 'HALLIN', 'HALTER',\n",
       "       'HALTTUNEN', 'HAMBURG', 'HAMMARSTROM', 'HANNUS', 'HANSSON',\n",
       "       'HARDEBERG', 'HARING', 'HEAMAGI', 'HEDIN', 'HEDMAN', 'HEDOVIST',\n",
       "       'HEDRENIUS', 'HEINONEN', 'HEINSOO', 'HELLERMA', 'HELLGREN',\n",
       "       'HELMANE', 'HENDRIKSON', 'HENRIKSSON', 'HENRYSSON', 'HERMA',\n",
       "       'HERMANSSON', 'HERNBORG', 'HESTNES-NISANCIOGLO', 'HILLERSTROM',\n",
       "       'HOLMKVIST', 'HOLMQVIST', 'HOLMSTROM', 'HOLSTROM', 'HOLTBLAD',\n",
       "       'HONG', 'HONKKANEN', 'HROPOVA', 'HULTMAN', 'HAKANSSON',\n",
       "       'HALLEGARD', 'HALLNERT', 'HARSTEDT', 'HOGMAN', 'HOJFORS HONG',\n",
       "       'JIDLA', 'IHALAINEN', 'ISACSSON', 'ISAKSSON', 'ISEFJORD',\n",
       "       'ITARANTA', 'IVANOV', 'IVANOVA', 'IVASK', 'IWUAGWU', 'JAGODZINSKY',\n",
       "       'JAKOBSSON', 'JAKUBOVSKA', 'JAKUBOVSKIS', 'JANSEN', 'JANZON',\n",
       "       'JAUCE', 'JERMAKOVA', 'JIBREUS', 'JOA', 'JOHANNSEN', 'JOHANSSON',\n",
       "       'JOHNSSON', 'JOLIND', 'JONSSON', 'JUHANSON', 'JUHKAM', 'JURME',\n",
       "       'JUURO', 'JUUSE', 'JUUST', 'JARVI', 'JARVINEN', 'JONER',\n",
       "       'JORGENSEN', 'KAALESTE', 'KAARE', 'KAASIK', 'KACS', 'KADAK',\n",
       "       'KAIN', 'KALA', 'KALENIUS', 'KALJURAND', 'KALJUSTE', 'KALK',\n",
       "       'KALLASMAA', 'KALLIONIEMI', 'KALVET', 'KAMPUSE', 'KANDEMAN',\n",
       "       'KANNUSSAAR', 'KANTER', 'KARLBERG', 'KARLSSON', 'KARU', 'KARVANEN',\n",
       "       'KASK', 'KASPARSONS', 'KASTERPALU', 'KAUKULA', 'KAUR', 'KAZAKOVA',\n",
       "       'KERMET', 'KERN', 'KERSLOW', 'KETTEL', 'KEVVAI', 'KIKAS', 'KIKUTS',\n",
       "       'KILGAST', 'KILUMETS', 'KIMMEL', 'KINDBERG', 'KIPPA', 'KIPPAR',\n",
       "       'KIRI', 'KIRMANN', 'KIVILA', 'KIVIPOLD', 'KLASSON', 'KLAVINS',\n",
       "       'KLETTENBERG', 'KLIS', 'KLUG', 'KNUTSSON', 'KOLESNIKOVA',\n",
       "       'KOLOSEVSKI', 'KONDRAR', 'KONSAP', 'KOOGAS', 'KOPLI', 'KOPLIMAGI',\n",
       "       'KOPPEL', 'KORJAS', 'KORNEL', 'JKOSKENKORVA', 'KOSKENKORVA',\n",
       "       'KOVALEV', 'KOZAREVA', 'KRANTZ', 'KREBS', 'KREEK', 'KRIOUTCHKOV',\n",
       "       'KRJUTSKOV', 'KROON', 'KRUUSMAA', 'KUBAR-KOSKEL', 'KUIK', 'KUIV',\n",
       "       'KUKK', 'KULLAMAA', 'KULLER', 'KUMLIN', 'KUNDLA', 'KUPPAR',\n",
       "       'KUPPER', 'KURDVE', 'KUUR', 'KUUSE', 'KUUSK', 'KUUSTE', 'KALLSKOG',\n",
       "       'KAND', 'KARK', 'KASPER', 'KOPSEN', 'KORLING', 'KOOP', 'LAAK',\n",
       "       'LAAMANEN', 'LAANTEE REINTAMM', 'LAASIK', 'LABI', 'LAGERQVIST',\n",
       "       'LAIGAR', 'LAMBERTSSON', 'LAMKE', 'LANGEMAR', 'LANS', 'LARSEN',\n",
       "       'LARSSON', 'LASS', 'LAUR', 'LAURAND', 'LAURINGSON', 'LAUSMA',\n",
       "       'LEE', 'LEEMETS', 'LEIGER', 'LEIJON', 'LENNMOR', 'LETT', 'LEUSKA',\n",
       "       'LEVARTOVSKI', 'LIDNER', 'LIEN', 'LIGI', 'LIKAMAA', 'LIV', 'LIVA',\n",
       "       'LUVASTE', 'LILLEPALU', 'LILLEPUU', 'LILLIEHOOK', 'LIND',\n",
       "       'LINDAHL', 'LINDE', 'LINDER', 'LINDGREN', 'LINDOK', 'LINDQVIST',\n",
       "       'LINDROOS', 'LINDSKOG', 'LINDSTROM', 'LINDVALL', 'LOMP',\n",
       "       'LOOIJENGA', 'LUIGELA', 'LUMESTE', 'LUNDBERG', 'LUNDHOLM',\n",
       "       'LUNDIN', 'LUNDKVIST', 'LUNDQVIST', 'LUNDSTROM', 'LUSIKAS',\n",
       "       'LANGSTROM', 'LAANE', 'LOFLING', 'LOFSTEDT', 'LOFSTROM', 'LOUK',\n",
       "       'MADAR', 'MAGNUSSON', 'MAIDRE', 'MAKARENKO', 'MAKAROVA', 'MAKK',\n",
       "       'MALM', 'MALM-UKSTI', 'MALMBERG', 'MALMGREN', 'MALMSTROM',\n",
       "       'MAMAEV', 'MAMEDOV', 'MANNBERG', 'MANNING', 'MARIPUU', 'MARKUS',\n",
       "       'MARTTINEN', 'MATSALU', 'MATT', 'MATTSSON', 'MAXE', 'MELEHOFF',\n",
       "       'MELLSTROM', 'MEOS', 'METSALLIK', 'METSPALO', 'MILD', 'MILIAUSKAS',\n",
       "       'MINTCHOUKOVA-HOLMSTEIN', 'MOLLOKA', 'MOOSAAR', 'MOREL', 'MULLO',\n",
       "       'MURUMAGI', 'MUUR', 'MYRBERG', 'MYRSTROM KARLSSON', 'MANSSON',\n",
       "       'MARDH', 'MAHL', 'MAKI-KALA', 'MAKINEN', 'MANDLA', 'MANNISTE',\n",
       "       'MARTSON', 'MOLDER', 'MOLLER', 'MOTTUS', 'NAARALAINEN',\n",
       "       'NAVJORTKINA', 'NIGLAS', 'NIINELT', 'NIKOLAJEVA', 'NIKULSEWS',\n",
       "       'NILSSON', 'NISU', 'NOORMETS', 'NORBERG', 'NORD', 'NORDMANN',\n",
       "       'NORDMYR', 'NORDQVIST', 'NORIN', 'NORLEN', 'NORLIN', 'NORMAN',\n",
       "       'NURME', 'NURMIS', 'NYBEAG', 'NYLANDER', 'NALSEN', 'ODEN',\n",
       "       'OHERDE', 'OIGUS', 'QJA', 'OJAMAGI', 'OJASAAR', 'JOLAUSSON',\n",
       "       'OLAUSSON', 'OLOFSSON', 'OLSSON', 'ORMUS', 'ORUMAA', 'OSKARSSON',\n",
       "       'OSSIP', 'OTT', 'OVIIR', 'PAEORG', 'PALGUNOV', 'PALL', 'PALM',\n",
       "       'PALMGREN', 'PALTS', 'PALVADRE', 'PARNABAS', 'PARTSI', 'PASTERNAK',\n",
       "       'PAULSSON', 'PEHK', 'PERSSON FLYGARE', 'PERSSON', 'PETERSSON',\n",
       "       'PETRINI', 'PETTERSEN', 'PETTERSON', 'PETTERSSON', 'PIHLAK',\n",
       "       'PIHT', 'PIHUS', 'PILL', 'PIQUER', 'PITK', 'PIUS', 'PLEHHANOVA',\n",
       "       'POOM', 'POOPUU', 'PREI', 'PRIMAKOV', 'PROMMIK', 'PSENITSNOI',\n",
       "       'PUKSPUU', 'PUNDI', 'PUNGAR', 'PUOLIVALI', 'PURRU', 'PUURA',\n",
       "       'PUUSEPP', 'PYSTO', 'PALSSON', 'PARSON', 'PODER', 'POKK', 'POLD',\n",
       "       'POLDSAAR', 'POLLENDIK', 'POLLU', 'POLLUAED', 'RABA', 'RAGNAR',\n",
       "       'RAHAMAGI', 'RAHUOJA', 'RAIDMA', 'RAIEND', 'RAMBERG', 'RANDMA',\n",
       "       'RAPP', 'RASMUSSEN', 'RAUDMANN', 'RAUDSEPP', 'REBANE', 'REIAL',\n",
       "       'REILENT', 'REIMANN', 'RENDRUP SANDBERG', 'RETEL', 'RUT',\n",
       "       'RIKMANN', 'RISINGER', 'RODEN', 'ROHULAID', 'ROHUMAA', 'RONK',\n",
       "       'ROOPALU', 'ROOS', 'ROSLUND', 'ROSMAN', 'ROTHE', 'ROUK', 'RUBEN',\n",
       "       'RUDA', 'RULL', 'RUNEBORG', 'RUNESTEDT', 'RYHN', 'RAST', 'RATSEP',\n",
       "       'RONNBACK', 'RONNQVIST', 'SAADI', 'SAAR', 'SAARE', 'SAARME',\n",
       "       'SAARNIIT', 'SADRAK', 'SAIDLA', 'SALU', 'SAME', 'SANDBERG',\n",
       "       'SANDBLOM', 'SANDMAN', 'SARAP', 'SARD', 'SARI', 'SCHILLER',\n",
       "       'SCHWIETERT', 'SELIN', 'SELLEN', 'SEPP', 'SEPPANEN', 'SESKO',\n",
       "       'SIBRITS', 'SIEGEL', 'SIGMUNDSSON', 'SIHT', 'SIKK', 'SILJAJEV',\n",
       "       'SILLANDI', 'SILLANPAA', 'SILLASTE', 'SIMONOVITS', 'SINIMERI',\n",
       "       'SIROTKIN', 'SISKA', 'SJO', 'SJOBEAG', 'SJOBLOM', 'SJOGREN',\n",
       "       'SJOSTROM', 'SJOO', 'SKAGERVIK', 'SKOROHHODOVA', 'SLEINERS',\n",
       "       'SLATT', 'SOOALUSTE', 'SOOMAN', 'SOOSAAR', 'SORMUL', 'SPUHL',\n",
       "       'STAUZS', 'STEINER', 'STENBERG', 'STENGARD', 'STENGARD-HAVOSSAR',\n",
       "       'STERN', 'STJERNQVIST', 'STOLTZ', 'STREICS', 'STAHLBAGE',\n",
       "       'SUMBERG', 'SUND', 'SUNDBERG', 'SUNDELL', 'SUNDGREN', 'SUNDIUS',\n",
       "       'SUNDKVIST', 'SVANTESSON', 'SVENSSON', 'SWIERCZEK', 'SODERBLOM',\n",
       "       'SODERLUND', 'SORENSEN', 'SORMAN', 'SOSTER', 'TALME', 'TALVER',\n",
       "       'TAMACHAUSKAS', 'TAMM', 'TAMMAIL', 'TAMMELEHT', 'TAMMES',\n",
       "       'TAMMSALU', 'TARGAMA', 'TEDEN', 'TEESAAR', 'TEGELBERG', 'TENMAN',\n",
       "       'THIGER', 'THODEN', 'THOMSEN', 'THOMSSON', 'TILLEMAN',\n",
       "       'TILLY ANDERSSON', 'TIMMERMAN LUND', 'TIMONEN', 'TIMPKA',\n",
       "       'TJEPLJAK', 'TOLPA', 'TOMBAK', 'TOMBERG', 'TOMINGAS', 'TOOBAL',\n",
       "       'TOOM', 'TOOME', 'TOOMUS', 'TREU', 'TROLIE', 'TRUMM', 'TRUMP',\n",
       "       'TSIREL', 'TUDELEPP', 'TULVIK', 'TURDEAN', 'TURN', 'TYYR',\n",
       "       'TONISSON', 'TONISSOO', 'TONISTE', 'UDUSTE', 'ULLSTRAND', 'ULP',\n",
       "       'URBALU', 'JUTSTEN', 'VABRITT TIBBING', 'VAHER', 'VAHTRAS',\n",
       "       'VAIGLA', 'VALD', 'VALDMETS', 'VALEJEVS', 'VANHANEN', 'VARMA',\n",
       "       'VASK', 'VASKE', 'VASSIL', 'VEIDE', 'VEINBERGS', 'VENNERBERG',\n",
       "       'VENTSEL', 'VERHOGLJAD', 'VERRO', 'VESKE', 'VETKA', 'VETTERLUND',\n",
       "       'VIHMAR', 'VIJARD', 'VILLAU', 'VILPERT', 'VISTER', 'VITENBERGS',\n",
       "       'VON BAHR', 'VON PAYR', 'VORONIN', 'VUKS', 'VAIN', 'VAISANEN',\n",
       "       'VALJAOTS', 'VOSU', 'VOOSA', 'WACHTMEISTER', 'WALDEMARSDOTTER',\n",
       "       'WALLENSTEIN', 'WANSELOW', 'WANSTROM', 'WASS', 'WEGBLAD',\n",
       "       'WEIDINGER', 'WELINDER', 'WESSMAN', 'WESTBERG', 'WIKNER',\n",
       "       'WIKSTROM', 'WIMNELL', 'WOLF', 'YRJONEN', 'ZAKRISSON', 'ZELMIN',\n",
       "       'ZETTERSTROM JANSEN', 'ABERG PERSSON', 'ABERG', 'ASTROM',\n",
       "       'OQLLGAARD', 'OMAR', 'OSTERBERG', 'QSTERVALL', 'OSTLUND', 'OSTROM',\n",
       "       'OUN', 'QUNAPUU', 'GUNAPUU', 'OVBERG'], dtype=object)"
      ]
     },
     "execution_count": 228,
     "metadata": {},
     "output_type": "execute_result"
    }
   ],
   "source": [
    "df['Lastname'].unique()"
   ]
  },
  {
   "cell_type": "code",
   "execution_count": 229,
   "metadata": {},
   "outputs": [
    {
     "data": {
      "text/plain": [
       "ANDERSSON     15\n",
       "NILSSON       12\n",
       "ERIKSSON      11\n",
       "KARLSSON       9\n",
       "JOHANSSON      9\n",
       "SVENSSON       8\n",
       "PERSSON        8\n",
       "GUSTAFSSON     8\n",
       "JONSSON        6\n",
       "PETTERSSON     6\n",
       "Name: Lastname, dtype: int64"
      ]
     },
     "execution_count": 229,
     "metadata": {},
     "output_type": "execute_result"
    }
   ],
   "source": [
    "df['Lastname'].value_counts()[:10]"
   ]
  },
  {
   "cell_type": "markdown",
   "metadata": {},
   "source": [
    "3. Sex\n",
    "    - binary\n",
    "    - balanced class"
   ]
  },
  {
   "cell_type": "code",
   "execution_count": 230,
   "metadata": {},
   "outputs": [
    {
     "data": {
      "image/png": "[encoded data removed]",
      "text/plain": [
       "<Figure size 432x288 with 1 Axes>"
      ]
     },
     "metadata": {
      "needs_background": "light"
     },
     "output_type": "display_data"
    }
   ],
   "source": [
    "plt.bar(df['Sex'].unique(), df['Sex'].value_counts(), alpha=.7);"
   ]
  },
  {
   "cell_type": "markdown",
   "metadata": {},
   "source": [
    "4. Category\n",
    "    - binary\n",
    "    - imbalanced"
   ]
  },
  {
   "cell_type": "code",
   "execution_count": 231,
   "metadata": {},
   "outputs": [
    {
     "data": {
      "text/plain": [
       "array(['P', 'C'], dtype=object)"
      ]
     },
     "execution_count": 231,
     "metadata": {},
     "output_type": "execute_result"
    }
   ],
   "source": [
    "df['Category'].unique()"
   ]
  },
  {
   "cell_type": "code",
   "execution_count": 232,
   "metadata": {},
   "outputs": [
    {
     "data": {
      "image/png": "[encoded data removed]",
      "text/plain": [
       "<Figure size 432x288 with 1 Axes>"
      ]
     },
     "metadata": {
      "needs_background": "light"
     },
     "output_type": "display_data"
    }
   ],
   "source": [
    "plt.bar(df['Category'].unique(), df['Category'].value_counts(), alpha=0.7);"
   ]
  },
  {
   "cell_type": "code",
   "execution_count": 233,
   "metadata": {},
   "outputs": [],
   "source": [
    "df['Category'] = df['Category'].map({'P':0, 'C':1})"
   ]
  },
  {
   "cell_type": "markdown",
   "metadata": {},
   "source": [
    "5. Survived\n",
    "    - target attribute\n",
    "    - binary\n",
    "    - imbalanced"
   ]
  },
  {
   "cell_type": "code",
   "execution_count": 234,
   "metadata": {},
   "outputs": [
    {
     "data": {
      "text/plain": [
       "0    852\n",
       "1    137\n",
       "Name: Survived, dtype: int64"
      ]
     },
     "execution_count": 234,
     "metadata": {},
     "output_type": "execute_result"
    }
   ],
   "source": [
    "df['Survived'].value_counts()"
   ]
  },
  {
   "cell_type": "code",
   "execution_count": 235,
   "metadata": {},
   "outputs": [
    {
     "data": {
      "image/png": "[encoded data removed]",
      "text/plain": [
       "<Figure size 432x288 with 1 Axes>"
      ]
     },
     "metadata": {
      "needs_background": "light"
     },
     "output_type": "display_data"
    }
   ],
   "source": [
    "plt.bar(df['Survived'].unique(), df['Survived'].value_counts(), alpha=0.7)\n",
    "plt.title('Survived')\n",
    "plt.xticks(df['Survived'].unique());"
   ]
  },
  {
   "cell_type": "markdown",
   "metadata": {},
   "source": [
    "# 3. Working with Imbalanced Classes\n",
    "\n",
    "Imbalanced data refers to a problem with classification where classes are not represented equally. As in the attributes above, taking the target for this example, we have 852 samples of Class 0 and 137 samples of Class 1, which results in a ratio of 6:1, and this can cause some troube.\n",
    "\n",
    "So here we'll try to see some approaches to strive with imbalanced data through **resampling**.\n",
    "Resampling basically involves creating a new transformed version of the training dataset with different class distribution, and in this case, randomly.\n",
    "\n",
    "Here we'll use the *imblearn* library [[3]](https://imbalanced-learn.readthedocs.io/en/stable/user_guide.html), a specific library used for dealing with imbalanced classes."
   ]
  },
  {
   "cell_type": "code",
   "execution_count": 236,
   "metadata": {},
   "outputs": [],
   "source": [
    "# before we go ahead, let's split our dataset in predictors and target\n",
    "# to check how the techniques change it\n",
    "X = df.drop('Survived', axis=1)\n",
    "y = df['Survived']"
   ]
  },
  {
   "cell_type": "code",
   "execution_count": 237,
   "metadata": {},
   "outputs": [
    {
     "data": {
      "text/plain": [
       "((989, 7), (989,))"
      ]
     },
     "execution_count": 237,
     "metadata": {},
     "output_type": "execute_result"
    }
   ],
   "source": [
    "X.shape, y.shape"
   ]
  },
  {
   "cell_type": "code",
   "execution_count": 238,
   "metadata": {},
   "outputs": [
    {
     "data": {
      "text/plain": [
       "0    852\n",
       "1    137\n",
       "Name: Survived, dtype: int64"
      ]
     },
     "execution_count": 238,
     "metadata": {},
     "output_type": "execute_result"
    }
   ],
   "source": [
    "y.value_counts()"
   ]
  },
  {
   "cell_type": "markdown",
   "metadata": {},
   "source": [
    "## 3.1. Oversampling\n",
    "\n",
    "Oversampling methods duplicate examples in the minority class or synthesize new examples from the examples in the minority class. Some of the techniques that will be covered here are [[4]](https://machinelearningmastery.com/data-sampling-methods-for-imbalanced-classification/):\n",
    "1. Random Oversampling\n",
    "2. Synthetic Minority Oversampling Technique (SMOTE)\n",
    "3. Borderline-SMOTE\n",
    "4. Borderline Oversampling with SVM\n",
    "5. SMOTENC\n",
    "6. Adaptative Synthetic Sampling (ADASYN)\n",
    "\n"
   ]
  },
  {
   "cell_type": "markdown",
   "metadata": {},
   "source": [
    "### 3.1.1. Random Oversampling\n",
    "\n",
    "As commented above, in random over-sampling a random set of copies of minority class examples is added to the data. \n",
    "\n",
    "One advantage is that it leads to no information loss like under-sampling (reduced dataset). Nevertheless, this can increase the likelihood of overfitting, specially for high rates, hence decrease the classifier performance while increasing the computational effort [[5]](https://arxiv.org/pdf/1505.01658.pdf), [[6]](https://www.analyticsvidhya.com/blog/2017/03/imbalanced-data-classification/#:~:text=Dealing%20with%20imbalanced%20datasets%20entails,as%20it%20has%20wider%20application.).\n",
    "\n",
    "As we see from the shape belowe, it increased from 852 up to 1704 i.e. doubled, but the target class is now balanced evenly."
   ]
  },
  {
   "cell_type": "code",
   "execution_count": 239,
   "metadata": {},
   "outputs": [],
   "source": [
    "from imblearn.over_sampling import RandomOverSampler\n",
    "\n",
    "# for over-sampling we have several different strategies (check [3] above)\n",
    "# here we'll use the minority strategy, which resamples only the minority class\n",
    "oversample = RandomOverSampler(sampling_strategy='minority', random_state=42)\n",
    "\n",
    "X_over, y_over = oversample.fit_resample(X,y)"
   ]
  },
  {
   "cell_type": "code",
   "execution_count": 240,
   "metadata": {},
   "outputs": [
    {
     "data": {
      "text/plain": [
       "((1704, 7), (1704,))"
      ]
     },
     "execution_count": 240,
     "metadata": {},
     "output_type": "execute_result"
    }
   ],
   "source": [
    "X_over.shape, y_over.shape"
   ]
  },
  {
   "cell_type": "code",
   "execution_count": 241,
   "metadata": {},
   "outputs": [
    {
     "data": {
      "image/png": "[encoded data removed]",
      "text/plain": [
       "<Figure size 432x288 with 2 Axes>"
      ]
     },
     "metadata": {
      "needs_background": "light"
     },
     "output_type": "display_data"
    }
   ],
   "source": [
    "fig, (ax1, ax2) = plt.subplots(1,2)\n",
    "ax1.hist(X['Age'], bins=20); ax1.set_title('Original')\n",
    "ax2.hist(X_over['Age'], bins=20); ax2.set_title('Oversampling');"
   ]
  },
  {
   "cell_type": "code",
   "execution_count": 242,
   "metadata": {},
   "outputs": [
    {
     "data": {
      "text/plain": [
       "(DescribeResult(nobs=1704, minmax=(0, 87), mean=40.17546948356807, variance=261.5481706543823, skewness=0.43555320538925785, kurtosis=-0.703465121694399),\n",
       " 38.0)"
      ]
     },
     "execution_count": 242,
     "metadata": {},
     "output_type": "execute_result"
    }
   ],
   "source": [
    "stats.describe(X_over['Age']), X_over['Age'].median()"
   ]
  },
  {
   "cell_type": "code",
   "execution_count": 243,
   "metadata": {},
   "outputs": [
    {
     "data": {
      "text/plain": [
       "1    852\n",
       "0    852\n",
       "Name: Survived, dtype: int64"
      ]
     },
     "execution_count": 243,
     "metadata": {},
     "output_type": "execute_result"
    }
   ],
   "source": [
    "y_over.value_counts()"
   ]
  },
  {
   "cell_type": "markdown",
   "metadata": {},
   "source": [
    "### 3.1.2. SMOTE\n",
    "\n",
    "Apart from these random sampling with replacement, another over-sampling method is the *Synthetic Minority Oversampling Technique (SMOTE)*, which generates, as the named proposes, synthetic samples. \n",
    "\n",
    "It works creating synthetic samples from the minor class instead of creating copies as before. It selects ta minority class instance a at random and finds its k nearest minority class neighbors. The synthetic instance is then created by choosing one of the k nearest neighbors b at random and connecting a and b to form a line segment in the feature space. The synthetic instances are generated as a convex combination of the two chosen instances a and b [[1]](https://www.wiley.com/en-us/Imbalanced+Learning%3A+Foundations%2C+Algorithms%2C+and+Applications-p-9781118074626), [[7]](https://machinelearningmastery.com/tactics-to-combat-imbalanced-classes-in-your-machine-learning-dataset/), [[8]](https://www.datasciencecentral.com/profiles/blogs/handling-imbalanced-data-sets-in-supervised-learning-using-family#:~:text=The%20key%20difference%20between%20ADASYN,to%20compensate%20for%20the%20skewed), [[9]](https://imbalanced-learn.org/stable/over_sampling.html#a-practical-guide).\n",
    "\n",
    "PS: SMOTE works in theory only with **numerical data**."
   ]
  },
  {
   "cell_type": "code",
   "execution_count": 244,
   "metadata": {},
   "outputs": [],
   "source": [
    "from imblearn.over_sampling import SMOTE\n",
    "\n",
    "# for this, we need only numerical values, so we'll use only Age as predictor\n",
    "X_num = np.asarray(X['Age']).reshape(-1,1)\n",
    "\n",
    "smote = SMOTE(sampling_strategy='minority', random_state=42)\n",
    "X_smote, y_smote = smote.fit_resample(X_num, y)"
   ]
  },
  {
   "cell_type": "code",
   "execution_count": 245,
   "metadata": {},
   "outputs": [
    {
     "data": {
      "text/plain": [
       "((1704, 1), (1704,))"
      ]
     },
     "execution_count": 245,
     "metadata": {},
     "output_type": "execute_result"
    }
   ],
   "source": [
    "X_smote.shape, y_smote.shape"
   ]
  },
  {
   "cell_type": "code",
   "execution_count": 246,
   "metadata": {},
   "outputs": [
    {
     "data": {
      "image/png": "[encoded data removed]",
      "text/plain": [
       "<Figure size 432x288 with 2 Axes>"
      ]
     },
     "metadata": {
      "needs_background": "light"
     },
     "output_type": "display_data"
    }
   ],
   "source": [
    "fig, (ax1, ax2) = plt.subplots(1,2)\n",
    "ax1.hist(X['Age'], bins=20); ax1.set_title('Original')\n",
    "ax2.hist(X_smote, bins=20); ax2.set_title('SMOTE');"
   ]
  },
  {
   "cell_type": "code",
   "execution_count": 247,
   "metadata": {},
   "outputs": [
    {
     "data": {
      "text/plain": [
       "(DescribeResult(nobs=1704, minmax=(array([0]), array([87])), mean=array([39.5129108]), variance=array([266.47311566]), skewness=array([0.4651974]), kurtosis=array([-0.69021705])),\n",
       " 37.0)"
      ]
     },
     "execution_count": 247,
     "metadata": {},
     "output_type": "execute_result"
    }
   ],
   "source": [
    "stats.describe(X_smote), np.median(X_smote)"
   ]
  },
  {
   "cell_type": "code",
   "execution_count": 248,
   "metadata": {},
   "outputs": [
    {
     "data": {
      "text/plain": [
       "1    852\n",
       "0    852\n",
       "Name: Survived, dtype: int64"
      ]
     },
     "execution_count": 248,
     "metadata": {},
     "output_type": "execute_result"
    }
   ],
   "source": [
    "y_smote.value_counts()"
   ]
  },
  {
   "cell_type": "markdown",
   "metadata": {},
   "source": [
    "### 3.1.3. Borderline-SMOTE\n",
    "\n",
    "In Borderline-SMOTE only borderline instances are considered to be SMOTEd, where borderline instances are defined as instances that are  misclassified by knn, generating only synthetic that are *difficult* to classify [[1]](https://www.wiley.com/en-us/Imbalanced+Learning%3A+Foundations%2C+Algorithms%2C+and+Applications-p-9781118074626), [[4]](https://machinelearningmastery.com/data-sampling-methods-for-imbalanced-classification/)."
   ]
  },
  {
   "cell_type": "code",
   "execution_count": 249,
   "metadata": {
    "scrolled": true
   },
   "outputs": [],
   "source": [
    "from imblearn.over_sampling import BorderlineSMOTE\n",
    "\n",
    "# for this, we need only numerical values, so we'll use only Age as predictor\n",
    "bord_smote = BorderlineSMOTE(sampling_strategy='minority', random_state=42)\n",
    "X_bsmote, y_bsmote = bord_smote.fit_resample(X_num, y)"
   ]
  },
  {
   "cell_type": "code",
   "execution_count": 250,
   "metadata": {},
   "outputs": [
    {
     "data": {
      "text/plain": [
       "((1704, 1), (1704,))"
      ]
     },
     "execution_count": 250,
     "metadata": {},
     "output_type": "execute_result"
    }
   ],
   "source": [
    "X_bsmote.shape, y_bsmote.shape"
   ]
  },
  {
   "cell_type": "code",
   "execution_count": 251,
   "metadata": {},
   "outputs": [
    {
     "data": {
      "image/png": "[encoded data removed]",
      "text/plain": [
       "<Figure size 432x288 with 2 Axes>"
      ]
     },
     "metadata": {
      "needs_background": "light"
     },
     "output_type": "display_data"
    }
   ],
   "source": [
    "fig, (ax1, ax2) = plt.subplots(1,2)\n",
    "ax1.hist(X['Age'], bins=20); ax1.set_title('Original')\n",
    "ax2.hist(X_bsmote, bins=20); ax2.set_title('Borderline-SMOTE');"
   ]
  },
  {
   "cell_type": "code",
   "execution_count": 252,
   "metadata": {},
   "outputs": [
    {
     "data": {
      "text/plain": [
       "(DescribeResult(nobs=1704, minmax=(array([0]), array([87])), mean=array([39.61678404]), variance=array([259.30050498]), skewness=array([0.48875465]), kurtosis=array([-0.63970249])),\n",
       " 37.0)"
      ]
     },
     "execution_count": 252,
     "metadata": {},
     "output_type": "execute_result"
    }
   ],
   "source": [
    "stats.describe(X_bsmote), np.median(X_bsmote)"
   ]
  },
  {
   "cell_type": "code",
   "execution_count": 253,
   "metadata": {},
   "outputs": [
    {
     "data": {
      "text/plain": [
       "1    852\n",
       "0    852\n",
       "Name: Survived, dtype: int64"
      ]
     },
     "execution_count": 253,
     "metadata": {},
     "output_type": "execute_result"
    }
   ],
   "source": [
    "y_smote.value_counts()"
   ]
  },
  {
   "cell_type": "markdown",
   "metadata": {},
   "source": [
    "### 3.1.5. Borderline with SVM\n",
    "\n",
    "Variant of SMOTE algorithm which use an SVM algorithm to detect sample to use for generating new synthetic samples [[10]](https://imbalanced-learn.org/stable/generated/imblearn.over_sampling.SVMSMOTE.html).\n",
    "\n",
    "As we can check above, Borderline-SMOTE with SVM does not result in a half-half number of samples."
   ]
  },
  {
   "cell_type": "code",
   "execution_count": 254,
   "metadata": {},
   "outputs": [],
   "source": [
    "from imblearn.over_sampling import SVMSMOTE\n",
    "\n",
    "#for this, we need only numerical values, so we'll use only Age as predictor\n",
    "bord_svm_smote = SVMSMOTE(sampling_strategy='minority', random_state=42)\n",
    "X_bssmote, y_bssmote = bord_svm_smote.fit_resample(X_num, y)"
   ]
  },
  {
   "cell_type": "code",
   "execution_count": 255,
   "metadata": {},
   "outputs": [
    {
     "data": {
      "text/plain": [
       "((1382, 1), (1382,))"
      ]
     },
     "execution_count": 255,
     "metadata": {},
     "output_type": "execute_result"
    }
   ],
   "source": [
    "X_bssmote.shape, y_bssmote.shape"
   ]
  },
  {
   "cell_type": "code",
   "execution_count": 256,
   "metadata": {},
   "outputs": [
    {
     "data": {
      "image/png": "[encoded data removed]",
      "text/plain": [
       "<Figure size 432x288 with 2 Axes>"
      ]
     },
     "metadata": {
      "needs_background": "light"
     },
     "output_type": "display_data"
    }
   ],
   "source": [
    "fig, (ax1, ax2) = plt.subplots(1,2)\n",
    "ax1.hist(X['Age'], bins=20); ax1.set_title('Original')\n",
    "ax2.hist(X_bssmote, bins=20); ax2.set_title('SVM-SMOTE');"
   ]
  },
  {
   "cell_type": "code",
   "execution_count": 257,
   "metadata": {},
   "outputs": [
    {
     "data": {
      "text/plain": [
       "(DescribeResult(nobs=1382, minmax=(array([0]), array([87])), mean=array([41.20549928]), variance=array([276.54282274]), skewness=array([0.35533771]), kurtosis=array([-0.8014179])),\n",
       " 40.0)"
      ]
     },
     "execution_count": 257,
     "metadata": {},
     "output_type": "execute_result"
    }
   ],
   "source": [
    "stats.describe(X_bssmote), np.median(X_bssmote)"
   ]
  },
  {
   "cell_type": "code",
   "execution_count": 258,
   "metadata": {},
   "outputs": [
    {
     "data": {
      "text/plain": [
       "0    852\n",
       "1    530\n",
       "Name: Survived, dtype: int64"
      ]
     },
     "execution_count": 258,
     "metadata": {},
     "output_type": "execute_result"
    }
   ],
   "source": [
    "y_bssmote.value_counts()"
   ]
  },
  {
   "cell_type": "markdown",
   "metadata": {},
   "source": [
    "### 3.1.6. SMOTENC\n",
    "\n",
    "SMOTENC is a SMOTE variant for Nominal and Continuous, where one have a dataset with continuous and categorical features [[11]](https://imbalanced-learn.readthedocs.io/en/stable/generated/imblearn.over_sampling.SMOTENC.html#imblearn.over_sampling.SMOTENC)."
   ]
  },
  {
   "cell_type": "code",
   "execution_count": 259,
   "metadata": {
    "scrolled": true
   },
   "outputs": [],
   "source": [
    "from imblearn.over_sampling import SMOTENC\n",
    "\n",
    "X_cat = X[['Sex','Age']]\n",
    "\n",
    "smotenc = SMOTENC(sampling_strategy='minority', categorical_features=[X_cat.dtypes==object])\n",
    "X_smotenc, y_smotenc = smotenc.fit_resample(X_cat, y)"
   ]
  },
  {
   "cell_type": "code",
   "execution_count": 260,
   "metadata": {},
   "outputs": [
    {
     "data": {
      "text/plain": [
       "((1704, 2), (1704,))"
      ]
     },
     "execution_count": 260,
     "metadata": {},
     "output_type": "execute_result"
    }
   ],
   "source": [
    "X_smotenc.shape, y_smotenc.shape"
   ]
  },
  {
   "cell_type": "code",
   "execution_count": 261,
   "metadata": {},
   "outputs": [
    {
     "data": {
      "image/png": "[encoded data removed]",
      "text/plain": [
       "<Figure size 432x288 with 2 Axes>"
      ]
     },
     "metadata": {
      "needs_background": "light"
     },
     "output_type": "display_data"
    }
   ],
   "source": [
    "fig, (ax1, ax2) = plt.subplots(1,2)\n",
    "ax1.hist(X['Age'], bins=20); ax1.set_title('Original')\n",
    "ax2.hist(X_smotenc['Age'], bins=20); ax2.set_title('SMOTENC');"
   ]
  },
  {
   "cell_type": "code",
   "execution_count": 262,
   "metadata": {},
   "outputs": [
    {
     "data": {
      "image/png": "[encoded data removed]",
      "text/plain": [
       "<Figure size 432x288 with 2 Axes>"
      ]
     },
     "metadata": {
      "needs_background": "light"
     },
     "output_type": "display_data"
    }
   ],
   "source": [
    "fig, (ax1, ax2) = plt.subplots(1,2)\n",
    "ax1.bar(X['Sex'].unique(), X['Sex'].value_counts()); ax1.set_title('Original')\n",
    "ax2.bar(X_smotenc['Sex'].unique(), X_smotenc['Sex'].value_counts()); ax2.set_title('SMOTENC')\n",
    "plt.subplots_adjust(right=1.1);"
   ]
  },
  {
   "cell_type": "code",
   "execution_count": 263,
   "metadata": {},
   "outputs": [
    {
     "data": {
      "text/plain": [
       "M    1096\n",
       "F     608\n",
       "Name: Sex, dtype: int64"
      ]
     },
     "execution_count": 263,
     "metadata": {},
     "output_type": "execute_result"
    }
   ],
   "source": [
    "X_smotenc['Sex'].value_counts()"
   ]
  },
  {
   "cell_type": "code",
   "execution_count": 264,
   "metadata": {},
   "outputs": [
    {
     "data": {
      "text/plain": [
       "(DescribeResult(nobs=1704, minmax=(0, 87), mean=40.21654929577465, variance=261.6447993598703, skewness=0.4177064417757139, kurtosis=-0.7039105582215766),\n",
       " 38.0)"
      ]
     },
     "execution_count": 264,
     "metadata": {},
     "output_type": "execute_result"
    }
   ],
   "source": [
    "stats.describe(X_smotenc['Age']), np.median(X_smotenc['Age'])"
   ]
  },
  {
   "cell_type": "code",
   "execution_count": 265,
   "metadata": {},
   "outputs": [
    {
     "data": {
      "text/plain": [
       "1    852\n",
       "0    852\n",
       "Name: Survived, dtype: int64"
      ]
     },
     "execution_count": 265,
     "metadata": {},
     "output_type": "execute_result"
    }
   ],
   "source": [
    "y_smotenc.value_counts()"
   ]
  },
  {
   "cell_type": "markdown",
   "metadata": {},
   "source": [
    "### 3.1.7. ADASYN\n",
    "\n",
    "ADASYN stands for ADAptive SYNthetic, and is based on the idea of adaptively generating minority data samples according to their distributions using KNN and Euclidean distance. The algorithm adaptively updates the distribution and there are no assumptions made for the underlying distribution of the data.\n",
    "\n",
    "The key **difference** between ADASYN and SMOTE is that the *former* uses a *density distribution* as a criterion to automatically *decide the number of synthetic samples* that must be generated for each minority sample by adaptively changing the weights of the different minority samples to compensate for the skewed distributions. The *latter* generates the *same number of synthetic samples* for each original minority sample [[12]](https://www.datasciencecentral.com/profiles/blogs/handling-imbalanced-data-sets-in-supervised-learning-using-family#:~:text=The%20key%20difference%20between%20ADASYN,to%20compensate%20for%20the%20skewed), [[13]](https://imbalanced-learn.org/stable/over_sampling.html#a-practical-guide).\n",
    "\n",
    "PS: ADASYN also works only with **numerical data**."
   ]
  },
  {
   "cell_type": "code",
   "execution_count": 266,
   "metadata": {},
   "outputs": [],
   "source": [
    "from imblearn.over_sampling import ADASYN\n",
    "\n",
    "# for this, we need only numerical values, so we'll use only Age as predictor\n",
    "adasyn = ADASYN(random_state=42)\n",
    "X_adasyn, y_adasyn = smote.fit_resample(X_num, y)"
   ]
  },
  {
   "cell_type": "code",
   "execution_count": 267,
   "metadata": {},
   "outputs": [
    {
     "data": {
      "text/plain": [
       "((1704, 1), (1704,))"
      ]
     },
     "execution_count": 267,
     "metadata": {},
     "output_type": "execute_result"
    }
   ],
   "source": [
    "X_adasyn.shape, y_adasyn.shape"
   ]
  },
  {
   "cell_type": "code",
   "execution_count": 268,
   "metadata": {},
   "outputs": [
    {
     "data": {
      "image/png": "[encoded data removed]",
      "text/plain": [
       "<Figure size 432x288 with 2 Axes>"
      ]
     },
     "metadata": {
      "needs_background": "light"
     },
     "output_type": "display_data"
    }
   ],
   "source": [
    "fig, (ax1, ax2) = plt.subplots(1,2)\n",
    "ax1.hist(X['Age'], bins=20); ax1.set_title('Original')\n",
    "ax2.hist(X_adasyn, bins=20); ax2.set_title('ADASYN');"
   ]
  },
  {
   "cell_type": "code",
   "execution_count": 269,
   "metadata": {},
   "outputs": [
    {
     "data": {
      "text/plain": [
       "(DescribeResult(nobs=1704, minmax=(array([0]), array([87])), mean=array([39.5129108]), variance=array([266.47311566]), skewness=array([0.4651974]), kurtosis=array([-0.69021705])),\n",
       " 37.0)"
      ]
     },
     "execution_count": 269,
     "metadata": {},
     "output_type": "execute_result"
    }
   ],
   "source": [
    "stats.describe(X_adasyn), np.median(X_adasyn)"
   ]
  },
  {
   "cell_type": "code",
   "execution_count": 270,
   "metadata": {},
   "outputs": [
    {
     "data": {
      "text/plain": [
       "1    852\n",
       "0    852\n",
       "Name: Survived, dtype: int64"
      ]
     },
     "execution_count": 270,
     "metadata": {},
     "output_type": "execute_result"
    }
   ],
   "source": [
    "y_adasyn.value_counts()"
   ]
  },
  {
   "cell_type": "markdown",
   "metadata": {},
   "source": [
    "## 3.2. Undersampling\n",
    "\n",
    "Undersampling methods delete or select a subset of examples from the majority class. The techniques presented here will be [[4]](https://machinelearningmastery.com/data-sampling-methods-for-imbalanced-classification/):\n",
    "\n",
    "1. Random Undersampling\n",
    "2. Condensed Nearest Neighbor Rule (CNN)\n",
    "3. Near Miss Undersampling\n",
    "4. Tomek Links Undersampling\n",
    "5. Edited Nearest Neighbors Rule (ENN)\n",
    "6. One-Sided Selection (OSS)\n",
    "7. Neighborhood Cleaning Rule (NCR)"
   ]
  },
  {
   "cell_type": "markdown",
   "metadata": {},
   "source": [
    "### 3.2.1. Random Undersampling\n",
    "\n",
    "Random undersampling involves randomly selecting examples from the majority class to delete from the training dataset. \n",
    "\n",
    "Of course, this can be highly problematic, as the loss of such data can make the decision boundary between minority and majority instances harder to learn, resulting in a loss in classification performance [[6]](https://machinelearningmastery.com/random-oversampling-and-undersampling-for-imbalanced-classification/), [[14]](https://imbalanced-learn.readthedocs.io/en/stable/generated/imblearn.under_sampling.RandomUnderSampler.html).\n",
    "\n",
    "As we see from the shape below, the samples reduced from 852 to 274, difference of 578. But again the target is now evenly balanced."
   ]
  },
  {
   "cell_type": "code",
   "execution_count": 271,
   "metadata": {},
   "outputs": [],
   "source": [
    "from imblearn.under_sampling import RandomUnderSampler\n",
    "\n",
    "# likewise over-sampling, here we have different strategies (check [4])\n",
    "# but we'll use majority, which resmaples only the majority class\n",
    "undersample = RandomUnderSampler(sampling_strategy='majority')\n",
    "\n",
    "X_under, y_under = undersample.fit_resample(X, y)"
   ]
  },
  {
   "cell_type": "code",
   "execution_count": 272,
   "metadata": {},
   "outputs": [
    {
     "data": {
      "text/plain": [
       "((274, 7), (274,))"
      ]
     },
     "execution_count": 272,
     "metadata": {},
     "output_type": "execute_result"
    }
   ],
   "source": [
    "X_under.shape, y_under.shape"
   ]
  },
  {
   "cell_type": "code",
   "execution_count": 273,
   "metadata": {},
   "outputs": [
    {
     "data": {
      "image/png": "[encoded data removed]",
      "text/plain": [
       "<Figure size 432x288 with 2 Axes>"
      ]
     },
     "metadata": {
      "needs_background": "light"
     },
     "output_type": "display_data"
    }
   ],
   "source": [
    "fig, (ax1, ax2) = plt.subplots(1,2)\n",
    "ax1.hist(X['Age'], bins=20); ax1.set_title('Original')\n",
    "ax2.hist(X_under['Age'], bins=20); ax2.set_title('Undersampling');"
   ]
  },
  {
   "cell_type": "code",
   "execution_count": 274,
   "metadata": {},
   "outputs": [
    {
     "data": {
      "text/plain": [
       "(DescribeResult(nobs=274, minmax=(10, 82), mean=41.28832116788321, variance=255.31949680489825, skewness=0.3949657488839173, kurtosis=-0.6926464535289605),\n",
       " 41.0)"
      ]
     },
     "execution_count": 274,
     "metadata": {},
     "output_type": "execute_result"
    }
   ],
   "source": [
    "stats.describe(X_under['Age']), np.median(X_under['Age'])"
   ]
  },
  {
   "cell_type": "code",
   "execution_count": 275,
   "metadata": {},
   "outputs": [
    {
     "data": {
      "text/plain": [
       "1    137\n",
       "0    137\n",
       "Name: Survived, dtype: int64"
      ]
     },
     "execution_count": 275,
     "metadata": {},
     "output_type": "execute_result"
    }
   ],
   "source": [
    "y_under.value_counts()"
   ]
  },
  {
   "cell_type": "markdown",
   "metadata": {},
   "source": [
    "### 3.2.2. Condensed Nearest Neighbour\n",
    "\n",
    "CNN works like this: let D be the original training set of instances, and C be a set of instances containing all of the minority  lass examples and a randomly selected majority instance. CNN then classifies all instances in D by finding its nearest neighbor in C and adding it to C if it is misclassified, effectively eliminated in the resulting dataset C as any instance correctly classified by its nearest neighbors is not added to the dataset [[1]](https://www.wiley.com/en-us/Imbalanced+Learning%3A+Foundations%2C+Algorithms%2C+and+Applications-p-9781118074626).\n",
    "\n",
    "PS: CNN works only with **numerical data!**"
   ]
  },
  {
   "cell_type": "code",
   "execution_count": 276,
   "metadata": {
    "scrolled": true
   },
   "outputs": [],
   "source": [
    "from imblearn.under_sampling import CondensedNearestNeighbour\n",
    "\n",
    "# CNN also needs to only numerical data, so we again will use the predictor Age only\n",
    "cnn = CondensedNearestNeighbour(sampling_strategy='majority', random_state=42)\n",
    "X_cnn, y_cnn = cnn.fit_resample(X_num, y)"
   ]
  },
  {
   "cell_type": "code",
   "execution_count": 277,
   "metadata": {},
   "outputs": [
    {
     "data": {
      "text/plain": [
       "((385, 1), (385,))"
      ]
     },
     "execution_count": 277,
     "metadata": {},
     "output_type": "execute_result"
    }
   ],
   "source": [
    "X_cnn.shape, y_cnn.shape"
   ]
  },
  {
   "cell_type": "code",
   "execution_count": 278,
   "metadata": {},
   "outputs": [
    {
     "data": {
      "image/png": "[encoded data removed]",
      "text/plain": [
       "<Figure size 432x288 with 2 Axes>"
      ]
     },
     "metadata": {
      "needs_background": "light"
     },
     "output_type": "display_data"
    }
   ],
   "source": [
    "fig, (ax1, ax2) = plt.subplots(1,2)\n",
    "ax1.hist(X['Age'], bins=20); ax1.set_title('Original')\n",
    "ax2.hist(X_cnn, bins=20); ax2.set_title('CNN');"
   ]
  },
  {
   "cell_type": "code",
   "execution_count": 279,
   "metadata": {},
   "outputs": [
    {
     "data": {
      "text/plain": [
       "(DescribeResult(nobs=385, minmax=(array([5]), array([71])), mean=array([37.18441558]), variance=array([189.32788149]), skewness=array([0.39329312]), kurtosis=array([-0.60944221])),\n",
       " 36.0)"
      ]
     },
     "execution_count": 279,
     "metadata": {},
     "output_type": "execute_result"
    }
   ],
   "source": [
    "stats.describe(X_cnn), np.median(X_cnn)"
   ]
  },
  {
   "cell_type": "code",
   "execution_count": 280,
   "metadata": {},
   "outputs": [
    {
     "data": {
      "text/plain": [
       "0    248\n",
       "1    137\n",
       "Name: Survived, dtype: int64"
      ]
     },
     "execution_count": 280,
     "metadata": {},
     "output_type": "execute_result"
    }
   ],
   "source": [
    "y_cnn.value_counts()"
   ]
  },
  {
   "cell_type": "markdown",
   "metadata": {},
   "source": [
    "### 3.2.3. Near Miss\n",
    "\n",
    "It's a family of methods that use KNN to select examples from the majority class [[4]](https://machinelearningmastery.com/data-sampling-methods-for-imbalanced-classification/). \n",
    "- NearMiss-1 selects examples from the majority class that have the smallest average distance to the three closest examples from the minority class;\n",
    "- NearMiss-2 selects examples from the majority class that have the smallest average distance to the three furthest examples from the minority class;\n",
    "- NearMiss-3 involves selecting a given number of majority class examples for each example in the minority class that are closest.\n",
    "\n",
    "PS: Near Miss works only with **numerical data!**"
   ]
  },
  {
   "cell_type": "code",
   "execution_count": 281,
   "metadata": {},
   "outputs": [],
   "source": [
    "from imblearn.under_sampling import NearMiss\n",
    "\n",
    "# Near Miss needs numerical data as well!\n",
    "near_miss = NearMiss(sampling_strategy='majority', version=1)\n",
    "X_nm, y_nm = near_miss.fit_resample(X_num, y)"
   ]
  },
  {
   "cell_type": "code",
   "execution_count": 282,
   "metadata": {},
   "outputs": [
    {
     "data": {
      "text/plain": [
       "((274, 1), (274,))"
      ]
     },
     "execution_count": 282,
     "metadata": {},
     "output_type": "execute_result"
    }
   ],
   "source": [
    "X_nm.shape, y_nm.shape"
   ]
  },
  {
   "cell_type": "code",
   "execution_count": 283,
   "metadata": {},
   "outputs": [
    {
     "data": {
      "image/png": "[encoded data removed]",
      "text/plain": [
       "<Figure size 432x288 with 2 Axes>"
      ]
     },
     "metadata": {
      "needs_background": "light"
     },
     "output_type": "display_data"
    }
   ],
   "source": [
    "fig, (ax1, ax2) = plt.subplots(1,2)\n",
    "ax1.hist(X['Age'], bins=20); ax1.set_title('Original')\n",
    "ax2.hist(X_nm, bins=20); ax2.set_title('Near Miss');"
   ]
  },
  {
   "cell_type": "code",
   "execution_count": 284,
   "metadata": {},
   "outputs": [
    {
     "data": {
      "text/plain": [
       "(DescribeResult(nobs=274, minmax=(array([12]), array([67])), mean=array([33.66058394]), variance=array([122.7378546]), skewness=array([0.51843252]), kurtosis=array([-0.30731601])),\n",
       " 33.0)"
      ]
     },
     "execution_count": 284,
     "metadata": {},
     "output_type": "execute_result"
    }
   ],
   "source": [
    "stats.describe(X_nm), np.median(X_nm)"
   ]
  },
  {
   "cell_type": "code",
   "execution_count": 285,
   "metadata": {},
   "outputs": [
    {
     "data": {
      "text/plain": [
       "1    137\n",
       "0    137\n",
       "Name: Survived, dtype: int64"
      ]
     },
     "execution_count": 285,
     "metadata": {},
     "output_type": "execute_result"
    }
   ],
   "source": [
    "y_nm.value_counts()"
   ]
  },
  {
   "cell_type": "markdown",
   "metadata": {},
   "source": [
    "### 3.2.4. Tomek Links\n",
    "\n",
    "Tomek Links is a technique that selects examples from the majority class to delete.\n",
    "\n",
    "With $\\delta$(a,b) be the distance between two instances a and b, they define a Tomek Link if [[1]](https://www.wiley.com/en-us/Imbalanced+Learning%3A+Foundations%2C+Algorithms%2C+and+Applications-p-9781118074626):\n",
    "1. instance a nearest neighbour is b\n",
    "2. instance b nearest neighbour is a\n",
    "3. instances a and b belong to different classes.\n",
    "\n",
    "As commented in [[15]](https://machinelearningmastery.com/undersampling-algorithms-for-imbalanced-classification/), because the procedure removes only Tomek Links, we would not expect the result to be balanced, but only less ambiguous along the class boundary.\n",
    "\n",
    "PS: Tomek Links need **numerical data!**"
   ]
  },
  {
   "cell_type": "code",
   "execution_count": 286,
   "metadata": {},
   "outputs": [],
   "source": [
    "from imblearn.under_sampling import TomekLinks\n",
    "\n",
    "# lets use Age predictor again to demonstrate \n",
    "tomek_links = TomekLinks()\n",
    "X_tl, y_tl = tomek_links.fit_resample(X_num, y)"
   ]
  },
  {
   "cell_type": "code",
   "execution_count": 287,
   "metadata": {},
   "outputs": [
    {
     "data": {
      "text/plain": [
       "((989, 1), (989,))"
      ]
     },
     "execution_count": 287,
     "metadata": {},
     "output_type": "execute_result"
    }
   ],
   "source": [
    "X_tl.shape, y_tl.shape"
   ]
  },
  {
   "cell_type": "code",
   "execution_count": 288,
   "metadata": {},
   "outputs": [
    {
     "data": {
      "image/png": "[encoded data removed]",
      "text/plain": [
       "<Figure size 432x288 with 2 Axes>"
      ]
     },
     "metadata": {
      "needs_background": "light"
     },
     "output_type": "display_data"
    }
   ],
   "source": [
    "fig, (ax1, ax2) = plt.subplots(1,2)\n",
    "ax1.hist(X['Age'], bins=20); ax1.set_title('Original')\n",
    "ax2.hist(X_tl, bins=20); ax2.set_title('Tomek Links');"
   ]
  },
  {
   "cell_type": "code",
   "execution_count": 289,
   "metadata": {},
   "outputs": [
    {
     "data": {
      "text/plain": [
       "(DescribeResult(nobs=989, minmax=(array([0]), array([87])), mean=array([44.57532861]), variance=array([297.05024091]), skewness=array([0.0678268]), kurtosis=array([-0.93700475])),\n",
       " 44.0)"
      ]
     },
     "execution_count": 289,
     "metadata": {},
     "output_type": "execute_result"
    }
   ],
   "source": [
    "stats.describe(X_tl), np.median(X_tl)"
   ]
  },
  {
   "cell_type": "code",
   "execution_count": 290,
   "metadata": {},
   "outputs": [
    {
     "data": {
      "text/plain": [
       "0    852\n",
       "1    137\n",
       "Name: Survived, dtype: int64"
      ]
     },
     "execution_count": 290,
     "metadata": {},
     "output_type": "execute_result"
    }
   ],
   "source": [
    "y_tl.value_counts() # equal to y"
   ]
  },
  {
   "cell_type": "markdown",
   "metadata": {},
   "source": [
    "### 3.2.5. Edited Nearest Neighbours\n",
    "\n",
    "ENN involves using k=3 nearest neighbors to locate those examples in a dataset that are misclassified and deleting them. This procedure can be repeated multiple times on the same dataset, better refining the selection of examples in the majority class [[4]](https://machinelearningmastery.com/data-sampling-methods-for-imbalanced-classification/).\n",
    "\n",
    "Like Tomek Links, is a deletion technique, where the procedure only removes noisy and ambiguous points along the class boundary.\n",
    "\n",
    "PS: ENN demands **numerical data!**"
   ]
  },
  {
   "cell_type": "code",
   "execution_count": 291,
   "metadata": {},
   "outputs": [],
   "source": [
    "from imblearn.under_sampling import EditedNearestNeighbours\n",
    "\n",
    "# again using Age predictor\n",
    "enn = EditedNearestNeighbours(n_neighbors=3)\n",
    "X_enn, y_enn = enn.fit_resample(X_num, y)"
   ]
  },
  {
   "cell_type": "code",
   "execution_count": 292,
   "metadata": {},
   "outputs": [
    {
     "data": {
      "text/plain": [
       "((809, 1), (809,))"
      ]
     },
     "execution_count": 292,
     "metadata": {},
     "output_type": "execute_result"
    }
   ],
   "source": [
    "X_enn.shape, y_enn.shape"
   ]
  },
  {
   "cell_type": "code",
   "execution_count": 293,
   "metadata": {},
   "outputs": [
    {
     "data": {
      "image/png": "[encoded data removed]",
      "text/plain": [
       "<Figure size 432x288 with 2 Axes>"
      ]
     },
     "metadata": {
      "needs_background": "light"
     },
     "output_type": "display_data"
    }
   ],
   "source": [
    "fig, (ax1, ax2) = plt.subplots(1,2)\n",
    "ax1.hist(X['Age'], bins=20); ax1.set_title('Original')\n",
    "ax2.hist(X_enn, bins=20); ax2.set_title('ENN');"
   ]
  },
  {
   "cell_type": "code",
   "execution_count": 294,
   "metadata": {},
   "outputs": [
    {
     "data": {
      "text/plain": [
       "(DescribeResult(nobs=809, minmax=(array([0]), array([87])), mean=array([46.27812114]), variance=array([292.198543]), skewness=array([-0.0078161]), kurtosis=array([-0.82391767])),\n",
       " 45.0)"
      ]
     },
     "execution_count": 294,
     "metadata": {},
     "output_type": "execute_result"
    }
   ],
   "source": [
    "stats.describe(X_enn), np.median(X_enn)"
   ]
  },
  {
   "cell_type": "code",
   "execution_count": 295,
   "metadata": {},
   "outputs": [
    {
     "data": {
      "text/plain": [
       "0    672\n",
       "1    137\n",
       "Name: Survived, dtype: int64"
      ]
     },
     "execution_count": 295,
     "metadata": {},
     "output_type": "execute_result"
    }
   ],
   "source": [
    "y_enn.value_counts()"
   ]
  },
  {
   "cell_type": "markdown",
   "metadata": {},
   "source": [
    "### 3.2.6. One-Sided Selection\n",
    "\n",
    "OSS combines Tomek Links and CNN, the first used to remove noisy examples, and the last to remove redundant examples [[4]](https://machinelearningmastery.com/data-sampling-methods-for-imbalanced-classification/).\n",
    "\n",
    "PS: OSS demands **numerical data!**"
   ]
  },
  {
   "cell_type": "code",
   "execution_count": 296,
   "metadata": {},
   "outputs": [],
   "source": [
    "from imblearn.under_sampling import OneSidedSelection\n",
    "\n",
    "oss = OneSidedSelection(sampling_strategy='majority', n_neighbors=3, random_state=42)\n",
    "X_oss, y_oss = oss.fit_resample(X_num, y)"
   ]
  },
  {
   "cell_type": "code",
   "execution_count": 297,
   "metadata": {},
   "outputs": [
    {
     "data": {
      "text/plain": [
       "((989, 1), (989,))"
      ]
     },
     "execution_count": 297,
     "metadata": {},
     "output_type": "execute_result"
    }
   ],
   "source": [
    "X_oss.shape, y_oss.shape"
   ]
  },
  {
   "cell_type": "code",
   "execution_count": 298,
   "metadata": {},
   "outputs": [
    {
     "data": {
      "image/png": "[encoded data removed]",
      "text/plain": [
       "<Figure size 432x288 with 2 Axes>"
      ]
     },
     "metadata": {
      "needs_background": "light"
     },
     "output_type": "display_data"
    }
   ],
   "source": [
    "fig, (ax1, ax2) = plt.subplots(1,2)\n",
    "ax1.hist(X['Age'], bins=20); ax1.set_title('Original')\n",
    "ax2.hist(X_oss, bins=20); ax2.set_title('OSS');"
   ]
  },
  {
   "cell_type": "code",
   "execution_count": 299,
   "metadata": {},
   "outputs": [
    {
     "data": {
      "text/plain": [
       "(DescribeResult(nobs=989, minmax=(array([0]), array([87])), mean=array([44.57532861]), variance=array([297.05024091]), skewness=array([0.0678268]), kurtosis=array([-0.93700475])),\n",
       " 44.0)"
      ]
     },
     "execution_count": 299,
     "metadata": {},
     "output_type": "execute_result"
    }
   ],
   "source": [
    "stats.describe(X_oss), np.median(X_oss)"
   ]
  },
  {
   "cell_type": "code",
   "execution_count": 300,
   "metadata": {},
   "outputs": [
    {
     "data": {
      "text/plain": [
       "0    852\n",
       "1    137\n",
       "Name: Survived, dtype: int64"
      ]
     },
     "execution_count": 300,
     "metadata": {},
     "output_type": "execute_result"
    }
   ],
   "source": [
    "y_oss.value_counts()"
   ]
  },
  {
   "cell_type": "markdown",
   "metadata": {},
   "source": [
    "### 3.2.7. Neighborhood Cleaning Rule\n",
    "\n",
    "In NCR, for each instance a in the dataset, its three nearest neighbors are computed. If a is a majority class instance and is misclassified by its three nearest neighbors, then a is removed from the dataset. Alternatively, if a is a minority class instance and is misclassified by its three nearest neighbors, then the majority class instances among a’s neighbors are removed [[1]](https://www.wiley.com/en-us/Imbalanced+Learning%3A+Foundations%2C+Algorithms%2C+and+Applications-p-9781118074626).\n",
    "\n",
    "PS: NCR needs **numerical data!**"
   ]
  },
  {
   "cell_type": "code",
   "execution_count": 301,
   "metadata": {},
   "outputs": [],
   "source": [
    "from imblearn.under_sampling import NeighbourhoodCleaningRule\n",
    "\n",
    "ncr = NeighbourhoodCleaningRule()\n",
    "X_ncr, y_ncr = ncr.fit_resample(X_num, y)"
   ]
  },
  {
   "cell_type": "code",
   "execution_count": 302,
   "metadata": {},
   "outputs": [
    {
     "data": {
      "text/plain": [
       "((831, 1), (831,))"
      ]
     },
     "execution_count": 302,
     "metadata": {},
     "output_type": "execute_result"
    }
   ],
   "source": [
    "X_ncr.shape, y_ncr.shape"
   ]
  },
  {
   "cell_type": "code",
   "execution_count": 303,
   "metadata": {},
   "outputs": [
    {
     "data": {
      "image/png": "[encoded data removed]",
      "text/plain": [
       "<Figure size 432x288 with 2 Axes>"
      ]
     },
     "metadata": {
      "needs_background": "light"
     },
     "output_type": "display_data"
    }
   ],
   "source": [
    "fig, (ax1, ax2) = plt.subplots(1,2)\n",
    "ax1.hist(X['Age'], bins=20); ax1.set_title('Original')\n",
    "ax2.hist(X_ncr, bins=20); ax2.set_title('NCR');"
   ]
  },
  {
   "cell_type": "code",
   "execution_count": 304,
   "metadata": {},
   "outputs": [
    {
     "data": {
      "text/plain": [
       "(DescribeResult(nobs=831, minmax=(array([0]), array([87])), mean=array([45.97472924]), variance=array([301.53068592]), skewness=array([-0.00889138]), kurtosis=array([-0.9373357])),\n",
       " 46.0)"
      ]
     },
     "execution_count": 304,
     "metadata": {},
     "output_type": "execute_result"
    }
   ],
   "source": [
    "stats.describe(X_ncr), np.median(X_ncr)"
   ]
  },
  {
   "cell_type": "code",
   "execution_count": 305,
   "metadata": {},
   "outputs": [
    {
     "data": {
      "text/plain": [
       "0    694\n",
       "1    137\n",
       "Name: Survived, dtype: int64"
      ]
     },
     "execution_count": 305,
     "metadata": {},
     "output_type": "execute_result"
    }
   ],
   "source": [
    "y_ncr.value_counts()"
   ]
  },
  {
   "cell_type": "markdown",
   "metadata": {},
   "source": [
    "## 3.3. Combining techniques\n",
    "\n",
    "Combinig techniques can result in better performance. So let's track some possibilities"
   ]
  },
  {
   "cell_type": "markdown",
   "metadata": {},
   "source": [
    "### 3.3.1. Random Over and Undersampling\n",
    "\n",
    "Here we can combine both random oversampling and undersampling. So let's check how it's done:"
   ]
  },
  {
   "cell_type": "code",
   "execution_count": 306,
   "metadata": {},
   "outputs": [],
   "source": [
    "# firstly, since we have 6:1 ratio in the target, lets over-sample it with a strategy of 0.6\n",
    "over = RandomOverSampler(sampling_strategy=0.4)\n",
    "X_over, y_over = over.fit_resample(X, y)"
   ]
  },
  {
   "cell_type": "code",
   "execution_count": 307,
   "metadata": {},
   "outputs": [
    {
     "data": {
      "text/plain": [
       "((1192, 7),\n",
       " (1192,),\n",
       " 0    852\n",
       " 1    340\n",
       " Name: Survived, dtype: int64)"
      ]
     },
     "execution_count": 307,
     "metadata": {},
     "output_type": "execute_result"
    }
   ],
   "source": [
    "X_over.shape, y_over.shape, y_over.value_counts()"
   ]
  },
  {
   "cell_type": "code",
   "execution_count": 308,
   "metadata": {},
   "outputs": [],
   "source": [
    "# now we under-sample with strategy of 0.8, reaching a similar size of dataset\n",
    "under = RandomUnderSampler(sampling_strategy=0.8)\n",
    "X_under, y_under = under.fit_resample(X_over, y_over)"
   ]
  },
  {
   "cell_type": "code",
   "execution_count": 309,
   "metadata": {
    "scrolled": true
   },
   "outputs": [
    {
     "data": {
      "text/plain": [
       "((765, 7),\n",
       " (765,),\n",
       " 0    425\n",
       " 1    340\n",
       " Name: Survived, dtype: int64)"
      ]
     },
     "execution_count": 309,
     "metadata": {},
     "output_type": "execute_result"
    }
   ],
   "source": [
    "X_under.shape, y_under.shape, y_under.value_counts()"
   ]
  },
  {
   "cell_type": "code",
   "execution_count": 310,
   "metadata": {},
   "outputs": [
    {
     "data": {
      "image/png": "[encoded data removed]",
      "text/plain": [
       "<Figure size 432x288 with 2 Axes>"
      ]
     },
     "metadata": {
      "needs_background": "light"
     },
     "output_type": "display_data"
    }
   ],
   "source": [
    "fig, (ax1, ax2) = plt.subplots(1,2)\n",
    "ax1.hist(X['Age'], bins=20); ax1.set_title('Original')\n",
    "ax2.hist(X_under['Age'], bins=20); ax2.set_title('Onver + Undersampling');"
   ]
  },
  {
   "cell_type": "code",
   "execution_count": 311,
   "metadata": {},
   "outputs": [
    {
     "data": {
      "text/plain": [
       "(DescribeResult(nobs=765, minmax=(0, 87), mean=40.67712418300653, variance=271.79482941518665, skewness=0.3885841141733488, kurtosis=-0.7110854303560519),\n",
       " 38.0)"
      ]
     },
     "execution_count": 311,
     "metadata": {},
     "output_type": "execute_result"
    }
   ],
   "source": [
    "stats.describe(X_under['Age']), np.median(X_under['Age'])"
   ]
  },
  {
   "cell_type": "markdown",
   "metadata": {},
   "source": [
    "### 3.3.2. SMOTE + Tomek Links"
   ]
  },
  {
   "cell_type": "code",
   "execution_count": 312,
   "metadata": {},
   "outputs": [],
   "source": [
    "from imblearn.combine import SMOTETomek\n",
    "\n",
    "smote_tomek = SMOTETomek()\n",
    "X_st, y_st = smote_tomek.fit_resample(X_num, y)"
   ]
  },
  {
   "cell_type": "code",
   "execution_count": 313,
   "metadata": {},
   "outputs": [
    {
     "data": {
      "text/plain": [
       "((1704, 1), (1704,))"
      ]
     },
     "execution_count": 313,
     "metadata": {},
     "output_type": "execute_result"
    }
   ],
   "source": [
    "X_st.shape, y_st.shape"
   ]
  },
  {
   "cell_type": "code",
   "execution_count": 314,
   "metadata": {},
   "outputs": [
    {
     "data": {
      "image/png": "[encoded data removed]",
      "text/plain": [
       "<Figure size 432x288 with 2 Axes>"
      ]
     },
     "metadata": {
      "needs_background": "light"
     },
     "output_type": "display_data"
    }
   ],
   "source": [
    "fig, (ax1, ax2) = plt.subplots(1,2)\n",
    "ax1.hist(X['Age'], bins=20); ax1.set_title('Original')\n",
    "ax2.hist(X_st, bins=20); ax2.set_title('SMOTE + Tomek Links');"
   ]
  },
  {
   "cell_type": "code",
   "execution_count": 315,
   "metadata": {},
   "outputs": [
    {
     "data": {
      "text/plain": [
       "(DescribeResult(nobs=1704, minmax=(array([0]), array([87])), mean=array([39.97828638]), variance=array([262.60140728]), skewness=array([0.4269017]), kurtosis=array([-0.6982447])),\n",
       " 38.0)"
      ]
     },
     "execution_count": 315,
     "metadata": {},
     "output_type": "execute_result"
    }
   ],
   "source": [
    "stats.describe(X_st), np.median(X_st)"
   ]
  },
  {
   "cell_type": "code",
   "execution_count": 316,
   "metadata": {},
   "outputs": [
    {
     "data": {
      "text/plain": [
       "1    852\n",
       "0    852\n",
       "Name: Survived, dtype: int64"
      ]
     },
     "execution_count": 316,
     "metadata": {},
     "output_type": "execute_result"
    }
   ],
   "source": [
    "y_st.value_counts()"
   ]
  },
  {
   "cell_type": "markdown",
   "metadata": {},
   "source": [
    "### 3.3.3. SMOTE + ENN"
   ]
  },
  {
   "cell_type": "code",
   "execution_count": 317,
   "metadata": {},
   "outputs": [],
   "source": [
    "from imblearn.combine import SMOTEENN\n",
    "\n",
    "smote_enn = SMOTEENN()\n",
    "X_se, y_se = smote_enn.fit_resample(X_num, y)"
   ]
  },
  {
   "cell_type": "code",
   "execution_count": 318,
   "metadata": {},
   "outputs": [
    {
     "data": {
      "text/plain": [
       "((528, 1), (528,))"
      ]
     },
     "execution_count": 318,
     "metadata": {},
     "output_type": "execute_result"
    }
   ],
   "source": [
    "X_se.shape, y_se.shape"
   ]
  },
  {
   "cell_type": "code",
   "execution_count": 319,
   "metadata": {},
   "outputs": [
    {
     "data": {
      "image/png": "[encoded data removed]",
      "text/plain": [
       "<Figure size 432x288 with 2 Axes>"
      ]
     },
     "metadata": {
      "needs_background": "light"
     },
     "output_type": "display_data"
    }
   ],
   "source": [
    "fig, (ax1, ax2) = plt.subplots(1,2)\n",
    "ax1.hist(X['Age'], bins=20); ax1.set_title('Original')\n",
    "ax2.hist(X_se, bins=20); ax2.set_title('SMOTE + ENN');"
   ]
  },
  {
   "cell_type": "code",
   "execution_count": 320,
   "metadata": {},
   "outputs": [
    {
     "data": {
      "text/plain": [
       "(DescribeResult(nobs=528, minmax=(array([0]), array([87])), mean=array([47.6344697]), variance=array([332.11850598]), skewness=array([-0.06244453]), kurtosis=array([-0.86263091])),\n",
       " 44.0)"
      ]
     },
     "execution_count": 320,
     "metadata": {},
     "output_type": "execute_result"
    }
   ],
   "source": [
    "stats.describe(X_se), np.median(X_se)"
   ]
  },
  {
   "cell_type": "code",
   "execution_count": 321,
   "metadata": {},
   "outputs": [
    {
     "data": {
      "text/plain": [
       "0    319\n",
       "1    209\n",
       "Name: Survived, dtype: int64"
      ]
     },
     "execution_count": 321,
     "metadata": {},
     "output_type": "execute_result"
    }
   ],
   "source": [
    "y_se.value_counts()"
   ]
  }
 ],
 "metadata": {
  "kernelspec": {
   "display_name": "Python 3",
   "language": "python",
   "name": "python3"
  },
  "language_info": {
   "codemirror_mode": {
    "name": "ipython",
    "version": 3
   },
   "file_extension": ".py",
   "mimetype": "text/x-python",
   "name": "python",
   "nbconvert_exporter": "python",
   "pygments_lexer": "ipython3",
   "version": "3.8.3"
  }
 },
 "nbformat": 4,
 "nbformat_minor": 4
}
