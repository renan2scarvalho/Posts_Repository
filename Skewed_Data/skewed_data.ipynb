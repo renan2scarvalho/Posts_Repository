{
 "cells": [
  {
   "cell_type": "markdown",
   "metadata": {},
   "source": [
    "# Working with Skewed Data\n",
    "Through this notebook, I'll show you some transformations to be used in skewed distributions, in order to reach a normal distributed-like pattern. This transformations are a critical part of data cleansing.\n",
    "\n",
    "Here we'll apply some of the most common transformantios, and some more complext, summarized below:\n",
    "1. square root \n",
    "2. reciprocal \n",
    "3. logarithmic\n",
    "4. exponential \n",
    "5. power transformation \n",
    "6. arcsine transformation\n",
    "7. Box-Cox transformation\n",
    "8. Yeo-Johnson transformation"
   ]
  },
  {
   "cell_type": "markdown",
   "metadata": {},
   "source": [
    "## Import data\n",
    "The dataset used here is small sample of imdb movies. so let's import it to pandas and quickly check some informations"
   ]
  },
  {
   "cell_type": "code",
   "execution_count": 1,
   "metadata": {},
   "outputs": [],
   "source": [
    "import pandas as pd\n",
    "import matplotlib.pyplot as plt\n",
    "import seaborn as sns\n",
    "import warnings\n",
    "import numpy as np\n",
    "\n",
    "%matplotlib inline\n",
    "warnings.filterwarnings('ignore')"
   ]
  },
  {
   "cell_type": "code",
   "execution_count": 2,
   "metadata": {
    "scrolled": true
   },
   "outputs": [],
   "source": [
    "imdb = pd.read_csv('movie_imdb.csv')"
   ]
  },
  {
   "cell_type": "code",
   "execution_count": 3,
   "metadata": {},
   "outputs": [
    {
     "name": "stdout",
     "output_type": "stream",
     "text": [
      "We have 5043 samples and 28 labels\n"
     ]
    }
   ],
   "source": [
    "print('We have',imdb.shape[0],'samples and',imdb.shape[1],'labels')"
   ]
  },
  {
   "cell_type": "code",
   "execution_count": 4,
   "metadata": {},
   "outputs": [
    {
     "name": "stdout",
     "output_type": "stream",
     "text": [
      "<class 'pandas.core.frame.DataFrame'>\n",
      "RangeIndex: 5043 entries, 0 to 5042\n",
      "Data columns (total 28 columns):\n",
      " #   Column                     Non-Null Count  Dtype  \n",
      "---  ------                     --------------  -----  \n",
      " 0   color                      5024 non-null   object \n",
      " 1   director_name              4939 non-null   object \n",
      " 2   num_critic_for_reviews     4993 non-null   float64\n",
      " 3   duration                   5028 non-null   float64\n",
      " 4   director_facebook_likes    4939 non-null   float64\n",
      " 5   actor_3_facebook_likes     5020 non-null   float64\n",
      " 6   actor_2_name               5030 non-null   object \n",
      " 7   actor_1_facebook_likes     5036 non-null   float64\n",
      " 8   gross                      4159 non-null   float64\n",
      " 9   genres                     5043 non-null   object \n",
      " 10  actor_1_name               5036 non-null   object \n",
      " 11  movie_title                5043 non-null   object \n",
      " 12  num_voted_users            5043 non-null   int64  \n",
      " 13  cast_total_facebook_likes  5043 non-null   int64  \n",
      " 14  actor_3_name               5020 non-null   object \n",
      " 15  facenumber_in_poster       5030 non-null   float64\n",
      " 16  plot_keywords              4890 non-null   object \n",
      " 17  movie_imdb_link            5043 non-null   object \n",
      " 18  num_user_for_reviews       5022 non-null   float64\n",
      " 19  language                   5031 non-null   object \n",
      " 20  country                    5038 non-null   object \n",
      " 21  content_rating             4740 non-null   object \n",
      " 22  budget                     4551 non-null   float64\n",
      " 23  title_year                 4935 non-null   float64\n",
      " 24  actor_2_facebook_likes     5030 non-null   float64\n",
      " 25  imdb_score                 5043 non-null   float64\n",
      " 26  aspect_ratio               4714 non-null   float64\n",
      " 27  movie_facebook_likes       5043 non-null   int64  \n",
      "dtypes: float64(13), int64(3), object(12)\n",
      "memory usage: 1.1+ MB\n"
     ]
    }
   ],
   "source": [
    "imdb.info()"
   ]
  },
  {
   "cell_type": "markdown",
   "metadata": {},
   "source": [
    "### Working with NaN Values\n",
    "Let's check NaN values, and work with them:"
   ]
  },
  {
   "cell_type": "code",
   "execution_count": 5,
   "metadata": {},
   "outputs": [
    {
     "data": {
      "text/plain": [
       "color                         19\n",
       "director_name                104\n",
       "num_critic_for_reviews        50\n",
       "duration                      15\n",
       "director_facebook_likes      104\n",
       "actor_3_facebook_likes        23\n",
       "actor_2_name                  13\n",
       "actor_1_facebook_likes         7\n",
       "gross                        884\n",
       "genres                         0\n",
       "actor_1_name                   7\n",
       "movie_title                    0\n",
       "num_voted_users                0\n",
       "cast_total_facebook_likes      0\n",
       "actor_3_name                  23\n",
       "facenumber_in_poster          13\n",
       "plot_keywords                153\n",
       "movie_imdb_link                0\n",
       "num_user_for_reviews          21\n",
       "language                      12\n",
       "country                        5\n",
       "content_rating               303\n",
       "budget                       492\n",
       "title_year                   108\n",
       "actor_2_facebook_likes        13\n",
       "imdb_score                     0\n",
       "aspect_ratio                 329\n",
       "movie_facebook_likes           0\n",
       "dtype: int64"
      ]
     },
     "execution_count": 5,
     "metadata": {},
     "output_type": "execute_result"
    }
   ],
   "source": [
    "imdb.isnull().sum()"
   ]
  },
  {
   "cell_type": "code",
   "execution_count": 6,
   "metadata": {},
   "outputs": [
    {
     "name": "stdout",
     "output_type": "stream",
     "text": [
      "After drop NaN we have 74.48 % of initial data\n",
      "And now is composed by  3756 samples and 16 labels\n"
     ]
    }
   ],
   "source": [
    "df = imdb.dropna()\n",
    "df = df.select_dtypes(include=['float64','int64'])\n",
    "print('After drop NaN we have', round(df.shape[0]/imdb.shape[0]*100,2),'% of initial data')\n",
    "print('And now is composed by ',df.shape[0],'samples and',df.shape[1],'labels')"
   ]
  },
  {
   "cell_type": "code",
   "execution_count": 7,
   "metadata": {},
   "outputs": [
    {
     "data": {
      "text/html": [
       "<div>\n",
       "<style scoped>\n",
       "    .dataframe tbody tr th:only-of-type {\n",
       "        vertical-align: middle;\n",
       "    }\n",
       "\n",
       "    .dataframe tbody tr th {\n",
       "        vertical-align: top;\n",
       "    }\n",
       "\n",
       "    .dataframe thead th {\n",
       "        text-align: right;\n",
       "    }\n",
       "</style>\n",
       "<table border=\"1\" class=\"dataframe\">\n",
       "  <thead>\n",
       "    <tr style=\"text-align: right;\">\n",
       "      <th></th>\n",
       "      <th>num_critic_for_reviews</th>\n",
       "      <th>duration</th>\n",
       "      <th>director_facebook_likes</th>\n",
       "      <th>actor_3_facebook_likes</th>\n",
       "      <th>actor_1_facebook_likes</th>\n",
       "      <th>gross</th>\n",
       "      <th>num_voted_users</th>\n",
       "      <th>cast_total_facebook_likes</th>\n",
       "      <th>facenumber_in_poster</th>\n",
       "      <th>num_user_for_reviews</th>\n",
       "      <th>budget</th>\n",
       "      <th>title_year</th>\n",
       "      <th>actor_2_facebook_likes</th>\n",
       "      <th>imdb_score</th>\n",
       "      <th>aspect_ratio</th>\n",
       "      <th>movie_facebook_likes</th>\n",
       "    </tr>\n",
       "  </thead>\n",
       "  <tbody>\n",
       "    <tr>\n",
       "      <th>0</th>\n",
       "      <td>723.0</td>\n",
       "      <td>178.0</td>\n",
       "      <td>0.0</td>\n",
       "      <td>855.0</td>\n",
       "      <td>1000.0</td>\n",
       "      <td>760505847.0</td>\n",
       "      <td>886204</td>\n",
       "      <td>4834</td>\n",
       "      <td>0.0</td>\n",
       "      <td>3054.0</td>\n",
       "      <td>237000000.0</td>\n",
       "      <td>2009.0</td>\n",
       "      <td>936.0</td>\n",
       "      <td>7.9</td>\n",
       "      <td>1.78</td>\n",
       "      <td>33000</td>\n",
       "    </tr>\n",
       "    <tr>\n",
       "      <th>1</th>\n",
       "      <td>302.0</td>\n",
       "      <td>169.0</td>\n",
       "      <td>563.0</td>\n",
       "      <td>1000.0</td>\n",
       "      <td>40000.0</td>\n",
       "      <td>309404152.0</td>\n",
       "      <td>471220</td>\n",
       "      <td>48350</td>\n",
       "      <td>0.0</td>\n",
       "      <td>1238.0</td>\n",
       "      <td>300000000.0</td>\n",
       "      <td>2007.0</td>\n",
       "      <td>5000.0</td>\n",
       "      <td>7.1</td>\n",
       "      <td>2.35</td>\n",
       "      <td>0</td>\n",
       "    </tr>\n",
       "    <tr>\n",
       "      <th>2</th>\n",
       "      <td>602.0</td>\n",
       "      <td>148.0</td>\n",
       "      <td>0.0</td>\n",
       "      <td>161.0</td>\n",
       "      <td>11000.0</td>\n",
       "      <td>200074175.0</td>\n",
       "      <td>275868</td>\n",
       "      <td>11700</td>\n",
       "      <td>1.0</td>\n",
       "      <td>994.0</td>\n",
       "      <td>245000000.0</td>\n",
       "      <td>2015.0</td>\n",
       "      <td>393.0</td>\n",
       "      <td>6.8</td>\n",
       "      <td>2.35</td>\n",
       "      <td>85000</td>\n",
       "    </tr>\n",
       "    <tr>\n",
       "      <th>3</th>\n",
       "      <td>813.0</td>\n",
       "      <td>164.0</td>\n",
       "      <td>22000.0</td>\n",
       "      <td>23000.0</td>\n",
       "      <td>27000.0</td>\n",
       "      <td>448130642.0</td>\n",
       "      <td>1144337</td>\n",
       "      <td>106759</td>\n",
       "      <td>0.0</td>\n",
       "      <td>2701.0</td>\n",
       "      <td>250000000.0</td>\n",
       "      <td>2012.0</td>\n",
       "      <td>23000.0</td>\n",
       "      <td>8.5</td>\n",
       "      <td>2.35</td>\n",
       "      <td>164000</td>\n",
       "    </tr>\n",
       "    <tr>\n",
       "      <th>5</th>\n",
       "      <td>462.0</td>\n",
       "      <td>132.0</td>\n",
       "      <td>475.0</td>\n",
       "      <td>530.0</td>\n",
       "      <td>640.0</td>\n",
       "      <td>73058679.0</td>\n",
       "      <td>212204</td>\n",
       "      <td>1873</td>\n",
       "      <td>1.0</td>\n",
       "      <td>738.0</td>\n",
       "      <td>263700000.0</td>\n",
       "      <td>2012.0</td>\n",
       "      <td>632.0</td>\n",
       "      <td>6.6</td>\n",
       "      <td>2.35</td>\n",
       "      <td>24000</td>\n",
       "    </tr>\n",
       "  </tbody>\n",
       "</table>\n",
       "</div>"
      ],
      "text/plain": [
       "   num_critic_for_reviews  duration  director_facebook_likes  \\\n",
       "0                   723.0     178.0                      0.0   \n",
       "1                   302.0     169.0                    563.0   \n",
       "2                   602.0     148.0                      0.0   \n",
       "3                   813.0     164.0                  22000.0   \n",
       "5                   462.0     132.0                    475.0   \n",
       "\n",
       "   actor_3_facebook_likes  actor_1_facebook_likes        gross  \\\n",
       "0                   855.0                  1000.0  760505847.0   \n",
       "1                  1000.0                 40000.0  309404152.0   \n",
       "2                   161.0                 11000.0  200074175.0   \n",
       "3                 23000.0                 27000.0  448130642.0   \n",
       "5                   530.0                   640.0   73058679.0   \n",
       "\n",
       "   num_voted_users  cast_total_facebook_likes  facenumber_in_poster  \\\n",
       "0           886204                       4834                   0.0   \n",
       "1           471220                      48350                   0.0   \n",
       "2           275868                      11700                   1.0   \n",
       "3          1144337                     106759                   0.0   \n",
       "5           212204                       1873                   1.0   \n",
       "\n",
       "   num_user_for_reviews       budget  title_year  actor_2_facebook_likes  \\\n",
       "0                3054.0  237000000.0      2009.0                   936.0   \n",
       "1                1238.0  300000000.0      2007.0                  5000.0   \n",
       "2                 994.0  245000000.0      2015.0                   393.0   \n",
       "3                2701.0  250000000.0      2012.0                 23000.0   \n",
       "5                 738.0  263700000.0      2012.0                   632.0   \n",
       "\n",
       "   imdb_score  aspect_ratio  movie_facebook_likes  \n",
       "0         7.9          1.78                 33000  \n",
       "1         7.1          2.35                     0  \n",
       "2         6.8          2.35                 85000  \n",
       "3         8.5          2.35                164000  \n",
       "5         6.6          2.35                 24000  "
      ]
     },
     "execution_count": 7,
     "metadata": {},
     "output_type": "execute_result"
    }
   ],
   "source": [
    "df.head()"
   ]
  },
  {
   "cell_type": "code",
   "execution_count": 8,
   "metadata": {},
   "outputs": [
    {
     "data": {
      "text/html": [
       "<div>\n",
       "<style scoped>\n",
       "    .dataframe tbody tr th:only-of-type {\n",
       "        vertical-align: middle;\n",
       "    }\n",
       "\n",
       "    .dataframe tbody tr th {\n",
       "        vertical-align: top;\n",
       "    }\n",
       "\n",
       "    .dataframe thead th {\n",
       "        text-align: right;\n",
       "    }\n",
       "</style>\n",
       "<table border=\"1\" class=\"dataframe\">\n",
       "  <thead>\n",
       "    <tr style=\"text-align: right;\">\n",
       "      <th></th>\n",
       "      <th>num_critic_for_reviews</th>\n",
       "      <th>duration</th>\n",
       "      <th>director_facebook_likes</th>\n",
       "      <th>actor_3_facebook_likes</th>\n",
       "      <th>actor_1_facebook_likes</th>\n",
       "      <th>gross</th>\n",
       "      <th>num_voted_users</th>\n",
       "      <th>cast_total_facebook_likes</th>\n",
       "      <th>facenumber_in_poster</th>\n",
       "      <th>num_user_for_reviews</th>\n",
       "      <th>budget</th>\n",
       "      <th>title_year</th>\n",
       "      <th>actor_2_facebook_likes</th>\n",
       "      <th>imdb_score</th>\n",
       "      <th>aspect_ratio</th>\n",
       "      <th>movie_facebook_likes</th>\n",
       "    </tr>\n",
       "  </thead>\n",
       "  <tbody>\n",
       "    <tr>\n",
       "      <th>count</th>\n",
       "      <td>3756.000000</td>\n",
       "      <td>3756.000000</td>\n",
       "      <td>3756.000000</td>\n",
       "      <td>3756.000000</td>\n",
       "      <td>3756.000000</td>\n",
       "      <td>3.756000e+03</td>\n",
       "      <td>3.756000e+03</td>\n",
       "      <td>3756.000000</td>\n",
       "      <td>3756.000000</td>\n",
       "      <td>3756.000000</td>\n",
       "      <td>3.756000e+03</td>\n",
       "      <td>3756.000000</td>\n",
       "      <td>3756.000000</td>\n",
       "      <td>3756.000000</td>\n",
       "      <td>3756.000000</td>\n",
       "      <td>3756.000000</td>\n",
       "    </tr>\n",
       "    <tr>\n",
       "      <th>mean</th>\n",
       "      <td>167.378328</td>\n",
       "      <td>110.257987</td>\n",
       "      <td>807.336528</td>\n",
       "      <td>771.279553</td>\n",
       "      <td>7751.338658</td>\n",
       "      <td>5.261282e+07</td>\n",
       "      <td>1.058267e+05</td>\n",
       "      <td>11527.101970</td>\n",
       "      <td>1.377263</td>\n",
       "      <td>336.843184</td>\n",
       "      <td>4.623685e+07</td>\n",
       "      <td>2002.976571</td>\n",
       "      <td>2021.775825</td>\n",
       "      <td>6.465282</td>\n",
       "      <td>2.111014</td>\n",
       "      <td>9353.829340</td>\n",
       "    </tr>\n",
       "    <tr>\n",
       "      <th>std</th>\n",
       "      <td>123.452040</td>\n",
       "      <td>22.646717</td>\n",
       "      <td>3068.171683</td>\n",
       "      <td>1894.249869</td>\n",
       "      <td>15519.339621</td>\n",
       "      <td>7.031787e+07</td>\n",
       "      <td>1.520354e+05</td>\n",
       "      <td>19122.176905</td>\n",
       "      <td>2.041541</td>\n",
       "      <td>411.227368</td>\n",
       "      <td>2.260103e+08</td>\n",
       "      <td>9.888108</td>\n",
       "      <td>4544.908236</td>\n",
       "      <td>1.056247</td>\n",
       "      <td>0.353068</td>\n",
       "      <td>21462.889123</td>\n",
       "    </tr>\n",
       "    <tr>\n",
       "      <th>min</th>\n",
       "      <td>2.000000</td>\n",
       "      <td>37.000000</td>\n",
       "      <td>0.000000</td>\n",
       "      <td>0.000000</td>\n",
       "      <td>0.000000</td>\n",
       "      <td>1.620000e+02</td>\n",
       "      <td>9.100000e+01</td>\n",
       "      <td>0.000000</td>\n",
       "      <td>0.000000</td>\n",
       "      <td>4.000000</td>\n",
       "      <td>2.180000e+02</td>\n",
       "      <td>1927.000000</td>\n",
       "      <td>0.000000</td>\n",
       "      <td>1.600000</td>\n",
       "      <td>1.180000</td>\n",
       "      <td>0.000000</td>\n",
       "    </tr>\n",
       "    <tr>\n",
       "      <th>25%</th>\n",
       "      <td>77.000000</td>\n",
       "      <td>96.000000</td>\n",
       "      <td>11.000000</td>\n",
       "      <td>194.000000</td>\n",
       "      <td>745.000000</td>\n",
       "      <td>8.270233e+06</td>\n",
       "      <td>1.966700e+04</td>\n",
       "      <td>1919.750000</td>\n",
       "      <td>0.000000</td>\n",
       "      <td>110.000000</td>\n",
       "      <td>1.000000e+07</td>\n",
       "      <td>1999.000000</td>\n",
       "      <td>384.750000</td>\n",
       "      <td>5.900000</td>\n",
       "      <td>1.850000</td>\n",
       "      <td>0.000000</td>\n",
       "    </tr>\n",
       "    <tr>\n",
       "      <th>50%</th>\n",
       "      <td>138.500000</td>\n",
       "      <td>106.000000</td>\n",
       "      <td>64.000000</td>\n",
       "      <td>436.000000</td>\n",
       "      <td>1000.000000</td>\n",
       "      <td>3.009311e+07</td>\n",
       "      <td>5.397350e+04</td>\n",
       "      <td>4059.500000</td>\n",
       "      <td>1.000000</td>\n",
       "      <td>210.000000</td>\n",
       "      <td>2.500000e+07</td>\n",
       "      <td>2004.000000</td>\n",
       "      <td>685.500000</td>\n",
       "      <td>6.600000</td>\n",
       "      <td>2.350000</td>\n",
       "      <td>227.000000</td>\n",
       "    </tr>\n",
       "    <tr>\n",
       "      <th>75%</th>\n",
       "      <td>224.000000</td>\n",
       "      <td>120.000000</td>\n",
       "      <td>235.000000</td>\n",
       "      <td>691.000000</td>\n",
       "      <td>13000.000000</td>\n",
       "      <td>6.688194e+07</td>\n",
       "      <td>1.286020e+05</td>\n",
       "      <td>16240.000000</td>\n",
       "      <td>2.000000</td>\n",
       "      <td>398.250000</td>\n",
       "      <td>5.000000e+07</td>\n",
       "      <td>2010.000000</td>\n",
       "      <td>976.000000</td>\n",
       "      <td>7.200000</td>\n",
       "      <td>2.350000</td>\n",
       "      <td>11000.000000</td>\n",
       "    </tr>\n",
       "    <tr>\n",
       "      <th>max</th>\n",
       "      <td>813.000000</td>\n",
       "      <td>330.000000</td>\n",
       "      <td>23000.000000</td>\n",
       "      <td>23000.000000</td>\n",
       "      <td>640000.000000</td>\n",
       "      <td>7.605058e+08</td>\n",
       "      <td>1.689764e+06</td>\n",
       "      <td>656730.000000</td>\n",
       "      <td>43.000000</td>\n",
       "      <td>5060.000000</td>\n",
       "      <td>1.221550e+10</td>\n",
       "      <td>2016.000000</td>\n",
       "      <td>137000.000000</td>\n",
       "      <td>9.300000</td>\n",
       "      <td>16.000000</td>\n",
       "      <td>349000.000000</td>\n",
       "    </tr>\n",
       "  </tbody>\n",
       "</table>\n",
       "</div>"
      ],
      "text/plain": [
       "       num_critic_for_reviews     duration  director_facebook_likes  \\\n",
       "count             3756.000000  3756.000000              3756.000000   \n",
       "mean               167.378328   110.257987               807.336528   \n",
       "std                123.452040    22.646717              3068.171683   \n",
       "min                  2.000000    37.000000                 0.000000   \n",
       "25%                 77.000000    96.000000                11.000000   \n",
       "50%                138.500000   106.000000                64.000000   \n",
       "75%                224.000000   120.000000               235.000000   \n",
       "max                813.000000   330.000000             23000.000000   \n",
       "\n",
       "       actor_3_facebook_likes  actor_1_facebook_likes         gross  \\\n",
       "count             3756.000000             3756.000000  3.756000e+03   \n",
       "mean               771.279553             7751.338658  5.261282e+07   \n",
       "std               1894.249869            15519.339621  7.031787e+07   \n",
       "min                  0.000000                0.000000  1.620000e+02   \n",
       "25%                194.000000              745.000000  8.270233e+06   \n",
       "50%                436.000000             1000.000000  3.009311e+07   \n",
       "75%                691.000000            13000.000000  6.688194e+07   \n",
       "max              23000.000000           640000.000000  7.605058e+08   \n",
       "\n",
       "       num_voted_users  cast_total_facebook_likes  facenumber_in_poster  \\\n",
       "count     3.756000e+03                3756.000000           3756.000000   \n",
       "mean      1.058267e+05               11527.101970              1.377263   \n",
       "std       1.520354e+05               19122.176905              2.041541   \n",
       "min       9.100000e+01                   0.000000              0.000000   \n",
       "25%       1.966700e+04                1919.750000              0.000000   \n",
       "50%       5.397350e+04                4059.500000              1.000000   \n",
       "75%       1.286020e+05               16240.000000              2.000000   \n",
       "max       1.689764e+06              656730.000000             43.000000   \n",
       "\n",
       "       num_user_for_reviews        budget   title_year  \\\n",
       "count           3756.000000  3.756000e+03  3756.000000   \n",
       "mean             336.843184  4.623685e+07  2002.976571   \n",
       "std              411.227368  2.260103e+08     9.888108   \n",
       "min                4.000000  2.180000e+02  1927.000000   \n",
       "25%              110.000000  1.000000e+07  1999.000000   \n",
       "50%              210.000000  2.500000e+07  2004.000000   \n",
       "75%              398.250000  5.000000e+07  2010.000000   \n",
       "max             5060.000000  1.221550e+10  2016.000000   \n",
       "\n",
       "       actor_2_facebook_likes   imdb_score  aspect_ratio  movie_facebook_likes  \n",
       "count             3756.000000  3756.000000   3756.000000           3756.000000  \n",
       "mean              2021.775825     6.465282      2.111014           9353.829340  \n",
       "std               4544.908236     1.056247      0.353068          21462.889123  \n",
       "min                  0.000000     1.600000      1.180000              0.000000  \n",
       "25%                384.750000     5.900000      1.850000              0.000000  \n",
       "50%                685.500000     6.600000      2.350000            227.000000  \n",
       "75%                976.000000     7.200000      2.350000          11000.000000  \n",
       "max             137000.000000     9.300000     16.000000         349000.000000  "
      ]
     },
     "execution_count": 8,
     "metadata": {},
     "output_type": "execute_result"
    }
   ],
   "source": [
    "df.describe()"
   ]
  },
  {
   "cell_type": "markdown",
   "metadata": {},
   "source": [
    "# Working with Skewness\n",
    "\n",
    "Real-world data can, and usually is, messy. Skewed distribution happens all the time, hence we need to work with this prior to modeling. \n",
    "\n",
    "### But why is that?\n",
    "\n",
    "As is know from statistics, long tails (or in other words skewed distributions) may act as <b>outliers</b> for the statistical model, and <i>several models use polynomial calculations</i> on the predictor data i.e. labels, such as most linear models, neural networks, and SVM. \n",
    "Thus, in those cases, a <b>skewed label distribution</b> could have a <b>negative effect</b> over the models, since tails of distributions can dominate the underlying calculations, even though some models are robust to outliers (e.g. Tree-based), limiting the number of models that could be chosen [[1]](https://towardsdatascience.com/skewed-data-a-problem-to-your-statistical-model-9a6b5bb74e37).\n",
    "\n",
    "As a general rule of thumb, we can consider that:\n",
    "- if skewness < -1 && skewness > 1 $\\rightarrow$ distribution is <b>highly skewed</b>;\n",
    "- if -1 < skewness < -0.5 || 0.5 < skewness < 1 $\\rightarrow$ distribution is <b>moderately skewed</b>;\n",
    "- if -0.5 < skeweness < 0.5 $\\rightarrow$ distribution is <b>approximately symmetric</b>.\n",
    "\n",
    "Calculating the skewness for this data by using the Fischer-Perarson standardized moment coefficient [[2]](https://pandas.pydata.org/pandas-docs/stable/reference/api/pandas.DataFrame.skew.html),[[3]](https://medium.com/@ODSC/transforming-skewed-data-for-machine-learning-90e6cc364b0), we see that only the predictor <i>\"imdb_score\"</i> is moderately skewed, which leaves us with a lot of work from now on!"
   ]
  },
  {
   "cell_type": "code",
   "execution_count": 9,
   "metadata": {},
   "outputs": [
    {
     "data": {
      "text/html": [
       "<div>\n",
       "<style scoped>\n",
       "    .dataframe tbody tr th:only-of-type {\n",
       "        vertical-align: middle;\n",
       "    }\n",
       "\n",
       "    .dataframe tbody tr th {\n",
       "        vertical-align: top;\n",
       "    }\n",
       "\n",
       "    .dataframe thead th {\n",
       "        text-align: right;\n",
       "    }\n",
       "</style>\n",
       "<table border=\"1\" class=\"dataframe\">\n",
       "  <thead>\n",
       "    <tr style=\"text-align: right;\">\n",
       "      <th></th>\n",
       "      <th>skewness</th>\n",
       "    </tr>\n",
       "  </thead>\n",
       "  <tbody>\n",
       "    <tr>\n",
       "      <th>budget</th>\n",
       "      <td>44.174144</td>\n",
       "    </tr>\n",
       "    <tr>\n",
       "      <th>actor_1_facebook_likes</th>\n",
       "      <td>20.339471</td>\n",
       "    </tr>\n",
       "    <tr>\n",
       "      <th>aspect_ratio</th>\n",
       "      <td>16.014406</td>\n",
       "    </tr>\n",
       "    <tr>\n",
       "      <th>cast_total_facebook_likes</th>\n",
       "      <td>12.894874</td>\n",
       "    </tr>\n",
       "    <tr>\n",
       "      <th>actor_2_facebook_likes</th>\n",
       "      <td>9.010298</td>\n",
       "    </tr>\n",
       "    <tr>\n",
       "      <th>actor_3_facebook_likes</th>\n",
       "      <td>6.370114</td>\n",
       "    </tr>\n",
       "    <tr>\n",
       "      <th>facenumber_in_poster</th>\n",
       "      <td>4.949414</td>\n",
       "    </tr>\n",
       "    <tr>\n",
       "      <th>director_facebook_likes</th>\n",
       "      <td>4.754529</td>\n",
       "    </tr>\n",
       "    <tr>\n",
       "      <th>movie_facebook_likes</th>\n",
       "      <td>4.516867</td>\n",
       "    </tr>\n",
       "    <tr>\n",
       "      <th>num_user_for_reviews</th>\n",
       "      <td>3.844204</td>\n",
       "    </tr>\n",
       "    <tr>\n",
       "      <th>num_voted_users</th>\n",
       "      <td>3.650373</td>\n",
       "    </tr>\n",
       "    <tr>\n",
       "      <th>gross</th>\n",
       "      <td>3.029375</td>\n",
       "    </tr>\n",
       "    <tr>\n",
       "      <th>duration</th>\n",
       "      <td>2.402552</td>\n",
       "    </tr>\n",
       "    <tr>\n",
       "      <th>num_critic_for_reviews</th>\n",
       "      <td>1.424723</td>\n",
       "    </tr>\n",
       "    <tr>\n",
       "      <th>imdb_score</th>\n",
       "      <td>-0.723327</td>\n",
       "    </tr>\n",
       "    <tr>\n",
       "      <th>title_year</th>\n",
       "      <td>-2.070019</td>\n",
       "    </tr>\n",
       "  </tbody>\n",
       "</table>\n",
       "</div>"
      ],
      "text/plain": [
       "                            skewness\n",
       "budget                     44.174144\n",
       "actor_1_facebook_likes     20.339471\n",
       "aspect_ratio               16.014406\n",
       "cast_total_facebook_likes  12.894874\n",
       "actor_2_facebook_likes      9.010298\n",
       "actor_3_facebook_likes      6.370114\n",
       "facenumber_in_poster        4.949414\n",
       "director_facebook_likes     4.754529\n",
       "movie_facebook_likes        4.516867\n",
       "num_user_for_reviews        3.844204\n",
       "num_voted_users             3.650373\n",
       "gross                       3.029375\n",
       "duration                    2.402552\n",
       "num_critic_for_reviews      1.424723\n",
       "imdb_score                 -0.723327\n",
       "title_year                 -2.070019"
      ]
     },
     "execution_count": 9,
     "metadata": {},
     "output_type": "execute_result"
    }
   ],
   "source": [
    "skewness = df.skew().sort_values(ascending=False)\n",
    "skewness = pd.DataFrame(skewness, columns=['skewness'])\n",
    "skewness"
   ]
  },
  {
   "cell_type": "code",
   "execution_count": 10,
   "metadata": {},
   "outputs": [
    {
     "data": {
      "image/png": "[encoded data removed]",
      "text/plain": [
       "<Figure size 1008x288 with 4 Axes>"
      ]
     },
     "metadata": {
      "needs_background": "light"
     },
     "output_type": "display_data"
    }
   ],
   "source": [
    "labels = [df['budget'], df['duration'], df['imdb_score'], df['title_year']]\n",
    "titles = ['budget', 'duration', 'imdb_score','title_year']\n",
    "fig, axes = plt.subplots(nrows=1, ncols=4, figsize=(14,4))\n",
    "\n",
    "def plot_hist(labels, titles):\n",
    "    for ax, label, title in zip(axes.flatten(), labels, titles):\n",
    "        ax.hist(label, bins=20, alpha=.7)\n",
    "        ax.set_title(title)\n",
    "        \n",
    "plot_hist(labels, titles)"
   ]
  },
  {
   "cell_type": "markdown",
   "metadata": {},
   "source": [
    "## Hands-on!\n",
    "\n",
    "Let's start by appling some transformations for the predictors for cases that fit in most common transformations [[4]](https://www.ibm.com/support/pages/transforming-variable-normality-parametric-statistics),[[5]](https://www.statisticssolutions.com/transforming-data-for-normality/):\n",
    "1. square root $\\rightarrow \\sqrt{x}$\n",
    "2. reciprocal $\\rightarrow 1/x$\n",
    "3. logarithmic $\\rightarrow log(x)$\n",
    "4. exponential $\\rightarrow e^x$\n",
    "5. power transformation $\\rightarrow x^n, n \\in \\Re$\n",
    "6. arcsine transformation $\\rightarrow arcsin(x)$"
   ]
  },
  {
   "cell_type": "markdown",
   "metadata": {},
   "source": [
    "### 1. Square Root Transformation\n",
    "\n",
    "Use if:\n",
    "- data have a <b>positive (right) skew</b>;\n",
    "- data may be <b>counts or frequencies</b>;\n",
    "- data have many <b>zeros or extremely small values</b>;\n",
    "- data may have a <b>physical (power) component</b> (e.g. area  vs. length).\n",
    "\n",
    "Applying this transformation in two predictors that have positive skew: \"budget\" (largest skew) and \"gross\", we're able to <b>reduce skew</b> for both (in the case of \"budget\", from 44 to 7.5):"
   ]
  },
  {
   "cell_type": "code",
   "execution_count": 11,
   "metadata": {
    "scrolled": false
   },
   "outputs": [
    {
     "data": {
      "text/html": [
       "<div>\n",
       "<style scoped>\n",
       "    .dataframe tbody tr th:only-of-type {\n",
       "        vertical-align: middle;\n",
       "    }\n",
       "\n",
       "    .dataframe tbody tr th {\n",
       "        vertical-align: top;\n",
       "    }\n",
       "\n",
       "    .dataframe thead th {\n",
       "        text-align: right;\n",
       "    }\n",
       "</style>\n",
       "<table border=\"1\" class=\"dataframe\">\n",
       "  <thead>\n",
       "    <tr style=\"text-align: right;\">\n",
       "      <th></th>\n",
       "      <th>skewness</th>\n",
       "      <th>square root</th>\n",
       "    </tr>\n",
       "    <tr>\n",
       "      <th>index</th>\n",
       "      <th></th>\n",
       "      <th></th>\n",
       "    </tr>\n",
       "  </thead>\n",
       "  <tbody>\n",
       "    <tr>\n",
       "      <th>budget</th>\n",
       "      <td>44.174144</td>\n",
       "      <td>7.511698</td>\n",
       "    </tr>\n",
       "    <tr>\n",
       "      <th>gross</th>\n",
       "      <td>3.029375</td>\n",
       "      <td>0.959248</td>\n",
       "    </tr>\n",
       "  </tbody>\n",
       "</table>\n",
       "</div>"
      ],
      "text/plain": [
       "         skewness  square root\n",
       "index                         \n",
       "budget  44.174144     7.511698\n",
       "gross    3.029375     0.959248"
      ]
     },
     "execution_count": 11,
     "metadata": {},
     "output_type": "execute_result"
    }
   ],
   "source": [
    "srt = df[['budget','gross']]\n",
    "srt = srt**(.5)\n",
    "srt_sk = srt.skew()\n",
    "srt_sk = pd.DataFrame(srt_sk, columns=['square root'])\n",
    "sk = skewness.reset_index().merge(srt_sk.reset_index()).set_index('index')\n",
    "sk"
   ]
  },
  {
   "cell_type": "code",
   "execution_count": 12,
   "metadata": {},
   "outputs": [
    {
     "data": {
      "image/png": "[encoded data removed]",
      "text/plain": [
       "<Figure size 1008x288 with 4 Axes>"
      ]
     },
     "metadata": {
      "needs_background": "light"
     },
     "output_type": "display_data"
    }
   ],
   "source": [
    "labels = [df['budget'],srt['budget'],df['gross'],srt['budget']]\n",
    "titles = ['budget','budget transformation','gross','gross transformation']\n",
    "fig, axes = plt.subplots(nrows=1, ncols=4, figsize=(14,4))\n",
    "plot_hist(labels, titles)"
   ]
  },
  {
   "cell_type": "markdown",
   "metadata": {},
   "source": [
    "### 2. Reciprocal transformation\n",
    "\n",
    "Use if:\n",
    "- data have a <b>positive (right) skew</b>;\n",
    "- data may have been <b>originally derived by division</b>, or <b>represents ratio</b>;\n",
    " \n",
    "PS: data must be positive, and not close to zero!\n",
    "\n",
    "Applying the transformation to \"aspect_ratio\" and \"duration\", both of which has a positive skew, we're able to <b>reduce skew</b> from 16 to -0.5, and from 2.4 to -0.24. One interesting thing here is that, if we add one to the values, the skew then becomes negative, with a better symmetry though:"
   ]
  },
  {
   "cell_type": "code",
   "execution_count": 13,
   "metadata": {},
   "outputs": [
    {
     "data": {
      "text/html": [
       "<div>\n",
       "<style scoped>\n",
       "    .dataframe tbody tr th:only-of-type {\n",
       "        vertical-align: middle;\n",
       "    }\n",
       "\n",
       "    .dataframe tbody tr th {\n",
       "        vertical-align: top;\n",
       "    }\n",
       "\n",
       "    .dataframe thead th {\n",
       "        text-align: right;\n",
       "    }\n",
       "</style>\n",
       "<table border=\"1\" class=\"dataframe\">\n",
       "  <thead>\n",
       "    <tr style=\"text-align: right;\">\n",
       "      <th></th>\n",
       "      <th>skewness</th>\n",
       "      <th>1/x</th>\n",
       "      <th>1/(x+1)</th>\n",
       "    </tr>\n",
       "    <tr>\n",
       "      <th>index</th>\n",
       "      <th></th>\n",
       "      <th></th>\n",
       "      <th></th>\n",
       "    </tr>\n",
       "  </thead>\n",
       "  <tbody>\n",
       "    <tr>\n",
       "      <th>aspect_ratio</th>\n",
       "      <td>16.014406</td>\n",
       "      <td>0.896464</td>\n",
       "      <td>-0.505866</td>\n",
       "    </tr>\n",
       "    <tr>\n",
       "      <th>duration</th>\n",
       "      <td>2.402552</td>\n",
       "      <td>0.269888</td>\n",
       "      <td>-0.236016</td>\n",
       "    </tr>\n",
       "  </tbody>\n",
       "</table>\n",
       "</div>"
      ],
      "text/plain": [
       "               skewness       1/x   1/(x+1)\n",
       "index                                      \n",
       "aspect_ratio  16.014406  0.896464 -0.505866\n",
       "duration       2.402552  0.269888 -0.236016"
      ]
     },
     "execution_count": 13,
     "metadata": {},
     "output_type": "execute_result"
    }
   ],
   "source": [
    "invert = df[['aspect_ratio','duration']]\n",
    "invert = 1/invert\n",
    "invert1 = 1/(invert+1)\n",
    "invert_sk = invert.skew()\n",
    "invert1_sk = invert1.skew()\n",
    "skew = pd.DataFrame(invert_sk, columns=['1/x'])\n",
    "skew['1/(x+1)'] = invert1_sk\n",
    "sk = skewness.reset_index().merge(skew.reset_index()).set_index('index')\n",
    "sk"
   ]
  },
  {
   "cell_type": "code",
   "execution_count": 14,
   "metadata": {},
   "outputs": [
    {
     "data": {
      "image/png": "[encoded data removed]",
      "text/plain": [
       "<Figure size 1008x288 with 4 Axes>"
      ]
     },
     "metadata": {
      "needs_background": "light"
     },
     "output_type": "display_data"
    }
   ],
   "source": [
    "labels = [df['aspect_ratio'], invert['aspect_ratio'], df['duration'], invert['duration']]\n",
    "titles = ['aspect_ratio','aspect_ratio transformation', 'duration', 'duration transformation']\n",
    "fig, axes = plt.subplots(nrows=1, ncols=4, figsize=(14,4))\n",
    "plot_hist(labels, titles)"
   ]
  },
  {
   "cell_type": "markdown",
   "metadata": {},
   "source": [
    "### 3. Logarithmic transformation\n",
    "\n",
    "Use if:\n",
    "- data have a <b>positive (right) skew</b>;\n",
    "- you suspect an <b>exponential component</b> in the data;\n",
    "- data might be best classified by <b>orders-of-magnitude</b> (e.g. 1,10,100);\n",
    "- <b>cumulative main effects</b> are <b>multiplicative</b>, rather than additive.\n",
    "\n",
    "PS: data must be positive, and the base of the logarithm is arbitrary (common bases are 10 and 2).\n",
    "\n",
    "Applying ln, log10, and log2 transformations on the predictiors \"budget\" and \"num_user_for_reviews\", and , we could <b>decrease skew</b> from 44 to -1.3, 3.8 to -0.16, respectively. So, in this case, the ln <b>transformation positively affects</b> skew:"
   ]
  },
  {
   "cell_type": "code",
   "execution_count": 15,
   "metadata": {},
   "outputs": [
    {
     "data": {
      "text/html": [
       "<div>\n",
       "<style scoped>\n",
       "    .dataframe tbody tr th:only-of-type {\n",
       "        vertical-align: middle;\n",
       "    }\n",
       "\n",
       "    .dataframe tbody tr th {\n",
       "        vertical-align: top;\n",
       "    }\n",
       "\n",
       "    .dataframe thead th {\n",
       "        text-align: right;\n",
       "    }\n",
       "</style>\n",
       "<table border=\"1\" class=\"dataframe\">\n",
       "  <thead>\n",
       "    <tr style=\"text-align: right;\">\n",
       "      <th></th>\n",
       "      <th>skewness</th>\n",
       "      <th>ln(x)</th>\n",
       "      <th>ln(x+1)</th>\n",
       "    </tr>\n",
       "    <tr>\n",
       "      <th>index</th>\n",
       "      <th></th>\n",
       "      <th></th>\n",
       "      <th></th>\n",
       "    </tr>\n",
       "  </thead>\n",
       "  <tbody>\n",
       "    <tr>\n",
       "      <th>budget</th>\n",
       "      <td>44.174144</td>\n",
       "      <td>-1.310316</td>\n",
       "      <td>-2.157166</td>\n",
       "    </tr>\n",
       "    <tr>\n",
       "      <th>num_user_for_reviews</th>\n",
       "      <td>3.844204</td>\n",
       "      <td>-0.162882</td>\n",
       "      <td>-0.817460</td>\n",
       "    </tr>\n",
       "  </tbody>\n",
       "</table>\n",
       "</div>"
      ],
      "text/plain": [
       "                       skewness     ln(x)   ln(x+1)\n",
       "index                                              \n",
       "budget                44.174144 -1.310316 -2.157166\n",
       "num_user_for_reviews   3.844204 -0.162882 -0.817460"
      ]
     },
     "execution_count": 15,
     "metadata": {},
     "output_type": "execute_result"
    }
   ],
   "source": [
    "ln = df[['budget','num_user_for_reviews']]\n",
    "ln = np.log(ln)\n",
    "ln1 = np.log(ln+1)\n",
    "ln_sk = ln.skew()\n",
    "ln1_sk = ln1.skew()\n",
    "skew = pd.DataFrame(ln_sk, columns=['ln(x)'])\n",
    "skew['ln(x+1)'] = ln1_sk\n",
    "sk = skewness.reset_index().merge(skew.reset_index()).set_index('index')\n",
    "sk"
   ]
  },
  {
   "cell_type": "code",
   "execution_count": 16,
   "metadata": {},
   "outputs": [
    {
     "data": {
      "image/png": "[encoded data removed]",
      "text/plain": [
       "<Figure size 1008x288 with 4 Axes>"
      ]
     },
     "metadata": {
      "needs_background": "light"
     },
     "output_type": "display_data"
    }
   ],
   "source": [
    "labels = [df['budget'],ln['budget'],df['num_user_for_reviews'],ln['num_user_for_reviews']]\n",
    "titles = ['budget','budget transformation','num_user_for_reviews','num_user_for_reviews transformation']\n",
    "fig, axes = plt.subplots(nrows=1, ncols=4, figsize=(14,4))\n",
    "plot_hist(labels, titles)"
   ]
  },
  {
   "cell_type": "code",
   "execution_count": 17,
   "metadata": {},
   "outputs": [
    {
     "data": {
      "text/html": [
       "<div>\n",
       "<style scoped>\n",
       "    .dataframe tbody tr th:only-of-type {\n",
       "        vertical-align: middle;\n",
       "    }\n",
       "\n",
       "    .dataframe tbody tr th {\n",
       "        vertical-align: top;\n",
       "    }\n",
       "\n",
       "    .dataframe thead th {\n",
       "        text-align: right;\n",
       "    }\n",
       "</style>\n",
       "<table border=\"1\" class=\"dataframe\">\n",
       "  <thead>\n",
       "    <tr style=\"text-align: right;\">\n",
       "      <th></th>\n",
       "      <th>skewness</th>\n",
       "      <th>log10(x)</th>\n",
       "      <th>log10(x+1)</th>\n",
       "    </tr>\n",
       "    <tr>\n",
       "      <th>index</th>\n",
       "      <th></th>\n",
       "      <th></th>\n",
       "      <th></th>\n",
       "    </tr>\n",
       "  </thead>\n",
       "  <tbody>\n",
       "    <tr>\n",
       "      <th>budget</th>\n",
       "      <td>44.174144</td>\n",
       "      <td>-1.310316</td>\n",
       "      <td>-2.061327</td>\n",
       "    </tr>\n",
       "    <tr>\n",
       "      <th>num_user_for_reviews</th>\n",
       "      <td>3.844204</td>\n",
       "      <td>-0.162882</td>\n",
       "      <td>-0.674409</td>\n",
       "    </tr>\n",
       "  </tbody>\n",
       "</table>\n",
       "</div>"
      ],
      "text/plain": [
       "                       skewness  log10(x)  log10(x+1)\n",
       "index                                                \n",
       "budget                44.174144 -1.310316   -2.061327\n",
       "num_user_for_reviews   3.844204 -0.162882   -0.674409"
      ]
     },
     "execution_count": 17,
     "metadata": {},
     "output_type": "execute_result"
    }
   ],
   "source": [
    "log = df[['budget','num_user_for_reviews']]\n",
    "log = np.log10(log)\n",
    "log1 = np.log10(log+1)\n",
    "log_sk = log.skew()\n",
    "log1_sk = log1.skew()\n",
    "skew = pd.DataFrame(log_sk, columns=['log10(x)'])\n",
    "skew['log10(x+1)'] = log1_sk\n",
    "sk = skewness.reset_index().merge(skew.reset_index()).set_index('index')\n",
    "sk"
   ]
  },
  {
   "cell_type": "code",
   "execution_count": 18,
   "metadata": {},
   "outputs": [
    {
     "data": {
      "text/html": [
       "<div>\n",
       "<style scoped>\n",
       "    .dataframe tbody tr th:only-of-type {\n",
       "        vertical-align: middle;\n",
       "    }\n",
       "\n",
       "    .dataframe tbody tr th {\n",
       "        vertical-align: top;\n",
       "    }\n",
       "\n",
       "    .dataframe thead th {\n",
       "        text-align: right;\n",
       "    }\n",
       "</style>\n",
       "<table border=\"1\" class=\"dataframe\">\n",
       "  <thead>\n",
       "    <tr style=\"text-align: right;\">\n",
       "      <th></th>\n",
       "      <th>skewness</th>\n",
       "      <th>log10(x)</th>\n",
       "      <th>log10(x+1)</th>\n",
       "    </tr>\n",
       "    <tr>\n",
       "      <th>index</th>\n",
       "      <th></th>\n",
       "      <th></th>\n",
       "      <th></th>\n",
       "    </tr>\n",
       "  </thead>\n",
       "  <tbody>\n",
       "    <tr>\n",
       "      <th>budget</th>\n",
       "      <td>44.174144</td>\n",
       "      <td>-1.310316</td>\n",
       "      <td>-2.183962</td>\n",
       "    </tr>\n",
       "    <tr>\n",
       "      <th>num_user_for_reviews</th>\n",
       "      <td>3.844204</td>\n",
       "      <td>-0.162882</td>\n",
       "      <td>-0.865840</td>\n",
       "    </tr>\n",
       "  </tbody>\n",
       "</table>\n",
       "</div>"
      ],
      "text/plain": [
       "                       skewness  log10(x)  log10(x+1)\n",
       "index                                                \n",
       "budget                44.174144 -1.310316   -2.183962\n",
       "num_user_for_reviews   3.844204 -0.162882   -0.865840"
      ]
     },
     "execution_count": 18,
     "metadata": {},
     "output_type": "execute_result"
    }
   ],
   "source": [
    "log = df[['budget','num_user_for_reviews']]\n",
    "log = np.log2(log)\n",
    "log1 = np.log2(log+1)\n",
    "log_sk = log.skew()\n",
    "log1_sk = log1.skew()\n",
    "skew = pd.DataFrame(log_sk, columns=['log10(x)'])\n",
    "skew['log10(x+1)'] = log1_sk\n",
    "sk = skewness.reset_index().merge(skew.reset_index()).set_index('index')\n",
    "sk"
   ]
  },
  {
   "cell_type": "markdown",
   "metadata": {},
   "source": [
    "### 4. Exponential transformation\n",
    "\n",
    "Use if:\n",
    "- data have a <b>negative (left) skew</b>;\n",
    "- you suspect an <b>underlying logarithmic trend</b> in the data (e.g. decay, survival, etc.);\n",
    "\n",
    "In this data, none of predicts seems to have an logarithmic trend. But applying the <b>transformation</b> in the \"imdb_score\" predictor we can see that it <b>negatively affects</b> skew:"
   ]
  },
  {
   "cell_type": "code",
   "execution_count": 19,
   "metadata": {},
   "outputs": [
    {
     "data": {
      "text/html": [
       "<div>\n",
       "<style scoped>\n",
       "    .dataframe tbody tr th:only-of-type {\n",
       "        vertical-align: middle;\n",
       "    }\n",
       "\n",
       "    .dataframe tbody tr th {\n",
       "        vertical-align: top;\n",
       "    }\n",
       "\n",
       "    .dataframe thead th {\n",
       "        text-align: right;\n",
       "    }\n",
       "</style>\n",
       "<table border=\"1\" class=\"dataframe\">\n",
       "  <thead>\n",
       "    <tr style=\"text-align: right;\">\n",
       "      <th></th>\n",
       "      <th>skewness</th>\n",
       "      <th>exp(x)</th>\n",
       "      <th>2^x</th>\n",
       "    </tr>\n",
       "    <tr>\n",
       "      <th>index</th>\n",
       "      <th></th>\n",
       "      <th></th>\n",
       "      <th></th>\n",
       "    </tr>\n",
       "  </thead>\n",
       "  <tbody>\n",
       "    <tr>\n",
       "      <th>imdb_score</th>\n",
       "      <td>-0.723327</td>\n",
       "      <td>2.537842</td>\n",
       "      <td>NaN</td>\n",
       "    </tr>\n",
       "  </tbody>\n",
       "</table>\n",
       "</div>"
      ],
      "text/plain": [
       "            skewness    exp(x)  2^x\n",
       "index                              \n",
       "imdb_score -0.723327  2.537842  NaN"
      ]
     },
     "execution_count": 19,
     "metadata": {},
     "output_type": "execute_result"
    }
   ],
   "source": [
    "exp = df[['imdb_score']]\n",
    "exp = np.exp(exp)\n",
    "exp2 = 2**exp\n",
    "exp_sk = exp.skew()\n",
    "exp2_sk = exp2.skew()\n",
    "skew = pd.DataFrame(exp_sk, columns=['exp(x)'])\n",
    "skew['2^x'] = exp2_sk\n",
    "sk = skewness.reset_index().merge(skew.reset_index()).set_index('index')\n",
    "sk"
   ]
  },
  {
   "cell_type": "markdown",
   "metadata": {},
   "source": [
    "### 5. Power transformation \n",
    "Use if:\n",
    "\n",
    "- Data have <b>negative (left) skew</b>.\n",
    "- Data may have a <b>physical (power) component</b>, such as area vs. length.\n",
    "\n",
    "After applying the power transformation to the \"imdb_score\" and \"title_year\" predictors, the skew reduced from -0.7 to -0.1, and from -2 to -1.85. In this case, the power transformation was beneficial to both predictors, and in the case of \"title_year\", an increase in the power could reduce even more the skew (the predictor is totally linear):"
   ]
  },
  {
   "cell_type": "code",
   "execution_count": 20,
   "metadata": {},
   "outputs": [
    {
     "data": {
      "text/html": [
       "<div>\n",
       "<style scoped>\n",
       "    .dataframe tbody tr th:only-of-type {\n",
       "        vertical-align: middle;\n",
       "    }\n",
       "\n",
       "    .dataframe tbody tr th {\n",
       "        vertical-align: top;\n",
       "    }\n",
       "\n",
       "    .dataframe thead th {\n",
       "        text-align: right;\n",
       "    }\n",
       "</style>\n",
       "<table border=\"1\" class=\"dataframe\">\n",
       "  <thead>\n",
       "    <tr style=\"text-align: right;\">\n",
       "      <th></th>\n",
       "      <th>skewness</th>\n",
       "      <th>x**2</th>\n",
       "      <th>x**3</th>\n",
       "    </tr>\n",
       "    <tr>\n",
       "      <th>index</th>\n",
       "      <th></th>\n",
       "      <th></th>\n",
       "      <th></th>\n",
       "    </tr>\n",
       "  </thead>\n",
       "  <tbody>\n",
       "    <tr>\n",
       "      <th>imdb_score</th>\n",
       "      <td>-0.723327</td>\n",
       "      <td>-0.104375</td>\n",
       "      <td>1.512247</td>\n",
       "    </tr>\n",
       "    <tr>\n",
       "      <th>title_year</th>\n",
       "      <td>-2.070019</td>\n",
       "      <td>-2.025674</td>\n",
       "      <td>-1.858107</td>\n",
       "    </tr>\n",
       "  </tbody>\n",
       "</table>\n",
       "</div>"
      ],
      "text/plain": [
       "            skewness      x**2      x**3\n",
       "index                                   \n",
       "imdb_score -0.723327 -0.104375  1.512247\n",
       "title_year -2.070019 -2.025674 -1.858107"
      ]
     },
     "execution_count": 20,
     "metadata": {},
     "output_type": "execute_result"
    }
   ],
   "source": [
    "power2 = df[['imdb_score','title_year']]\n",
    "power2 = power2**2\n",
    "power3 = power2**3\n",
    "p2_sk = power2.skew()\n",
    "p3_sk = power3.skew()\n",
    "skew = pd.DataFrame(p2_sk, columns=['x**2'])\n",
    "skew['x**3'] = p3_sk\n",
    "sk = skewness.reset_index().merge(skew.reset_index()).set_index('index')\n",
    "sk"
   ]
  },
  {
   "cell_type": "code",
   "execution_count": 21,
   "metadata": {},
   "outputs": [
    {
     "data": {
      "image/png": "[encoded data removed]",
      "text/plain": [
       "<Figure size 576x288 with 2 Axes>"
      ]
     },
     "metadata": {
      "needs_background": "light"
     },
     "output_type": "display_data"
    }
   ],
   "source": [
    "labels = [df['imdb_score'], power2['imdb_score']]\n",
    "titles = ['imdb_score','imdb_score transformation']\n",
    "fig, axes = plt.subplots(nrows=1, ncols=2, figsize=(8,4))\n",
    "plot_hist(labels, titles)"
   ]
  },
  {
   "cell_type": "markdown",
   "metadata": {},
   "source": [
    "### 6. Arcsine transformation\n",
    "Use if:\n",
    "\n",
    "- Data are a <b>proportion</b> ranging between 0.0 - 1.0, or <b>percentage</b> from 0 - 100.\n",
    "- <b>Most</b> data points are <b>between 0.2 - 0.8</b>, or <b>between 20 and 80</b> for <b>percentages</b>.\n",
    "\n",
    "Since we do not have any kind of data as this here, we'll not approach <i>arcsine transformation</i>."
   ]
  },
  {
   "cell_type": "markdown",
   "metadata": {},
   "source": [
    "## Other transformations for skewed data\n",
    "Now were we'll apply some more complex <b>power transformations</b> to create monotonic transformations of data using power functions, aiming to make date more <i>normal distribution-like</i> [[6]](https://en.wikipedia.org/wiki/Power_transform).\n",
    "\n",
    "The power transformations is definde as a <b>continuously varying function</b>, with respect to a parameter $\\lambda$, in a piece-wise function form that makes it continuous at the point of singularity (i.e. $\\lambda$=0)."
   ]
  },
  {
   "cell_type": "markdown",
   "metadata": {},
   "source": [
    "### 7. Box-Cox transformation\n",
    "The Box-Cox procedure uses maximum likelihood estimation to estimate a transformation parameter $\\lambda$ in the equation [[7]](https://www.ime.usp.br/~abe/lista/pdfm9cJKUmFZp.pdf),[[8]](https://docs.scipy.org/doc/scipy/reference/generated/scipy.stats.boxcox.html):\n",
    "\n",
    "$$ x = \\begin{cases} \\frac{x^{\\lambda}-1}{\\lambda} \\rightarrow \\lambda \\neq 0 \\\\ \n",
    "log(x) \\rightarrow \\lambda = 0 \\end{cases}$$\n",
    "\n",
    "It is importante to notice, though, that the Box-Cox procedure can only be applied to data that is <b>strictly positive!</b> To overcome this issue, the Yeo-Johnson procedure is addressed ahead.\n",
    "\n",
    "As we can see, skewness reduced a lot for most of the predictors. However, some variables cannot be transformed to normal distributed-like, for several different reasons (e.g. imbalanced categorical classes)."
   ]
  },
  {
   "cell_type": "code",
   "execution_count": 24,
   "metadata": {},
   "outputs": [
    {
     "data": {
      "text/plain": [
       "Index(['num_critic_for_reviews', 'duration', 'director_facebook_likes',\n",
       "       'actor_3_facebook_likes', 'actor_1_facebook_likes', 'gross',\n",
       "       'num_voted_users', 'cast_total_facebook_likes', 'facenumber_in_poster',\n",
       "       'num_user_for_reviews', 'budget', 'title_year',\n",
       "       'actor_2_facebook_likes', 'imdb_score', 'aspect_ratio',\n",
       "       'movie_facebook_likes'],\n",
       "      dtype='object')"
      ]
     },
     "execution_count": 24,
     "metadata": {},
     "output_type": "execute_result"
    }
   ],
   "source": [
    "df.columns"
   ]
  },
  {
   "cell_type": "code",
   "execution_count": 25,
   "metadata": {},
   "outputs": [
    {
     "data": {
      "text/html": [
       "<div>\n",
       "<style scoped>\n",
       "    .dataframe tbody tr th:only-of-type {\n",
       "        vertical-align: middle;\n",
       "    }\n",
       "\n",
       "    .dataframe tbody tr th {\n",
       "        vertical-align: top;\n",
       "    }\n",
       "\n",
       "    .dataframe thead th {\n",
       "        text-align: right;\n",
       "    }\n",
       "</style>\n",
       "<table border=\"1\" class=\"dataframe\">\n",
       "  <thead>\n",
       "    <tr style=\"text-align: right;\">\n",
       "      <th></th>\n",
       "      <th>skewness</th>\n",
       "      <th>box-cox</th>\n",
       "    </tr>\n",
       "  </thead>\n",
       "  <tbody>\n",
       "    <tr>\n",
       "      <th>budget</th>\n",
       "      <td>44.174144</td>\n",
       "      <td>0.138641</td>\n",
       "    </tr>\n",
       "    <tr>\n",
       "      <th>duration</th>\n",
       "      <td>2.402552</td>\n",
       "      <td>-0.163050</td>\n",
       "    </tr>\n",
       "    <tr>\n",
       "      <th>imdb_score</th>\n",
       "      <td>-0.723327</td>\n",
       "      <td>-0.021717</td>\n",
       "    </tr>\n",
       "    <tr>\n",
       "      <th>title_year</th>\n",
       "      <td>-2.070019</td>\n",
       "      <td>NaN</td>\n",
       "    </tr>\n",
       "  </tbody>\n",
       "</table>\n",
       "</div>"
      ],
      "text/plain": [
       "             skewness   box-cox\n",
       "budget      44.174144  0.138641\n",
       "duration     2.402552 -0.163050\n",
       "imdb_score  -0.723327 -0.021717\n",
       "title_year  -2.070019       NaN"
      ]
     },
     "execution_count": 25,
     "metadata": {},
     "output_type": "execute_result"
    }
   ],
   "source": [
    "from scipy.stats import skew\n",
    "from scipy.stats import boxcox as bc\n",
    "\n",
    "bc_df = df[['budget','duration','imdb_score','title_year']].replace(0, np.nan).dropna(axis=1)\n",
    "skew_bc = pd.DataFrame(bc_df.skew(), columns=['skewness'])\n",
    "\n",
    "boxcox_labels = bc_df.columns.tolist()\n",
    "boxcox = []\n",
    "for label in boxcox_labels:\n",
    "    boxcox.append(skew(bc(bc_df[label])[0]))\n",
    "\n",
    "skew_bc['box-cox'] = boxcox\n",
    "skew_bc"
   ]
  },
  {
   "cell_type": "code",
   "execution_count": 27,
   "metadata": {},
   "outputs": [
    {
     "data": {
      "image/png": "[encoded data removed]",
      "text/plain": [
       "<Figure size 1008x576 with 8 Axes>"
      ]
     },
     "metadata": {
      "needs_background": "light"
     },
     "output_type": "display_data"
    }
   ],
   "source": [
    "labels = [df['budget'], df['duration'], df['imdb_score'], df['title_year'],\n",
    "          bc(df['budget'])[0], bc(df['duration'])[0], bc(df['imdb_score'])[0], bc(df['title_year'])[0]]\n",
    "titles = ['budget', 'duration', 'imdb_score', 'title_year', 'budget box-cox',\n",
    "          'duration box-cox','imdb_score box-cox','title_year box-cox']\n",
    "fig, axes = plt.subplots(nrows = 2, ncols = 4, figsize=(14,8))\n",
    "plot_hist(labels, titles);"
   ]
  },
  {
   "cell_type": "markdown",
   "metadata": {},
   "source": [
    "### 8. Yeo-Johnson transformation\n",
    "Yeo-Johnson transformation comes to <b>address the non-zero and non-negative values</b> issue of the Box-Cox transformation. Works almost the same way, but when estimating the transformation parameter, it founds the value of $\\lambda$ that minimizes the [Kullback-Leibler distance](https://en.wikipedia.org/wiki/Kullback%E2%80%93Leibler_divergence) between the normal and transformed distribution [[7]](https://www.ime.usp.br/~abe/lista/pdfm9cJKUmFZp.pdf), [[9]](https://docs.scipy.org/doc/scipy/reference/generated/scipy.stats.yeojohnson.html):\n",
    "\n",
    "$$ x = \\begin{cases}  \\frac{(x+1)^{\\lambda} - 1}{\\lambda} \\rightarrow \\lambda \\neq 0, x >= 0 \\\\\n",
    "log(x+1) \\rightarrow \\lambda = 0, x >=0 \\\\\n",
    "\\frac{(1-x)^{2-\\lambda}-1}{\\lambda-2} \\rightarrow \\lambda \\neq 2, x < 0 \\\\\n",
    "-log(1-x) \\rightarrow \\lambda = 2, x < 0 \\end{cases}$$\n",
    "\n",
    "Here, the results were similar to the Box-Cox transformation. Nevertheless, Yeo-Johnson transformation has the big advantage of approach all possible values, in contrast to Box-Cox."
   ]
  },
  {
   "cell_type": "code",
   "execution_count": 32,
   "metadata": {},
   "outputs": [
    {
     "data": {
      "text/html": [
       "<div>\n",
       "<style scoped>\n",
       "    .dataframe tbody tr th:only-of-type {\n",
       "        vertical-align: middle;\n",
       "    }\n",
       "\n",
       "    .dataframe tbody tr th {\n",
       "        vertical-align: top;\n",
       "    }\n",
       "\n",
       "    .dataframe thead th {\n",
       "        text-align: right;\n",
       "    }\n",
       "</style>\n",
       "<table border=\"1\" class=\"dataframe\">\n",
       "  <thead>\n",
       "    <tr style=\"text-align: right;\">\n",
       "      <th></th>\n",
       "      <th>skewness</th>\n",
       "      <th>yeo-johnson</th>\n",
       "    </tr>\n",
       "  </thead>\n",
       "  <tbody>\n",
       "    <tr>\n",
       "      <th>budget</th>\n",
       "      <td>44.174144</td>\n",
       "      <td>0.138634</td>\n",
       "    </tr>\n",
       "    <tr>\n",
       "      <th>duration</th>\n",
       "      <td>2.402552</td>\n",
       "      <td>-0.162991</td>\n",
       "    </tr>\n",
       "    <tr>\n",
       "      <th>imdb_score</th>\n",
       "      <td>-0.723327</td>\n",
       "      <td>-0.015048</td>\n",
       "    </tr>\n",
       "    <tr>\n",
       "      <th>title_year</th>\n",
       "      <td>-2.070019</td>\n",
       "      <td>NaN</td>\n",
       "    </tr>\n",
       "  </tbody>\n",
       "</table>\n",
       "</div>"
      ],
      "text/plain": [
       "             skewness  yeo-johnson\n",
       "budget      44.174144     0.138634\n",
       "duration     2.402552    -0.162991\n",
       "imdb_score  -0.723327    -0.015048\n",
       "title_year  -2.070019          NaN"
      ]
     },
     "execution_count": 32,
     "metadata": {},
     "output_type": "execute_result"
    }
   ],
   "source": [
    "from scipy.stats import yeojohnson as yeo\n",
    "\n",
    "yeo_df = df[['budget','duration','imdb_score','title_year']].replace(0, np.nan).dropna(axis=1)\n",
    "skew_yeo = pd.DataFrame(yeo_df.skew(), columns=['skewness'])\n",
    "\n",
    "yeo_labels = yeo_df.columns.tolist()\n",
    "yj = []\n",
    "for label in yeo_labels:\n",
    "    yj.append(skew(yeo(yeo_df[label])[0]))\n",
    "\n",
    "skew_yeo['yeo-johnson'] = yj\n",
    "skew_yeo"
   ]
  },
  {
   "cell_type": "code",
   "execution_count": 33,
   "metadata": {},
   "outputs": [
    {
     "data": {
      "image/png": "[encoded data removed]",
      "text/plain": [
       "<Figure size 1008x576 with 8 Axes>"
      ]
     },
     "metadata": {
      "needs_background": "light"
     },
     "output_type": "display_data"
    }
   ],
   "source": [
    "labels = [df['budget'], df['duration'], df['imdb_score'], df['title_year'],\n",
    "          yeo(df['budget'])[0], yeo(df['duration'])[0], yeo(df['imdb_score'])[0], yeo(df['title_year'])[0]]\n",
    "titles = ['budget', 'duration', 'imdb_score', 'title_year', 'budget yeo-johnson',\n",
    "          'duration yeo-johnson','imdb_score yeo-johnson','title_year box-cox']\n",
    "fig, axes = plt.subplots(nrows = 2, ncols = 4, figsize=(14,8))\n",
    "plot_hist(labels, titles);"
   ]
  },
  {
   "cell_type": "markdown",
   "metadata": {},
   "source": [
    "### Highlights\n",
    "Again, for some cases the transformations had a fine result, with Yeo-Johnson transformation being slightly better than Box-Cox for the same keys. It's important to notice that <b>both transformations are unsupervised</b>, and while a transformation might <b>improve</b> the distribution, it has <b>no guarantee</b> that will <b>improve the model</b>."
   ]
  },
  {
   "cell_type": "code",
   "execution_count": 34,
   "metadata": {},
   "outputs": [
    {
     "data": {
      "text/html": [
       "<div>\n",
       "<style scoped>\n",
       "    .dataframe tbody tr th:only-of-type {\n",
       "        vertical-align: middle;\n",
       "    }\n",
       "\n",
       "    .dataframe tbody tr th {\n",
       "        vertical-align: top;\n",
       "    }\n",
       "\n",
       "    .dataframe thead th {\n",
       "        text-align: right;\n",
       "    }\n",
       "</style>\n",
       "<table border=\"1\" class=\"dataframe\">\n",
       "  <thead>\n",
       "    <tr style=\"text-align: right;\">\n",
       "      <th></th>\n",
       "      <th>skewness</th>\n",
       "      <th>box-cox</th>\n",
       "      <th>yeo-johnson</th>\n",
       "    </tr>\n",
       "    <tr>\n",
       "      <th>index</th>\n",
       "      <th></th>\n",
       "      <th></th>\n",
       "      <th></th>\n",
       "    </tr>\n",
       "  </thead>\n",
       "  <tbody>\n",
       "    <tr>\n",
       "      <th>budget</th>\n",
       "      <td>44.174144</td>\n",
       "      <td>0.138641</td>\n",
       "      <td>0.138634</td>\n",
       "    </tr>\n",
       "    <tr>\n",
       "      <th>duration</th>\n",
       "      <td>2.402552</td>\n",
       "      <td>-0.163050</td>\n",
       "      <td>-0.162991</td>\n",
       "    </tr>\n",
       "    <tr>\n",
       "      <th>imdb_score</th>\n",
       "      <td>-0.723327</td>\n",
       "      <td>-0.021717</td>\n",
       "      <td>-0.015048</td>\n",
       "    </tr>\n",
       "    <tr>\n",
       "      <th>title_year</th>\n",
       "      <td>-2.070019</td>\n",
       "      <td>NaN</td>\n",
       "      <td>NaN</td>\n",
       "    </tr>\n",
       "  </tbody>\n",
       "</table>\n",
       "</div>"
      ],
      "text/plain": [
       "             skewness   box-cox  yeo-johnson\n",
       "index                                       \n",
       "budget      44.174144  0.138641     0.138634\n",
       "duration     2.402552 -0.163050    -0.162991\n",
       "imdb_score  -0.723327 -0.021717    -0.015048\n",
       "title_year  -2.070019       NaN          NaN"
      ]
     },
     "execution_count": 34,
     "metadata": {},
     "output_type": "execute_result"
    }
   ],
   "source": [
    "comparison = skew_bc.reset_index().merge(skew_yeo, how='left').set_index('index')\n",
    "comparison"
   ]
  }
 ],
 "metadata": {
  "kernelspec": {
   "display_name": "Python 3",
   "language": "python",
   "name": "python3"
  },
  "language_info": {
   "codemirror_mode": {
    "name": "ipython",
    "version": 3
   },
   "file_extension": ".py",
   "mimetype": "text/x-python",
   "name": "python",
   "nbconvert_exporter": "python",
   "pygments_lexer": "ipython3",
   "version": "3.8.3"
  }
 },
 "nbformat": 4,
 "nbformat_minor": 4
}
